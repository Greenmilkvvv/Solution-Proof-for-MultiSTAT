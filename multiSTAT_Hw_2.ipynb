{
 "cells": [
  {
   "cell_type": "markdown",
   "metadata": {},
   "source": [
    "# multiSTAT Homework 2\n",
    "\n",
    "> $$\\text{Abstract}$$\n",
    "> This notebook is created to mark my solutions and proofs down.   \n",
    "> \n",
    "> The exercises here are from the **chapter 5&6** of the book *\"Applied Multivariate Statistical Analysis\"* by *Richard A. Johnson*.  \n",
    "> \n",
    "> Both *Python* and *R* are used to solve the problems."
   ]
  },
  {
   "cell_type": "code",
   "execution_count": 2,
   "metadata": {},
   "outputs": [],
   "source": [
    "import numpy as np\n",
    "import pandas as pd\n",
    "from scipy import stats\n",
    "import matplotlib.pyplot as plt"
   ]
  },
  {
   "cell_type": "markdown",
   "metadata": {},
   "source": [
    " ## 5.4\n",
    " > Use the sweat data in Table 5.1.(See Example 5.2.)\n",
    " > - (a)Determine the axes of the 90% confidence ellipsoid for $\\mu$. Determine the lengths of these axes.\n",
    " > \n",
    " > - (b)Construct Q–Q plots for the observations on sweat rate, sodium content, and potassium content,respectively. Construct the three possible scatter plots for pairs ofobservations.Does the multivariate normal assumption seem justified in this case? Comment."
   ]
  },
  {
   "cell_type": "code",
   "execution_count": 3,
   "metadata": {},
   "outputs": [],
   "source": [
    "path = 'D:\\A-多元统计分析\\Wichern_data\\Wichern_data\\T5-1.DAT'\n",
    "data = pd.read_csv(path, sep='\\s+', header=None)"
   ]
  },
  {
   "cell_type": "code",
   "execution_count": 4,
   "metadata": {},
   "outputs": [],
   "source": [
    "data = np.array(data).T"
   ]
  },
  {
   "cell_type": "code",
   "execution_count": 5,
   "metadata": {},
   "outputs": [
    {
     "data": {
      "text/plain": [
       "array([[ 3.7,  5.7,  3.8,  3.2,  3.1,  4.6,  2.4,  7.2,  6.7,  5.4,  3.9,\n",
       "         4.5,  3.5,  4.5,  1.5,  8.5,  4.5,  6.5,  4.1,  5.5],\n",
       "       [48.5, 65.1, 47.2, 53.2, 55.5, 36.1, 24.8, 33.1, 47.4, 54.1, 36.9,\n",
       "        58.8, 27.8, 40.2, 13.5, 56.4, 71.6, 52.8, 44.1, 40.9],\n",
       "       [ 9.3,  8. , 10.9, 12. ,  9.7,  7.9, 14. ,  7.6,  8.5, 11.3, 12.7,\n",
       "        12.3,  9.8,  8.4, 10.1,  7.1,  8.2, 10.9, 11.2,  9.4]])"
      ]
     },
     "execution_count": 5,
     "metadata": {},
     "output_type": "execute_result"
    }
   ],
   "source": [
    "data"
   ]
  },
  {
   "cell_type": "code",
   "execution_count": 6,
   "metadata": {},
   "outputs": [],
   "source": [
    "p,n = data.shape\n",
    "N = p*n"
   ]
  },
  {
   "cell_type": "code",
   "execution_count": 7,
   "metadata": {},
   "outputs": [
    {
     "data": {
      "text/plain": [
       "(3, 20, 60)"
      ]
     },
     "execution_count": 7,
     "metadata": {},
     "output_type": "execute_result"
    }
   ],
   "source": [
    "p,n,N"
   ]
  },
  {
   "cell_type": "markdown",
   "metadata": {
    "vscode": {
     "languageId": "r"
    }
   },
   "source": [
    "### (a)\n",
    "\n",
    "> Determine the axes of the 90% confidence ellipsoid for $\\mu$. Determine the lengths of these axes.\n",
    "\n",
    "$(Solution).$\n",
    "\n",
    "The confidence ellipsoid is determined by:\n",
    "$$\n",
    "n(\\bar{x}-\\mu)^TS^{-1}(\\bar{x}-\\mu) \\leq \\frac{p(n-1)}{n-p}F_{p,n-p}(\\alpha)\n",
    "$$\n",
    "or:\n",
    "$$\n",
    "(\\bar{x}-\\mu)^TS^{-1}(\\bar{x}-\\mu) \\leq \\frac{p(n-1)}{n(n-p)}F_{p,n-p}(\\alpha)\n",
    "$$"
   ]
  },
  {
   "cell_type": "code",
   "execution_count": 8,
   "metadata": {},
   "outputs": [],
   "source": [
    "bar_X = data.mean(axis=1)"
   ]
  },
  {
   "cell_type": "code",
   "execution_count": 9,
   "metadata": {},
   "outputs": [
    {
     "data": {
      "text/plain": [
       "array([ 4.64 , 45.4  ,  9.965])"
      ]
     },
     "execution_count": 9,
     "metadata": {},
     "output_type": "execute_result"
    }
   ],
   "source": [
    "bar_X"
   ]
  },
  {
   "cell_type": "code",
   "execution_count": 10,
   "metadata": {},
   "outputs": [
    {
     "data": {
      "text/plain": [
       "array([[  2.87936842,  10.01      ,  -1.80905263],\n",
       "       [ 10.01      , 199.78842105,  -5.64      ],\n",
       "       [ -1.80905263,  -5.64      ,   3.62765789]])"
      ]
     },
     "execution_count": 10,
     "metadata": {},
     "output_type": "execute_result"
    }
   ],
   "source": [
    "S = np.cov(data)\n",
    "S"
   ]
  },
  {
   "cell_type": "markdown",
   "metadata": {},
   "source": [
    "Here, we get the directions of axes through eigenvectors of $S^{-1}$."
   ]
  },
  {
   "cell_type": "code",
   "execution_count": 11,
   "metadata": {},
   "outputs": [],
   "source": [
    "eig_val, eig_vec = np.linalg.eig(S)"
   ]
  },
  {
   "cell_type": "code",
   "execution_count": 12,
   "metadata": {},
   "outputs": [
    {
     "data": {
      "text/plain": [
       "array([[-0.05084144, -0.81748351, -0.57370364],\n",
       "       [-0.99828352,  0.02487655,  0.05302042],\n",
       "       [ 0.02907156, -0.57541452,  0.81734508]])"
      ]
     },
     "execution_count": 12,
     "metadata": {},
     "output_type": "execute_result"
    }
   ],
   "source": [
    "eig_vec"
   ]
  },
  {
   "cell_type": "code",
   "execution_count": 13,
   "metadata": {},
   "outputs": [],
   "source": [
    "alpha = 1- 0.9\n",
    "\n",
    "c_square = p*(n-1)/n/(n-p) * stats.f.ppf(alpha, p, n-p)\n",
    "c = np.sqrt(c_square)"
   ]
  },
  {
   "cell_type": "code",
   "execution_count": 14,
   "metadata": {},
   "outputs": [],
   "source": [
    "axe_directions = eig_vec\n",
    "axe_lengths = np.power(eig_val, 1/2) * c"
   ]
  },
  {
   "cell_type": "code",
   "execution_count": 15,
   "metadata": {},
   "outputs": [
    {
     "name": "stdout",
     "output_type": "stream",
     "text": [
      "Axes directions are [[-0.05084144 -0.81748351 -0.57370364]\n",
      " [-0.99828352  0.02487655  0.05302042]\n",
      " [ 0.02907156 -0.57541452  0.81734508]], and their lengths are [2.54394846 0.20497264 0.38248738]\n"
     ]
    }
   ],
   "source": [
    "print(f'Axes directions are {axe_directions}, and their lengths are {axe_lengths}')"
   ]
  },
  {
   "cell_type": "markdown",
   "metadata": {},
   "source": [
    "Axes **directions** are \n",
    "- [ 0.81748351 -0.57370364  0.05084144]\n",
    "- [-0.02487655  0.05302042  0.99828352]\n",
    "- [ 0.57541452  0.81734508 -0.02907156]  \n",
    "\n",
    " and their **lengths** are respectively 0.15750257, 0.08440466, 0.0126904"
   ]
  },
  {
   "cell_type": "markdown",
   "metadata": {},
   "source": [
    "### (b)\n",
    "> Construct Q–Q plots for the observations on sweat rate, sodium content, and potassium content, **respectively**. \n",
    "> \n",
    "> Construct the three possible scatter plots for pairs of observations. \n",
    "> \n",
    "> Does the multivariate normal assumption seem justified in this case? Comment."
   ]
  },
  {
   "cell_type": "markdown",
   "metadata": {},
   "source": [
    "#### Q-Q plots for three"
   ]
  },
  {
   "cell_type": "code",
   "execution_count": 16,
   "metadata": {},
   "outputs": [
    {
     "data": {
      "text/plain": [
       "array([[ 3.7,  5.7,  3.8,  3.2,  3.1,  4.6,  2.4,  7.2,  6.7,  5.4,  3.9,\n",
       "         4.5,  3.5,  4.5,  1.5,  8.5,  4.5,  6.5,  4.1,  5.5],\n",
       "       [48.5, 65.1, 47.2, 53.2, 55.5, 36.1, 24.8, 33.1, 47.4, 54.1, 36.9,\n",
       "        58.8, 27.8, 40.2, 13.5, 56.4, 71.6, 52.8, 44.1, 40.9],\n",
       "       [ 9.3,  8. , 10.9, 12. ,  9.7,  7.9, 14. ,  7.6,  8.5, 11.3, 12.7,\n",
       "        12.3,  9.8,  8.4, 10.1,  7.1,  8.2, 10.9, 11.2,  9.4]])"
      ]
     },
     "execution_count": 16,
     "metadata": {},
     "output_type": "execute_result"
    }
   ],
   "source": [
    "data"
   ]
  },
  {
   "cell_type": "code",
   "execution_count": 17,
   "metadata": {},
   "outputs": [],
   "source": [
    "variable_names = 'sweat rate sodium content and potassium content'.strip().split()"
   ]
  },
  {
   "cell_type": "code",
   "execution_count": 18,
   "metadata": {},
   "outputs": [
    {
     "data": {
      "image/png": "[encoded data removed]",
      "text/plain": [
       "<Figure size 1200x400 with 3 Axes>"
      ]
     },
     "metadata": {},
     "output_type": "display_data"
    }
   ],
   "source": [
    "plt.style.use('default')\n",
    "fig = plt.figure(figsize=(12, 4))\n",
    "for i in range(3):\n",
    "    ax = fig.add_subplot(1, 3, i+1)\n",
    "    stats.probplot(data[i], dist='norm', plot=ax)\n",
    "    ax.set_title(f'Q-Q plot for ${variable_names[i]}$')"
   ]
  },
  {
   "cell_type": "markdown",
   "metadata": {},
   "source": [
    "#### three possible scatter plots for **pairs** of observations"
   ]
  },
  {
   "cell_type": "code",
   "execution_count": 19,
   "metadata": {},
   "outputs": [
    {
     "data": {
      "image/png": "[encoded data removed]",
      "text/plain": [
       "<Figure size 1200x400 with 3 Axes>"
      ]
     },
     "metadata": {},
     "output_type": "display_data"
    }
   ],
   "source": [
    "plt.style.use('ggplot')\n",
    "\n",
    "fig = plt.figure(figsize=(12, 4))\n",
    "\n",
    "for i in range(3):\n",
    "    for j in range(i+1, 3):\n",
    "        ax = fig.add_subplot(1, 3, i+j)\n",
    "        ax.scatter(data[i], data[j])\n",
    "        ax.set_title(f'Scatter plot for ${variable_names[i]}$ vs ${variable_names[j]}$')\n",
    "        ax.set_xlabel(variable_names[i])\n",
    "        ax.set_ylabel(variable_names[j])\n"
   ]
  },
  {
   "cell_type": "markdown",
   "metadata": {},
   "source": [
    "#### Analysis\n",
    "\n",
    "According to the **Q-Q plots**, the data for sweat rate, sodium content, and potassium content, **as individuals**, respectively distribute normally. But that's an one-dimensional analysis. \n",
    "\n",
    "When we look at the **scatter plots**, the data for sweat rate, sodium content, and potassium content, **as pairs**, basically distribute normally, for we can find that they are around some kind of centre without containing any obvious unusual pattern. \n",
    "\n",
    "Therefore, the multivariate normal assumption seems justified in this case."
   ]
  },
  {
   "cell_type": "markdown",
   "metadata": {},
   "source": [
    "## 5.6\n",
    "\n",
    "> Verify the Bonferroni inequality in (5-28) for m = 3.\n",
    "> - **Hint**: A Venn diagram for the three events and may help.\n",
    "\n",
    "$\\text{(Proof).}$"
   ]
  },
  {
   "cell_type": "markdown",
   "metadata": {},
   "source": [
    "The inequality is :\n",
    "$$\n",
    "P[\\text{all }C_i\\text{ true}] = 1 - P[\\text{at least one }C_i \\space false]\n",
    "$$ \n",
    "$$\n",
    "\\geq 1 - \\sum_{i=1}^m P[C_i\\space false]= 1 - \\sum_{i=1}^m (1 - P(C_i \\space true)) \n",
    "$$\n",
    "$$\n",
    "= 1 - (\\alpha_1 +\\alpha_2+ \\dots +\\alpha_m)\n",
    "$$"
   ]
  },
  {
   "cell_type": "markdown",
   "metadata": {},
   "source": [
    "似乎有一个Python Package, **matplotlib_venn**, 能够画出Venn diagram(维恩图)."
   ]
  },
  {
   "cell_type": "code",
   "execution_count": 20,
   "metadata": {},
   "outputs": [],
   "source": [
    "# 导入维恩图包\n",
    "from matplotlib_venn import venn3, venn3_circles "
   ]
  },
  {
   "cell_type": "markdown",
   "metadata": {},
   "source": [
    "venn3是画图函数，venn3_circles是用于修改参数"
   ]
  },
  {
   "cell_type": "code",
   "execution_count": 21,
   "metadata": {},
   "outputs": [],
   "source": [
    "# 生成随机数\n",
    "import random\n",
    "\n",
    "np.random.seed(0)\n",
    "group1 = np.random.randint(1, 15, 10)\n",
    "\n",
    "np.random.seed(1)\n",
    "group2 = np.random.randint(1, 15, 10)\n",
    "\n",
    "np.random.seed(2)\n",
    "group3 = np.random.randint(1, 15, 10)"
   ]
  },
  {
   "cell_type": "code",
   "execution_count": 22,
   "metadata": {},
   "outputs": [
    {
     "data": {
      "image/png": "[encoded data removed]",
      "text/plain": [
       "<Figure size 640x480 with 1 Axes>"
      ]
     },
     "metadata": {},
     "output_type": "display_data"
    }
   ],
   "source": [
    "plt.style.use('ggplot')\n",
    "\n",
    "set1 = set(group1)\n",
    "set2 = set(group2)\n",
    "set3 = set(group3)\n",
    "\n",
    "# 利用venn3快速创建3组-输入集合\n",
    "v= venn3(subsets = [set1, set2, set3], set_labels = ('$C_1$', '$C_2$', '$C_3$'))"
   ]
  },
  {
   "cell_type": "markdown",
   "metadata": {},
   "source": [
    "#### Complete Proof of It:\n",
    "\n",
    "We want to prove that for any finite collection of events \\( A_1, A_2, \\ldots, A_n \\), the following inequality holds:\n",
    "\n",
    "$$\n",
    "P\\left(\\bigcup_{i=1}^n A_i\\right) \\leq \\sum_{i=1}^n P(A_i)\n",
    "$$\n",
    "\n",
    "##### Step 1: Base Case (n = 2)\n",
    "\n",
    "For two events \\( A_1 \\) and \\( A_2 \\), we use the principle of inclusion-exclusion:\n",
    "\n",
    "$$\n",
    "P(A_1 \\cup A_2) = P(A_1) + P(A_2) - P(A_1 \\cap A_2)\n",
    "$$\n",
    "\n",
    "Since probabilities are non-negative, \\( P(A_1 \\cap A_2) \\geq 0 \\), thus:\n",
    "\n",
    "$$\n",
    "P(A_1 \\cup A_2) \\leq P(A_1) + P(A_2)\n",
    "$$\n",
    "\n",
    "This establishes the base case.\n",
    "\n",
    "##### Step 2: Inductive Step\n",
    "\n",
    "Assume the inequality holds for \\( n = k \\), i.e.,\n",
    "\n",
    "$$\n",
    "P\\left(\\bigcup_{i=1}^k A_i\\right) \\leq \\sum_{i=1}^k P(A_i)\n",
    "$$\n",
    "\n",
    "We need to show it holds for \\( n = k + 1 \\).\n",
    "\n",
    "Consider $( A_1, A_2, \\dots, A_k, A_{k+1} )$. We can write:\n",
    "\n",
    "$$\n",
    "P\\left(\\bigcup_{i=1}^{k+1} A_i\\right) = P\\left(\\left(\\bigcup_{i=1}^k A_i\\right) \\cup A_{k+1}\\right)\n",
    "$$\n",
    "\n",
    "Using the principle of inclusion-exclusion for this union:\n",
    "\n",
    "$$\n",
    "P\\left(\\left(\\bigcup_{i=1}^k A_i\\right) \\cup A_{k+1}\\right) = P\\left(\\bigcup_{i=1}^k A_i\\right) + P(A_{k+1}) - P\\left(\\left(\\bigcup_{i=1}^k A_i\\right) \\cap A_{k+1}\\right)\n",
    "$$\n",
    "\n",
    "By the inductive hypothesis:\n",
    "\n",
    "$$\n",
    "P\\left(\\bigcup_{i=1}^k A_i\\right) \\leq \\sum_{i=1}^k P(A_i)\n",
    "$$\n",
    "\n",
    "Also, since \\( \\left(\\bigcup_{i=1}^k A_i\\right) \\cap A_{k+1} \\subseteq \\bigcup_{i=1}^k A_i \\), we have:\n",
    "\n",
    "$$\n",
    "P\\left(\\left(\\bigcup_{i=1}^k A_i\\right) \\cap A_{k+1}\\right) \\leq P\\left(\\bigcup_{i=1}^k A_i\\right)\n",
    "$$\n",
    "\n",
    "Thus:\n",
    "\n",
    "$$\n",
    "P\\left(\\left(\\bigcup_{i=1}^k A_i\\right) \\cup A_{k+1}\\right) \\leq \\sum_{i=1}^k P(A_i) + P(A_{k+1}) - P\\left(\\bigcup_{i=1}^k A_i\\right)\n",
    "$$\n",
    "\n",
    "Since $( P\\left(\\bigcup_{i=1}^k A_i\\right) \\geq 0 )$:\n",
    "\n",
    "$$\n",
    "P\\left(\\bigcup_{i=1}^{k+1} A_i\\right) \\leq \\sum_{i=1}^k P(A_i) + P(A_{k+1})\n",
    "$$\n",
    "\n",
    "$$\n",
    "P\\left(\\bigcup_{i=1}^{k+1} A_i\\right) \\leq \\sum_{i=1}^{k+1} P(A_i)\n",
    "$$\n",
    "\n",
    "This completes the inductive step.\n",
    "\n",
    "##### Conclusion\n",
    "\n",
    "By mathematical induction, we have shown that for any finite collection of events \\( A_1, A_2, \\ldots, A_n \\):\n",
    "\n",
    "$$\n",
    "P\\left(\\bigcup_{i=1}^n A_i\\right) \\leq \\sum_{i=1}^n P(A_i)\n",
    "$$"
   ]
  },
  {
   "cell_type": "markdown",
   "metadata": {},
   "source": [
    "## 5.15\n",
    "> Let $X_{ji}$ and $X_{jk}$ be the $ith$ and $kth$ components, respectively, of $X_j$.\n",
    "> - (a) Show that $\\mu_i\\space and\\space E(X_{ji})=p_i$ and $\\sigma_{ii}=Var(X_{ji})=p_i(1-p_i),i=1,2,...,p$.\n",
    "> \n",
    "> - (b) Show that $\\sigma_{ik} = Cov(X_{ji}, X_{jk}) = -p_ip_k$. Why must this covariance necessarily be negative?\n",
    ">\n",
    "> $(Proof)$."
   ]
  },
  {
   "cell_type": "markdown",
   "metadata": {},
   "source": [
    " ### (a)\n",
    "\n",
    " $E(X_{ij})=1 \\times p_i + 0 \\times (1-p_i)=p_i$ <br>\n",
    " $Var(X_{ij})=E(X_{ij}^2)-[E(X_{ij})]^2=p_i-p_i^2=p_i(1-p_i)$"
   ]
  },
  {
   "cell_type": "markdown",
   "metadata": {},
   "source": [
    "### (b)\n",
    "\n",
    "$Cov(X_{ji},X_{jk}) = E(X_{ji}X_{jk})-E(X_{ji})E(X_{jk})$\n",
    "$= 0 - p_ip_k = -p_ip_k$"
   ]
  },
  {
   "cell_type": "markdown",
   "metadata": {},
   "source": [
    "## 5.16\n",
    "> As part of a larger marketing research project, a consultant for the Bank of Shorewood wants to know the proportion of savers that uses the bank’s facilities as their primary vehicle for saving. The consultant would also like to know the proportions of savers who use the three major competitors: Bank B, Bank C, and Bank D. Each individual contacted in a survey responded to the following question:\n",
    ">\n",
    "\n",
    "<img src=\"D:/A-多元统计分析/Homeworks/5.16.png\" width=\"40%\">"
   ]
  },
  {
   "cell_type": "markdown",
   "metadata": {},
   "source": [
    "### (a)\n",
    "\n",
    "Obviously the interval is given by:\n",
    "$$\n",
    "\\hat{p}_j \\pm \\sqrt{x_4^2(0.05)}\\sqrt{\\hat{p}_j(1-\\hat{p}_j)/n}\n",
    "$$\n",
    "So the confidence interval, respectively is:\n",
    " (0.221, 0.370), (0.258, 0.412), (0.098, 0.217), (0.029, 0.112), (0.084, 0.198)"
   ]
  },
  {
   "cell_type": "markdown",
   "metadata": {},
   "source": [
    "### (b)\n",
    "> Construct a simultaneous **95% confidence interval** that allows a comparison of the Bank of Shorewood with its major competitor, Bank B. \n",
    "> \n",
    "> Interpret this interval."
   ]
  },
  {
   "cell_type": "markdown",
   "metadata": {},
   "source": [
    "We set $a = (1,-1,0,0,0)^T$, $a^T\\mu$'s 1-$\\alpha$ confidence interval is:\n",
    "$$\n",
    "a^T\\bar{X} \\pm \\sqrt{x_4^2(\\alpha)}\\sqrt{\\frac{a^T S a}{n}}\n",
    "$$"
   ]
  },
  {
   "cell_type": "markdown",
   "metadata": {},
   "source": [
    "Note that $a^T S a = \\begin{pmatrix}1 & -1 \\\\ \\end{pmatrix} \\Sigma_{X_1,X_2}\\begin{pmatrix} 1\\\\-1 \\end{pmatrix}$"
   ]
  },
  {
   "cell_type": "markdown",
   "metadata": {},
   "source": [
    "With $\\Sigma_{X_1,X_2}=\\begin{pmatrix} Cov(X_1) & Cov(X_1,X_2)\\\\ Cov(X_2,X_1) & Cov(X_2)\\end{pmatrix}$ <br>\n",
    "\n",
    "$a^TSa$\n",
    "$= \\begin{pmatrix}Cov(X_1)-Cov(X_2,X_1)& Cov(X_1,X_2)-Cov(X_2) \\end{pmatrix} \\begin{pmatrix} 1\\\\-1 \\end{pmatrix}$ <br>\n",
    "$= Cov(X_1) + Cov(X_2) -2Cov(X_1,X_2)$ <br>\n",
    "$= p_1(1-p_1) + p_2(1-p_2) -2(-p_1p_2)  $"
   ]
  },
  {
   "cell_type": "code",
   "execution_count": 23,
   "metadata": {},
   "outputs": [
    {
     "data": {
      "text/plain": [
       "0.14951853610189217"
      ]
     },
     "execution_count": 23,
     "metadata": {},
     "output_type": "execute_result"
    }
   ],
   "source": [
    "average_X = np.array([0.3,0.33,0.16,0.07,0.14])\n",
    "\n",
    "a = np.array([1,-1,0,0,0])\n",
    "alpha = 1 - 0.95\n",
    "p1,p2 = 0.3,0.33\n",
    "aT_S_a = p1*(1-p1) + p2*(1-p2) + 2*p1*p2\n",
    " \n",
    "the_later_formula = np.sqrt(stats.chi2.ppf(alpha,4))* np.sqrt(aT_S_a /n)\n",
    "the_later_formula"
   ]
  },
  {
   "cell_type": "code",
   "execution_count": 24,
   "metadata": {},
   "outputs": [
    {
     "name": "stdout",
     "output_type": "stream",
     "text": [
      "The 95% confidence interval of the difference of proportion       of savers of Bank of Shorewood with Bank B is:       \n",
      "(-0.1795185361018922 , 0.11951853610189214)\n"
     ]
    }
   ],
   "source": [
    "the_front_formula = p1 - p2\n",
    "\n",
    "print(f'The 95% confidence interval of the difference of proportion\\\n",
    "       of savers of Bank of Shorewood with Bank B is:\\\n",
    "       \\n({the_front_formula - the_later_formula} , {the_front_formula + the_later_formula})')"
   ]
  },
  {
   "cell_type": "markdown",
   "metadata": {},
   "source": [
    "The confidence interval is $$(-0.1795185361018922 , 0.11951853610189214)$$"
   ]
  },
  {
   "cell_type": "markdown",
   "metadata": {},
   "source": [
    "## 5.20\n",
    "> A wildlife ecologist measured $x_1$ = tail length (in millimeters) and $x_2$=wing length (in millimeters) for a sample of $n$ = 45 female hook-billed kites. These data are displayed in $Table\\space 5.12$. Using the data in the table,\n",
    "> ***\n",
    "> $$\\text{data is shown below}$$\n",
    "> ***"
   ]
  },
  {
   "cell_type": "code",
   "execution_count": 25,
   "metadata": {},
   "outputs": [],
   "source": [
    "path = 'D:\\A-多元统计分析\\Wichern_data\\Wichern_data\\T5-12.dat'\n",
    "data = pd.read_csv(path, sep='\\s+', header= None)"
   ]
  },
  {
   "cell_type": "code",
   "execution_count": 26,
   "metadata": {},
   "outputs": [
    {
     "data": {
      "text/html": [
       "<div>\n",
       "<style scoped>\n",
       "    .dataframe tbody tr th:only-of-type {\n",
       "        vertical-align: middle;\n",
       "    }\n",
       "\n",
       "    .dataframe tbody tr th {\n",
       "        vertical-align: top;\n",
       "    }\n",
       "\n",
       "    .dataframe thead th {\n",
       "        text-align: right;\n",
       "    }\n",
       "</style>\n",
       "<table border=\"1\" class=\"dataframe\">\n",
       "  <thead>\n",
       "    <tr style=\"text-align: right;\">\n",
       "      <th></th>\n",
       "      <th>0</th>\n",
       "      <th>1</th>\n",
       "    </tr>\n",
       "  </thead>\n",
       "  <tbody>\n",
       "    <tr>\n",
       "      <th>0</th>\n",
       "      <td>191</td>\n",
       "      <td>284</td>\n",
       "    </tr>\n",
       "    <tr>\n",
       "      <th>1</th>\n",
       "      <td>197</td>\n",
       "      <td>285</td>\n",
       "    </tr>\n",
       "    <tr>\n",
       "      <th>2</th>\n",
       "      <td>208</td>\n",
       "      <td>288</td>\n",
       "    </tr>\n",
       "    <tr>\n",
       "      <th>3</th>\n",
       "      <td>180</td>\n",
       "      <td>273</td>\n",
       "    </tr>\n",
       "    <tr>\n",
       "      <th>4</th>\n",
       "      <td>180</td>\n",
       "      <td>275</td>\n",
       "    </tr>\n",
       "  </tbody>\n",
       "</table>\n",
       "</div>"
      ],
      "text/plain": [
       "     0    1\n",
       "0  191  284\n",
       "1  197  285\n",
       "2  208  288\n",
       "3  180  273\n",
       "4  180  275"
      ]
     },
     "execution_count": 26,
     "metadata": {},
     "output_type": "execute_result"
    }
   ],
   "source": [
    "data.head()"
   ]
  },
  {
   "cell_type": "code",
   "execution_count": 27,
   "metadata": {},
   "outputs": [
    {
     "data": {
      "text/html": [
       "<div>\n",
       "<style scoped>\n",
       "    .dataframe tbody tr th:only-of-type {\n",
       "        vertical-align: middle;\n",
       "    }\n",
       "\n",
       "    .dataframe tbody tr th {\n",
       "        vertical-align: top;\n",
       "    }\n",
       "\n",
       "    .dataframe thead th {\n",
       "        text-align: right;\n",
       "    }\n",
       "</style>\n",
       "<table border=\"1\" class=\"dataframe\">\n",
       "  <thead>\n",
       "    <tr style=\"text-align: right;\">\n",
       "      <th></th>\n",
       "      <th>0</th>\n",
       "      <th>1</th>\n",
       "    </tr>\n",
       "  </thead>\n",
       "  <tbody>\n",
       "    <tr>\n",
       "      <th>40</th>\n",
       "      <td>186</td>\n",
       "      <td>262</td>\n",
       "    </tr>\n",
       "    <tr>\n",
       "      <th>41</th>\n",
       "      <td>174</td>\n",
       "      <td>245</td>\n",
       "    </tr>\n",
       "    <tr>\n",
       "      <th>42</th>\n",
       "      <td>181</td>\n",
       "      <td>250</td>\n",
       "    </tr>\n",
       "    <tr>\n",
       "      <th>43</th>\n",
       "      <td>189</td>\n",
       "      <td>262</td>\n",
       "    </tr>\n",
       "    <tr>\n",
       "      <th>44</th>\n",
       "      <td>188</td>\n",
       "      <td>258</td>\n",
       "    </tr>\n",
       "  </tbody>\n",
       "</table>\n",
       "</div>"
      ],
      "text/plain": [
       "      0    1\n",
       "40  186  262\n",
       "41  174  245\n",
       "42  181  250\n",
       "43  189  262\n",
       "44  188  258"
      ]
     },
     "execution_count": 27,
     "metadata": {},
     "output_type": "execute_result"
    }
   ],
   "source": [
    "data.tail()"
   ]
  },
  {
   "cell_type": "code",
   "execution_count": 28,
   "metadata": {},
   "outputs": [],
   "source": [
    "p,n=2,45"
   ]
  },
  {
   "cell_type": "markdown",
   "metadata": {},
   "source": [
    "$$\\text{Happy Hunting}$$"
   ]
  },
  {
   "cell_type": "markdown",
   "metadata": {},
   "source": [
    "### (a)\n",
    ">  Find and sketch the 95% confidence ellipse for the population means $\\mu_1$ and $\\mu_2$.\n",
    "Suppose it is known that $\\mu_1$ = 190 mm and $\\mu_2$ = 275 mm for $male$ hook-billed kites. Are these plausible values for the mean tail length and mean wing length for the female birds? Explain.\n",
    "\n",
    "$(Answer).$"
   ]
  },
  {
   "cell_type": "markdown",
   "metadata": {},
   "source": [
    "#### Confidence Ellipse\n",
    "The 95% confidence ellipse is given by:\n",
    "$$\\{\\mu: n(\\bar{x}-\\mu)S^{-1}(\\bar{x}-\\mu) \\leq \\frac{p(n-1)}{(n-p)} F_{p,n-p} (\\alpha) \\}$$"
   ]
  },
  {
   "cell_type": "markdown",
   "metadata": {},
   "source": [
    "$c^2=\\frac{1}{n}\\space \\frac{p(n-1)}{(n-p)} F_{p,n-p} (\\alpha)\\text{, }$\n",
    "\n",
    "$n(\\bar{x}-\\mu)S^{-1}(\\bar{x}-\\mu) \\leq c^2$"
   ]
  },
  {
   "cell_type": "code",
   "execution_count": 29,
   "metadata": {},
   "outputs": [
    {
     "data": {
      "text/plain": [
       "(0.38234572396925665,\n",
       " array([[120.69494949, 122.3459596 ],\n",
       "        [122.3459596 , 208.54040404]]))"
      ]
     },
     "execution_count": 29,
     "metadata": {},
     "output_type": "execute_result"
    }
   ],
   "source": [
    "alpha = 0.05\n",
    "\n",
    "c = np.sqrt((p*(n-1))/(n*(n-p)) * stats.f.ppf(1 - alpha, p, n-p))\n",
    "S = np.cov(data.T)\n",
    "\n",
    "c,S"
   ]
  },
  {
   "cell_type": "code",
   "execution_count": 30,
   "metadata": {},
   "outputs": [
    {
     "data": {
      "text/plain": [
       "(array([ 34.62637013, 294.6089834 ]),\n",
       " array([[-0.8178905 , -0.57537391],\n",
       "        [ 0.57537391, -0.8178905 ]]))"
      ]
     },
     "execution_count": 30,
     "metadata": {},
     "output_type": "execute_result"
    }
   ],
   "source": [
    "eig_vals, eig_vecs = np.linalg.eig(S)\n",
    "eig_vals, eig_vecs"
   ]
  },
  {
   "cell_type": "code",
   "execution_count": 31,
   "metadata": {},
   "outputs": [],
   "source": [
    "axe1, axe2 = c* np.sqrt(eig_vals[0])* eig_vecs[0], c* np.sqrt(eig_vals[1])* eig_vecs[1]"
   ]
  },
  {
   "cell_type": "code",
   "execution_count": 32,
   "metadata": {},
   "outputs": [
    {
     "data": {
      "text/plain": [
       "(array([-1.84015702, -1.29452334]), array([ 3.77597748, -5.36752891]))"
      ]
     },
     "execution_count": 32,
     "metadata": {},
     "output_type": "execute_result"
    }
   ],
   "source": [
    "axe1, axe2"
   ]
  },
  {
   "cell_type": "code",
   "execution_count": 33,
   "metadata": {},
   "outputs": [],
   "source": [
    "lengths = [c* np.sqrt(eig_vals[0]), c* np.sqrt(eig_vals[1])]"
   ]
  },
  {
   "cell_type": "code",
   "execution_count": 34,
   "metadata": {},
   "outputs": [
    {
     "data": {
      "text/plain": [
       "[2.249881895780069, 6.562649807424487]"
      ]
     },
     "execution_count": 34,
     "metadata": {},
     "output_type": "execute_result"
    }
   ],
   "source": [
    "lengths"
   ]
  },
  {
   "cell_type": "code",
   "execution_count": 35,
   "metadata": {},
   "outputs": [],
   "source": [
    "centre = data.mean(axis=0)"
   ]
  },
  {
   "cell_type": "code",
   "execution_count": 36,
   "metadata": {},
   "outputs": [
    {
     "data": {
      "text/plain": [
       "0    193.622222\n",
       "1    279.777778\n",
       "dtype: float64"
      ]
     },
     "execution_count": 36,
     "metadata": {},
     "output_type": "execute_result"
    }
   ],
   "source": [
    "centre"
   ]
  },
  {
   "cell_type": "code",
   "execution_count": 37,
   "metadata": {},
   "outputs": [
    {
     "data": {
      "text/plain": [
       "54.87417847918776"
      ]
     },
     "execution_count": 37,
     "metadata": {},
     "output_type": "execute_result"
    }
   ],
   "source": [
    "# 求解旋转角 角度制\n",
    "angle_tan = eig_vecs[0][0]/eig_vecs[0][1]\n",
    "angle = np.arctan(angle_tan)\n",
    "angle = angle * 180/np.pi\n",
    "angle"
   ]
  },
  {
   "cell_type": "markdown",
   "metadata": {},
   "source": [
    "The last cell shows the axes of the ellipse, while the centre of it is $(193.622222, 279.777778)$."
   ]
  },
  {
   "cell_type": "code",
   "execution_count": 38,
   "metadata": {},
   "outputs": [
    {
     "data": {
      "image/png": "[encoded data removed]",
      "text/plain": [
       "<Figure size 640x480 with 1 Axes>"
      ]
     },
     "metadata": {},
     "output_type": "display_data"
    }
   ],
   "source": [
    "\"\"\" 使用Ellipse类绘制椭圆 \"\"\"\n",
    "import matplotlib.pyplot as plt\n",
    "from matplotlib.patches import Ellipse\n",
    "\n",
    "fig, ax = plt.subplots()\n",
    "plt.style.use('default')\n",
    "\n",
    "# 创建一个椭圆， 参数分别为xy=中心坐标、长轴长度、短轴长度和旋转角度\n",
    "ellipse = Ellipse(xy= centre, width= 2* max(lengths), height= 2* min(lengths), angle= angle, color='grey')\n",
    "\n",
    "\n",
    "ax.add_artist(ellipse)\n",
    "\n",
    "ax.set_xlim(185, 205)\n",
    "ax.set_ylim(270, 290)\n",
    "\n",
    "plt.scatter(centre[0], centre[1], color='blue', marker='x')\n",
    "\n",
    "plt.grid(True)\n",
    "plt.show()"
   ]
  },
  {
   "cell_type": "markdown",
   "metadata": {},
   "source": [
    "***\n",
    "#### Tests\n",
    "Here we turn to the **CI for $a^T\\mu$**, supported by **T-statistic**.\n",
    "$$\n",
    "t = \\frac{\\sqrt{n}(a^T\\bar{x}-a^T\\mu)}{\\sqrt{a^T S a}} \\sim t_{n-1}\n",
    "$$"
   ]
  },
  {
   "cell_type": "code",
   "execution_count": 39,
   "metadata": {},
   "outputs": [
    {
     "data": {
      "text/plain": [
       "2.015367569912941"
      ]
     },
     "execution_count": 39,
     "metadata": {},
     "output_type": "execute_result"
    }
   ],
   "source": [
    "alpha = 0.05\n",
    "quantile = stats.t.ppf(1-alpha/2, n-1)\n",
    "quantile"
   ]
  },
  {
   "cell_type": "markdown",
   "metadata": {},
   "source": [
    "For female samples' data we do the following Hypothesis Tests:\n",
    "1. $H_0: \\mu_1 = 190 \\text{  vs  } H_1: \\mu_1 \\neq 190$\n",
    "2. $H_0: \\mu_2 = 275 \\text{  vs  } H_1: \\mu_2 \\neq 275$\n",
    "\n",
    "- for test one: $\\alpha= (1,0)^T$\n",
    "- for test two: $\\alpha= (0,1)^T$\n",
    "\n",
    "For $a = (1,0)^T$, if **t statistic** is out of $(t_{1-\\alpha/2,n-1},t_{\\alpha/2,n-1})$, then we reject the first $H_0$.<br>\n",
    "For $a = (0,1)^T$, if **t statistic** is out of $(t_{1-\\alpha/2,n-1},t_{\\alpha/2,n-1})$, then we reject the second $H_0$."
   ]
  },
  {
   "cell_type": "markdown",
   "metadata": {},
   "source": [
    "##### test1:"
   ]
  },
  {
   "cell_type": "code",
   "execution_count": 40,
   "metadata": {},
   "outputs": [],
   "source": [
    "mean_x = data.mean(axis=0)\n",
    "S = np.cov(data.T)"
   ]
  },
  {
   "cell_type": "code",
   "execution_count": 41,
   "metadata": {},
   "outputs": [],
   "source": [
    "a = np.array([1,0])\n",
    "mu = np.array([190,275])\n",
    "t_stat_1 = np.sqrt(n) * (a.T @ mean_x - a.T @ mu) / np.sqrt(a.T @ S @ a)"
   ]
  },
  {
   "cell_type": "code",
   "execution_count": 42,
   "metadata": {},
   "outputs": [
    {
     "data": {
      "text/plain": [
       "True"
      ]
     },
     "execution_count": 42,
     "metadata": {},
     "output_type": "execute_result"
    }
   ],
   "source": [
    "t_stat_1 > quantile"
   ]
  },
  {
   "cell_type": "markdown",
   "metadata": {},
   "source": [
    "##### test2"
   ]
  },
  {
   "cell_type": "code",
   "execution_count": 43,
   "metadata": {},
   "outputs": [],
   "source": [
    "a = np.array([0,1])\n",
    "t_stat_2 = np.sqrt(n) * (a.T @ mean_x - a.T @ mu) / np.sqrt(a.T @ S @ a)"
   ]
  },
  {
   "cell_type": "code",
   "execution_count": 44,
   "metadata": {},
   "outputs": [
    {
     "data": {
      "text/plain": [
       "(2.21940774736722, True)"
      ]
     },
     "execution_count": 44,
     "metadata": {},
     "output_type": "execute_result"
    }
   ],
   "source": [
    "t_stat_2, t_stat_2 > quantile"
   ]
  },
  {
   "cell_type": "markdown",
   "metadata": {},
   "source": [
    "As is shown above, the two tests are **rejected**, which means that the values of $\\mu_1$ and $\\mu_2$ are not plausible for female hook-billed kites."
   ]
  },
  {
   "cell_type": "markdown",
   "metadata": {},
   "source": [
    "***"
   ]
  },
  {
   "cell_type": "markdown",
   "metadata": {},
   "source": [
    "### (b)\n",
    ">  Construct the simultaneous 95% $T^2$-intervals for $\\mu_1$ and $\\mu_2$ and the 95% Bonferroni intervals for $\\mu_1$ and $\\mu_2$. <br>\n",
    "> \n",
    "> Compare the two sets of intervals. What advantage,if any, do the $T^2$-intervals have over the Bonferroni intervals?\n",
    "\n",
    "$(Answer).$"
   ]
  },
  {
   "cell_type": "markdown",
   "metadata": {},
   "source": [
    "#### 95% $T^2$-intervals"
   ]
  },
  {
   "cell_type": "markdown",
   "metadata": {},
   "source": [
    "$\n",
    "a^T\\bar{x}-c\\sqrt{\\frac{a^TSa}{n}} \\leq\n",
    "a^T\\mu \\leq\n",
    "a^T\\bar{x}+c\\sqrt{\\frac{a^TSa}{n}}\n",
    "$"
   ]
  },
  {
   "cell_type": "markdown",
   "metadata": {},
   "source": [
    "$c^2 = \\frac{p(n-1)}{n-p} F_{p,n-p} (\\alpha)$"
   ]
  },
  {
   "cell_type": "code",
   "execution_count": 45,
   "metadata": {},
   "outputs": [
    {
     "data": {
      "text/plain": [
       "3.2144803278830416"
      ]
     },
     "execution_count": 45,
     "metadata": {},
     "output_type": "execute_result"
    }
   ],
   "source": [
    "alpha = 1 - 0.95\n",
    "\n",
    "quantile = stats.f.ppf(1-alpha, p, n-p)\n",
    "\n",
    "quantile"
   ]
  },
  {
   "cell_type": "code",
   "execution_count": 46,
   "metadata": {},
   "outputs": [],
   "source": [
    "c = np.sqrt(p*(n-1)/(n-p)*quantile)"
   ]
  },
  {
   "cell_type": "markdown",
   "metadata": {},
   "source": [
    "##### $\\mu_1$\n",
    "We set $a = (1,0)^T$"
   ]
  },
  {
   "cell_type": "code",
   "execution_count": 47,
   "metadata": {},
   "outputs": [
    {
     "data": {
      "text/plain": [
       "(189.42172418403118, 197.8227202604133)"
      ]
     },
     "execution_count": 47,
     "metadata": {},
     "output_type": "execute_result"
    }
   ],
   "source": [
    "a = np.array([1,0])\n",
    "\n",
    "low = a.T @ mean_x - c * np.sqrt(a.T @ S @ a / n)\n",
    "high = a.T @ mean_x + c * np.sqrt(a.T @ S @ a / n)\n",
    "\n",
    "CI_mu1 = low, high\n",
    "CI_mu1"
   ]
  },
  {
   "cell_type": "markdown",
   "metadata": {},
   "source": [
    "##### $\\mu_2$"
   ]
  },
  {
   "cell_type": "markdown",
   "metadata": {},
   "source": [
    "We set $a = (0,1)^T$"
   ]
  },
  {
   "cell_type": "code",
   "execution_count": 48,
   "metadata": {},
   "outputs": [
    {
     "data": {
      "text/plain": [
       "(274.25635067321497, 285.2992048823406)"
      ]
     },
     "execution_count": 48,
     "metadata": {},
     "output_type": "execute_result"
    }
   ],
   "source": [
    "a = np.array([0,1])\n",
    "\n",
    "low = a.T @ mean_x - c * np.sqrt(a.T @ S @ a / n)\n",
    "high = a.T @ mean_x + c * np.sqrt(a.T @ S @ a / n)\n",
    "\n",
    "CI_mu2 = low, high\n",
    "CI_mu2"
   ]
  },
  {
   "cell_type": "code",
   "execution_count": 49,
   "metadata": {},
   "outputs": [
    {
     "data": {
      "image/png": "[encoded data removed]",
      "text/plain": [
       "<Figure size 640x480 with 1 Axes>"
      ]
     },
     "metadata": {},
     "output_type": "display_data"
    }
   ],
   "source": [
    "plt.style.use('default')\n",
    "\n",
    "fig, ax = plt.subplots()\n",
    "plt.style.use('default')\n",
    "\n",
    "# 创建一个椭圆， 参数分别为xy=中心坐标、长轴长度、短轴长度和旋转角度\n",
    "ellipse = Ellipse(xy= centre, width= 2* max(lengths), height= 2* min(lengths), angle= angle, color='grey')\n",
    "\n",
    "\n",
    "ax.add_artist(ellipse)\n",
    "\n",
    "ax.set_xlim(185, 205)\n",
    "ax.set_ylim(270, 290)\n",
    "\n",
    "plt.scatter(centre[0], centre[1], color='black', marker='o')\n",
    "\n",
    "plt.grid(False)\n",
    "\n",
    "plt.axvline(189.42172418403118, color = 'black', linestyle= '-')\n",
    "plt.axvline(197.8227202604133, color = 'black', linestyle= '-')\n",
    "\n",
    "plt.axhline(274.25635067321497, color = 'black', linestyle= '-')\n",
    "plt.axhline(285.2992048823406, color = 'black', linestyle= '-')\n",
    "\n",
    "plt.scatter(data[0], data[1], color = 'red', marker='x')\n",
    "plt.show()"
   ]
  },
  {
   "cell_type": "markdown",
   "metadata": {},
   "source": [
    "#### 95% Bonferroni intervals"
   ]
  },
  {
   "cell_type": "markdown",
   "metadata": {},
   "source": [
    "##### $\\mu_1$"
   ]
  },
  {
   "cell_type": "code",
   "execution_count": 50,
   "metadata": {},
   "outputs": [
    {
     "name": "stdout",
     "output_type": "stream",
     "text": [
      "189.82155966089658 197.4228847835479\n"
     ]
    }
   ],
   "source": [
    "alpha = 0.05\n",
    "\n",
    "variation = stats.t.ppf(1-alpha/(2*p), n-1) * np.sqrt(S[0,0]/n)\n",
    "\n",
    "print(mean_x[0] - variation, mean_x[0] + variation)"
   ]
  },
  {
   "cell_type": "markdown",
   "metadata": {},
   "source": [
    "##### $\\mu_2$"
   ]
  },
  {
   "cell_type": "code",
   "execution_count": 51,
   "metadata": {},
   "outputs": [
    {
     "name": "stdout",
     "output_type": "stream",
     "text": [
      "274.7819222647878 284.77363329076775\n"
     ]
    }
   ],
   "source": [
    "alpha = 0.05\n",
    "\n",
    "variation = stats.t.ppf(1-alpha/(2*p), n-1) * np.sqrt(S[1,1]/n)\n",
    "\n",
    "print(mean_x[1] - variation, mean_x[1] + variation)"
   ]
  },
  {
   "cell_type": "code",
   "execution_count": 52,
   "metadata": {},
   "outputs": [
    {
     "data": {
      "image/png": "[encoded data removed]",
      "text/plain": [
       "<Figure size 640x480 with 1 Axes>"
      ]
     },
     "metadata": {},
     "output_type": "display_data"
    }
   ],
   "source": [
    "plt.style.use('default')\n",
    "\n",
    "fig, ax = plt.subplots()\n",
    "plt.style.use('default')\n",
    "\n",
    "# 创建一个椭圆， 参数分别为xy=中心坐标、长轴长度、短轴长度和旋转角度\n",
    "ellipse = Ellipse(xy= centre, width= 2* max(lengths), height= 2* min(lengths), angle= angle, color='grey')\n",
    "\n",
    "\n",
    "ax.add_artist(ellipse)\n",
    "\n",
    "ax.set_xlim(185, 205)\n",
    "ax.set_ylim(270, 290)\n",
    "\n",
    "plt.scatter(centre[0], centre[1], color='blue', marker='o')\n",
    "\n",
    "plt.grid(False)\n",
    "\n",
    "plt.axvline(189.42172418403118, color = 'black', linestyle= '-')\n",
    "plt.axvline(197.8227202604133, color = 'black', linestyle= '-')\n",
    "plt.axhline(274.25635067321497, color = 'black', linestyle= '-')\n",
    "plt.axhline(285.2992048823406, color = 'black', linestyle= '-')\n",
    "\n",
    "\n",
    "plt.axvline(189.82155966089658, color = 'black', linestyle= '--')\n",
    "plt.axvline(197.4228847835479, color = 'black', linestyle= '--')\n",
    "plt.axhline(274.7819222647878, color = 'black', linestyle= '--')\n",
    "plt.axhline(284.77363329076775, color = 'black', linestyle= '--')\n",
    "\n",
    "plt.scatter(data[0], data[1], color = 'red', marker='x')\n",
    "\n",
    "plt.title('$T^2$ Simultaneous and Bonferroni Confidence Area')\n",
    "\n",
    "plt.show()"
   ]
  },
  {
   "cell_type": "markdown",
   "metadata": {},
   "source": [
    "## 5.31\n",
    ">  Refer to the data on snow storms in **Exercise 3.20**.  \n",
    "> - (a) Find a 95% confidence region for the mean vector **after taking an appropriate transformation**.  \n",
    "> - (b) On the same scale,find the 95% Bonferroni confidence intervals for the two component means."
   ]
  },
  {
   "cell_type": "code",
   "execution_count": 53,
   "metadata": {},
   "outputs": [
    {
     "data": {
      "text/plain": [
       "(      0     1\n",
       " 0  12.5  13.7\n",
       " 1  14.5  16.5\n",
       " 2   8.0  17.4\n",
       " 3   9.0  11.0\n",
       " 4  19.5  23.6,\n",
       "        0     1\n",
       " 20  17.5  42.3\n",
       " 21  10.5  17.5\n",
       " 22  12.0  21.8\n",
       " 23   6.0  10.4\n",
       " 24  13.0  25.6)"
      ]
     },
     "execution_count": 53,
     "metadata": {},
     "output_type": "execute_result"
    }
   ],
   "source": [
    "# Table 3.2\n",
    "path = 'D:\\A-多元统计分析\\Wichern_data\\Wichern_data\\T3-2.DAT'\n",
    "X = pd.read_csv(path, sep='\\s+', header=None).T\n",
    "X.T.head(), X.T.tail()"
   ]
  },
  {
   "cell_type": "code",
   "execution_count": 54,
   "metadata": {},
   "outputs": [],
   "source": [
    "X = np.array(X)"
   ]
  },
  {
   "cell_type": "markdown",
   "metadata": {},
   "source": [
    "### (a)"
   ]
  },
  {
   "cell_type": "markdown",
   "metadata": {},
   "source": [
    "We try **Poewr Transformation(幂变换)** to make the data more **normal**."
   ]
  },
  {
   "cell_type": "markdown",
   "metadata": {},
   "source": [
    "We just make the following transformation:\n",
    "$$y_1 = \\ln(x_1),y_2 = 1/\\sqrt{x_2}$$\n",
    "\n",
    "to make the data more normal."
   ]
  },
  {
   "cell_type": "code",
   "execution_count": 55,
   "metadata": {},
   "outputs": [],
   "source": [
    "Y = X\n",
    "Y[0] = np.log(Y[0])\n",
    "Y[1] = np.power(Y[1], -1/2)"
   ]
  },
  {
   "cell_type": "code",
   "execution_count": 56,
   "metadata": {},
   "outputs": [
    {
     "data": {
      "text/plain": [
       "array([2.170685  , 0.23976578])"
      ]
     },
     "execution_count": 56,
     "metadata": {},
     "output_type": "execute_result"
    }
   ],
   "source": [
    "Y_mean= Y.mean(axis = 1)\n",
    "Y_mean"
   ]
  },
  {
   "cell_type": "code",
   "execution_count": 57,
   "metadata": {},
   "outputs": [
    {
     "data": {
      "text/plain": [
       "array([[ 0.15130352, -0.00579152],\n",
       "       [-0.00579152,  0.0018229 ]])"
      ]
     },
     "execution_count": 57,
     "metadata": {},
     "output_type": "execute_result"
    }
   ],
   "source": [
    "S = np.cov(Y)\n",
    "S"
   ]
  },
  {
   "cell_type": "markdown",
   "metadata": {},
   "source": [
    "For the *mean vector* of data, we set it to be $\\begin{pmatrix} \\mu_1 \\\\ \\mu_2 \\end{pmatrix}$.  \n",
    "Here we want should find the confidence region for $\\mu_1$ and $\\mu_2$."
   ]
  },
  {
   "cell_type": "code",
   "execution_count": 58,
   "metadata": {},
   "outputs": [],
   "source": [
    "alpha = 1- 0.95\n",
    "n,p = 25, 2"
   ]
  },
  {
   "cell_type": "markdown",
   "metadata": {},
   "source": [
    "#### $\\mu_1$"
   ]
  },
  {
   "cell_type": "code",
   "execution_count": 59,
   "metadata": {},
   "outputs": [
    {
     "data": {
      "text/plain": [
       "0.20790244903867014"
      ]
     },
     "execution_count": 59,
     "metadata": {},
     "output_type": "execute_result"
    }
   ],
   "source": [
    "variation = np.sqrt( (n-1)*(p)/(n-p)*stats.f.ppf(1 - alpha , p, n-p)* S[0,0]/n )\n",
    "variation"
   ]
  },
  {
   "cell_type": "code",
   "execution_count": 60,
   "metadata": {},
   "outputs": [
    {
     "data": {
      "text/plain": [
       "(1.9627825490612332, 2.3785874471385733)"
      ]
     },
     "execution_count": 60,
     "metadata": {},
     "output_type": "execute_result"
    }
   ],
   "source": [
    "Y_mean[0] - variation, Y_mean[0]+ variation"
   ]
  },
  {
   "cell_type": "markdown",
   "metadata": {},
   "source": [
    "#### $\\mu_2$"
   ]
  },
  {
   "cell_type": "code",
   "execution_count": 61,
   "metadata": {},
   "outputs": [
    {
     "data": {
      "text/plain": [
       "0.02282003290486166"
      ]
     },
     "execution_count": 61,
     "metadata": {},
     "output_type": "execute_result"
    }
   ],
   "source": [
    "variation = np.sqrt( (n-1)*(p)/(n-p)* stats.f.ppf(1 - alpha , p, n-p)* S[1,1]/n )\n",
    "variation"
   ]
  },
  {
   "cell_type": "code",
   "execution_count": 62,
   "metadata": {},
   "outputs": [
    {
     "data": {
      "text/plain": [
       "(0.21694575074578049, 0.2625858165555038)"
      ]
     },
     "execution_count": 62,
     "metadata": {},
     "output_type": "execute_result"
    }
   ],
   "source": [
    "Y_mean[1] - variation, Y_mean[1]+ variation"
   ]
  },
  {
   "cell_type": "markdown",
   "metadata": {},
   "source": [
    "For $\\mu_1$, the 95% confidence interval is (1.9627825490612332, 2.3785874471385733).<br>\n",
    "For $\\mu_2$, the 95% confidence interval is (0.21694575074578049, 0.2625858165555038).\n"
   ]
  },
  {
   "cell_type": "markdown",
   "metadata": {},
   "source": [
    "### (b)"
   ]
  },
  {
   "cell_type": "markdown",
   "metadata": {},
   "source": [
    "#### $\\mu_1$"
   ]
  },
  {
   "cell_type": "code",
   "execution_count": 63,
   "metadata": {},
   "outputs": [],
   "source": [
    "variation = stats.t.ppf(1- alpha/(2*p), n-1) * np.sqrt( S[0,0] / n)"
   ]
  },
  {
   "cell_type": "code",
   "execution_count": 64,
   "metadata": {},
   "outputs": [
    {
     "data": {
      "text/plain": [
       "0.18600511299491737"
      ]
     },
     "execution_count": 64,
     "metadata": {},
     "output_type": "execute_result"
    }
   ],
   "source": [
    "variation"
   ]
  },
  {
   "cell_type": "code",
   "execution_count": 65,
   "metadata": {},
   "outputs": [
    {
     "data": {
      "text/plain": [
       "(1.9846798851049858, 2.3566901110948204)"
      ]
     },
     "execution_count": 65,
     "metadata": {},
     "output_type": "execute_result"
    }
   ],
   "source": [
    "Y_mean[0]- variation, Y_mean[0]+ variation"
   ]
  },
  {
   "cell_type": "markdown",
   "metadata": {},
   "source": [
    "#### $\\mu_2$"
   ]
  },
  {
   "cell_type": "code",
   "execution_count": 66,
   "metadata": {},
   "outputs": [],
   "source": [
    "variation = stats.t.ppf(1- alpha/(2*p), n-1) * np.sqrt( S[1,1] / n)"
   ]
  },
  {
   "cell_type": "code",
   "execution_count": 67,
   "metadata": {},
   "outputs": [
    {
     "data": {
      "text/plain": [
       "0.02041651177580412"
      ]
     },
     "execution_count": 67,
     "metadata": {},
     "output_type": "execute_result"
    }
   ],
   "source": [
    "variation"
   ]
  },
  {
   "cell_type": "code",
   "execution_count": 68,
   "metadata": {},
   "outputs": [
    {
     "data": {
      "text/plain": [
       "(0.21934927187483802, 0.2601822954264463)"
      ]
     },
     "execution_count": 68,
     "metadata": {},
     "output_type": "execute_result"
    }
   ],
   "source": [
    "Y_mean[1]- variation, Y_mean[1]+ variation"
   ]
  },
  {
   "cell_type": "markdown",
   "metadata": {},
   "source": [
    "We get it."
   ]
  },
  {
   "cell_type": "markdown",
   "metadata": {},
   "source": [
    "## 6.7\n",
    ">  Using the summary statistics for the electricity-demand data given in Example 6.4,compute and test the hypothesis $H_0: \\mu_1 - \\mu_2 =0$ assuming that $\\Sigma_1 = \\Sigma_2$. Set $\\alpha = 0.05$.  \n",
    "> Also,determine the linear combination of mean components most responsible for the rejection of $H_0$.\n",
    "\n",
    "$(Solution).$"
   ]
  },
  {
   "cell_type": "markdown",
   "metadata": {},
   "source": [
    "Hypothesis testing:<br>\n",
    "$$H_0: \\mu_1 - \\mu_2 =0\\space \\space vs \\space \\space H_1:not\\space H_0$$"
   ]
  },
  {
   "cell_type": "markdown",
   "metadata": {},
   "source": [
    "$T^2= \\begin{bmatrix}74.4 & 201.6 \\end{bmatrix}\n",
    "[(\\frac{1}{45}+\\frac{1}{55})\n",
    "\\begin{bmatrix}10963.7 & 21505.5\\\\ 21505.5 & 63661.3 \\end{bmatrix}]^{-1}\n",
    "\\begin{bmatrix}\n",
    "74.4 \\\\ 201.6 \n",
    "\\end{bmatrix} \n",
    "= 16.1$"
   ]
  },
  {
   "cell_type": "markdown",
   "metadata": {},
   "source": [
    "$\\frac{(n_1+n_2-2)p}{n_1+n_2-p-1}F_{p,n_1+n_2-p-1}(0.05)=6.26$"
   ]
  },
  {
   "cell_type": "markdown",
   "metadata": {},
   "source": [
    "$16.1 > 6.26$, reject $H_0$ at the confidence level of $\\alpha = 0.05$.\n"
   ]
  },
  {
   "cell_type": "markdown",
   "metadata": {},
   "source": [
    "***"
   ]
  },
  {
   "cell_type": "markdown",
   "metadata": {},
   "source": [
    "The linear combination is:  \n",
    "$\n",
    "\\hat{a} = S^{-1}_{pooled}(\\bar{x}_1-\\bar{x}_2)=\\begin{bmatrix} 0.0017 \\\\ 0.0026 \\end{bmatrix}\n",
    "$"
   ]
  },
  {
   "cell_type": "markdown",
   "metadata": {},
   "source": [
    "## 6.11\n",
    "> A likelihood argument provides additional support for pooling the two independent sample covariance matrices to estimate a common covariance matrix in the case of two normal populations. Give the likelihood function, $L(\\mu_1, \\mu_2, \\Sigma)$, for two independent samples of sizes $n_1$ and $n_2$ from $N_p(\\mu_1, \\Sigma)$ and $N_p(\\mu_2, \\Sigma)$ populations, respectively. Show that this likelihood is maximized by the choices $\\hat{\\mu}_1 = \\bar{x}_1 $, $\\hat{\\mu}_2 = \\bar{x}_2$ and \n",
    "> $$ \\hat{\\Sigma}= \\frac{1}{n_1+n_2}[(n_1-1)S_1+(n_2-1)S_2]= (\\frac{n_1+n_2-2}{n_1+n_2})S_{pooled} $$\n",
    "> *Hint*: Use(4-16) and the maximization Result 4.10"
   ]
  },
  {
   "cell_type": "markdown",
   "metadata": {},
   "source": [
    "$L(\\mu_1, \\mu_2, \\Sigma)= L(\\mu_1,  \\Sigma)L(\\mu_2, \\Sigma)$<br>\n"
   ]
  },
  {
   "cell_type": "markdown",
   "metadata": {},
   "source": [
    "According to (4-16) and (4-17). The likelihood could be maximized through controlling that $\\hat{\\mu}_1=\\bar{x}_1$ and $\\hat{\\mu}_2 = \\bar{x}_2$ respectively, <br>\n",
    "while we have:<br>\n",
    "$\\hat{\\Sigma}= \\frac{1}{n_1+n_2}[(n_1-1)S_1+(n_2-1)S_2]$<br>\n",
    "$= (\\frac{n_1+n_2-2}{n_1+n_2})S_{pooled}$"
   ]
  },
  {
   "cell_type": "markdown",
   "metadata": {},
   "source": [
    "## 6.12\n",
    "> *(Test for linear profiles, given that the profiles are parallel.)*  \n",
    "> \n",
    "> Let $\\mu_1^T=[\\mu_{11},...,\\mu_{1p}]$ and $\\mu_2^T=[\\mu_{21},...,\\mu_{2p}]$ be the mean responses to $p$ treatments for populations 1 and 2, respectively. \n",
    "> \n",
    "> Assume that the profiles given by the two mean vectors are parallel."
   ]
  },
  {
   "cell_type": "markdown",
   "metadata": {},
   "source": [
    "### (a)."
   ]
  },
  {
   "cell_type": "markdown",
   "metadata": {},
   "source": [
    "Note that <br>\n",
    "$C(\\mu_1+\\mu_2)_{(ith \\space row)}=(\\mu_{1,i}+\\mu_{2,i})-2(\\mu_{1,i+1}+\\mu_{2,i+1})+(\\mu_{1,i+2}+\\mu_{2,i+2}) = 0$"
   ]
  },
  {
   "cell_type": "markdown",
   "metadata": {},
   "source": [
    "That is to say:<br><br>\n",
    "$The\\space formula \\space means \\space that $<br>\n",
    "$(\\mu_{1,i}+\\mu_{2,i})-(\\mu_{1,i+1}+\\mu_{2,i+1}) =(\\mu_{1,i+1}+\\mu_{2,i+1})-(\\mu_{1,i+2}+\\mu_{2,i+2})$<br><br>\n",
    "for arbirary $i = 3,4,...,p$ .<br>"
   ]
  },
  {
   "cell_type": "markdown",
   "metadata": {},
   "source": [
    "### (b)\n",
    "\n",
    "It's not difficult to get that:<br>\n",
    "$(X-\\mu)^T\\Sigma^{-1}(X - \\mu) = (x-\\mu)^T\\Sigma_{p}^{i=1}\\frac{1}{\\lambda_i}(e_i^T(x-\\mu))^{2}$<br><br>\n",
    "$(X_1 -\\mu_1 - \\Sigma_{12}\\Sigma_{22}^{-1}(X_2-\\mu_2))^T(\\Sigma_{11}-\\Sigma_{12}\\Sigma_{22}^{-1}\\Sigma_{21})^{-1}(......)$<br>\n",
    "\n",
    "$=(......)^T(\\Sigma_{i=1}^{q}\\frac{1}{\\lambda _i} e_ie_i^T - \\Sigma_{12}(\\Sigma^{p}_{j=q+1}\\frac{1}{\\lambda_j}{e_j e_j^T})\\Sigma_{21})(......)$<br>\n",
    "\n",
    "$\n",
    "= \\Sigma^{q}_{i=1}\\frac{1}{\\lambda_i}( e_i^T(x_1-\\mu_1) )-\\Sigma^{p}_{j=q+1} \\frac{1}{\\lambda_j}(e_j^T (X_2 - \\mu_2))$<br>\n",
    "\n",
    "That's for the oryhology of $e_i(i=1...q)$ and $e_j(j=q+1...p)$, we can get that:<br>\n",
    "$$(X_2-\\mu_2)^T\\Sigma_{22}^{-1}(x_2-\\mu_2)=......$$"
   ]
  },
  {
   "cell_type": "markdown",
   "metadata": {},
   "source": [
    "## 6.17\n",
    ">  The data in Table 6.8 were collected to test two psychological models of numerical cognition. Does the processing of numbers depend on the way the numbers are presented (words, Arabic digits)? Thirty-two subjects were required to make a series of  quick numerical judgments about two numbers presented as either two number words (“two,” “four”) or two single Arabic digits (“2,” “4”). The subjects were asked to respond “same” if the two numbers had the same numerical parity (both even or both odd) and “different” if the two numbers had a different parity (one even, one odd). Half of the subjects were assigned a block of Arabic digit trials, followed by a block of number word trials, and half of the subjects received the blocks of trials in the reverse order. Within each block, the order of “same” and “different” parity trials was randomized for each subject. For each of the four combinations of parity and format, the median reaction times for correct responses were recorded for each subject. Here\n",
    "> - $X_1$ = median reaction time for word format–different parity combination\n",
    "> - $X_2$ = median reaction time for word format–same parity combination\n",
    "> - $X_3$ = median reaction time for Arabic format–different parity combination\n",
    "> - $X_4$ = median reaction time for Arabic format–same parity combination\n",
    "***\n",
    "***\n",
    "$$\\text{Table 6.8 would be Shown Below.}$$\n",
    "***\n",
    "***\n",
    "$\\text{Quentions.}$\n",
    "> - (a) Test for treatment effects using a repeated measures design. Set $\\alpha$ = 0.05.  \n",
    "> \n",
    "> - (b) Construct 95% (simultaneous) confidence intervals for the contrasts representing the number format effect, the parity type effect and the interaction effect. Interpret the resulting intervals.  \n",
    "> \n",
    "> - (c) The absence of interaction supports the $M$ model of numerical cognition, while the presence of interaction supports the $C$ and $C$ model of numerical cognition. Which model is supported in this experiment?  \n",
    "> \n",
    "> - (d) For each subject, construct three difference scores corresponding to the number format contrast, the parity type contrast, and the interaction contrast. Is a multivariate normal distribution a reasonable population model for these data? Explain.\n",
    "\n",
    "$\\text{Answer.}$\n",
    " "
   ]
  },
  {
   "cell_type": "markdown",
   "metadata": {},
   "source": [
    "First, we need to load the data and perform some basic data manipulation."
   ]
  },
  {
   "cell_type": "code",
   "execution_count": 69,
   "metadata": {},
   "outputs": [],
   "source": [
    "import pandas as pd\n",
    "import numpy as np"
   ]
  },
  {
   "cell_type": "code",
   "execution_count": 70,
   "metadata": {},
   "outputs": [],
   "source": [
    "path= 'D:/A-多元统计分析/Wichern_data/Wichern_data/T6-8.dat'\n",
    "X = pd.read_csv(path, sep= '\\s+', header = None)"
   ]
  },
  {
   "cell_type": "code",
   "execution_count": 71,
   "metadata": {},
   "outputs": [
    {
     "data": {
      "text/html": [
       "<div>\n",
       "<style scoped>\n",
       "    .dataframe tbody tr th:only-of-type {\n",
       "        vertical-align: middle;\n",
       "    }\n",
       "\n",
       "    .dataframe tbody tr th {\n",
       "        vertical-align: top;\n",
       "    }\n",
       "\n",
       "    .dataframe thead th {\n",
       "        text-align: right;\n",
       "    }\n",
       "</style>\n",
       "<table border=\"1\" class=\"dataframe\">\n",
       "  <thead>\n",
       "    <tr style=\"text-align: right;\">\n",
       "      <th></th>\n",
       "      <th>0</th>\n",
       "      <th>1</th>\n",
       "      <th>2</th>\n",
       "      <th>3</th>\n",
       "    </tr>\n",
       "  </thead>\n",
       "  <tbody>\n",
       "    <tr>\n",
       "      <th>0</th>\n",
       "      <td>869.0</td>\n",
       "      <td>860.5</td>\n",
       "      <td>691.0</td>\n",
       "      <td>601.0</td>\n",
       "    </tr>\n",
       "    <tr>\n",
       "      <th>1</th>\n",
       "      <td>995.0</td>\n",
       "      <td>875.0</td>\n",
       "      <td>678.0</td>\n",
       "      <td>659.0</td>\n",
       "    </tr>\n",
       "    <tr>\n",
       "      <th>2</th>\n",
       "      <td>1056.0</td>\n",
       "      <td>930.5</td>\n",
       "      <td>833.0</td>\n",
       "      <td>826.0</td>\n",
       "    </tr>\n",
       "    <tr>\n",
       "      <th>3</th>\n",
       "      <td>1126.0</td>\n",
       "      <td>954.0</td>\n",
       "      <td>888.0</td>\n",
       "      <td>728.0</td>\n",
       "    </tr>\n",
       "    <tr>\n",
       "      <th>4</th>\n",
       "      <td>1044.0</td>\n",
       "      <td>909.0</td>\n",
       "      <td>865.0</td>\n",
       "      <td>839.0</td>\n",
       "    </tr>\n",
       "    <tr>\n",
       "      <th>5</th>\n",
       "      <td>925.0</td>\n",
       "      <td>856.5</td>\n",
       "      <td>1059.5</td>\n",
       "      <td>797.0</td>\n",
       "    </tr>\n",
       "    <tr>\n",
       "      <th>6</th>\n",
       "      <td>1172.5</td>\n",
       "      <td>896.5</td>\n",
       "      <td>926.0</td>\n",
       "      <td>766.0</td>\n",
       "    </tr>\n",
       "    <tr>\n",
       "      <th>7</th>\n",
       "      <td>1408.5</td>\n",
       "      <td>1311.0</td>\n",
       "      <td>854.0</td>\n",
       "      <td>986.0</td>\n",
       "    </tr>\n",
       "    <tr>\n",
       "      <th>8</th>\n",
       "      <td>1028.0</td>\n",
       "      <td>887.0</td>\n",
       "      <td>915.0</td>\n",
       "      <td>735.0</td>\n",
       "    </tr>\n",
       "    <tr>\n",
       "      <th>9</th>\n",
       "      <td>1011.0</td>\n",
       "      <td>863.0</td>\n",
       "      <td>761.0</td>\n",
       "      <td>657.0</td>\n",
       "    </tr>\n",
       "    <tr>\n",
       "      <th>10</th>\n",
       "      <td>726.0</td>\n",
       "      <td>674.0</td>\n",
       "      <td>663.0</td>\n",
       "      <td>583.0</td>\n",
       "    </tr>\n",
       "    <tr>\n",
       "      <th>11</th>\n",
       "      <td>982.0</td>\n",
       "      <td>894.0</td>\n",
       "      <td>831.0</td>\n",
       "      <td>640.0</td>\n",
       "    </tr>\n",
       "    <tr>\n",
       "      <th>12</th>\n",
       "      <td>1225.0</td>\n",
       "      <td>1179.0</td>\n",
       "      <td>1037.0</td>\n",
       "      <td>905.5</td>\n",
       "    </tr>\n",
       "    <tr>\n",
       "      <th>13</th>\n",
       "      <td>731.0</td>\n",
       "      <td>662.0</td>\n",
       "      <td>662.5</td>\n",
       "      <td>624.0</td>\n",
       "    </tr>\n",
       "    <tr>\n",
       "      <th>14</th>\n",
       "      <td>975.5</td>\n",
       "      <td>872.5</td>\n",
       "      <td>814.0</td>\n",
       "      <td>735.0</td>\n",
       "    </tr>\n",
       "    <tr>\n",
       "      <th>15</th>\n",
       "      <td>1130.5</td>\n",
       "      <td>811.0</td>\n",
       "      <td>843.0</td>\n",
       "      <td>657.0</td>\n",
       "    </tr>\n",
       "    <tr>\n",
       "      <th>16</th>\n",
       "      <td>945.0</td>\n",
       "      <td>909.0</td>\n",
       "      <td>867.5</td>\n",
       "      <td>754.0</td>\n",
       "    </tr>\n",
       "    <tr>\n",
       "      <th>17</th>\n",
       "      <td>747.0</td>\n",
       "      <td>752.5</td>\n",
       "      <td>777.0</td>\n",
       "      <td>687.5</td>\n",
       "    </tr>\n",
       "    <tr>\n",
       "      <th>18</th>\n",
       "      <td>656.5</td>\n",
       "      <td>659.5</td>\n",
       "      <td>572.0</td>\n",
       "      <td>539.0</td>\n",
       "    </tr>\n",
       "    <tr>\n",
       "      <th>19</th>\n",
       "      <td>919.0</td>\n",
       "      <td>833.0</td>\n",
       "      <td>752.0</td>\n",
       "      <td>611.0</td>\n",
       "    </tr>\n",
       "    <tr>\n",
       "      <th>20</th>\n",
       "      <td>751.0</td>\n",
       "      <td>744.0</td>\n",
       "      <td>683.0</td>\n",
       "      <td>553.0</td>\n",
       "    </tr>\n",
       "    <tr>\n",
       "      <th>21</th>\n",
       "      <td>774.0</td>\n",
       "      <td>735.0</td>\n",
       "      <td>671.0</td>\n",
       "      <td>612.0</td>\n",
       "    </tr>\n",
       "    <tr>\n",
       "      <th>22</th>\n",
       "      <td>941.0</td>\n",
       "      <td>931.0</td>\n",
       "      <td>901.5</td>\n",
       "      <td>700.0</td>\n",
       "    </tr>\n",
       "    <tr>\n",
       "      <th>23</th>\n",
       "      <td>751.0</td>\n",
       "      <td>785.0</td>\n",
       "      <td>789.0</td>\n",
       "      <td>735.0</td>\n",
       "    </tr>\n",
       "    <tr>\n",
       "      <th>24</th>\n",
       "      <td>767.0</td>\n",
       "      <td>737.5</td>\n",
       "      <td>724.0</td>\n",
       "      <td>639.0</td>\n",
       "    </tr>\n",
       "    <tr>\n",
       "      <th>25</th>\n",
       "      <td>813.5</td>\n",
       "      <td>750.5</td>\n",
       "      <td>711.0</td>\n",
       "      <td>625.0</td>\n",
       "    </tr>\n",
       "    <tr>\n",
       "      <th>26</th>\n",
       "      <td>1289.5</td>\n",
       "      <td>1140.0</td>\n",
       "      <td>904.5</td>\n",
       "      <td>784.5</td>\n",
       "    </tr>\n",
       "    <tr>\n",
       "      <th>27</th>\n",
       "      <td>1096.5</td>\n",
       "      <td>1009.0</td>\n",
       "      <td>1076.0</td>\n",
       "      <td>983.0</td>\n",
       "    </tr>\n",
       "    <tr>\n",
       "      <th>28</th>\n",
       "      <td>1083.0</td>\n",
       "      <td>958.0</td>\n",
       "      <td>918.0</td>\n",
       "      <td>746.5</td>\n",
       "    </tr>\n",
       "    <tr>\n",
       "      <th>29</th>\n",
       "      <td>1114.0</td>\n",
       "      <td>1046.0</td>\n",
       "      <td>1081.0</td>\n",
       "      <td>796.0</td>\n",
       "    </tr>\n",
       "    <tr>\n",
       "      <th>30</th>\n",
       "      <td>708.0</td>\n",
       "      <td>669.0</td>\n",
       "      <td>657.0</td>\n",
       "      <td>572.5</td>\n",
       "    </tr>\n",
       "    <tr>\n",
       "      <th>31</th>\n",
       "      <td>1201.0</td>\n",
       "      <td>925.0</td>\n",
       "      <td>1004.5</td>\n",
       "      <td>673.5</td>\n",
       "    </tr>\n",
       "  </tbody>\n",
       "</table>\n",
       "</div>"
      ],
      "text/plain": [
       "         0       1       2      3\n",
       "0    869.0   860.5   691.0  601.0\n",
       "1    995.0   875.0   678.0  659.0\n",
       "2   1056.0   930.5   833.0  826.0\n",
       "3   1126.0   954.0   888.0  728.0\n",
       "4   1044.0   909.0   865.0  839.0\n",
       "5    925.0   856.5  1059.5  797.0\n",
       "6   1172.5   896.5   926.0  766.0\n",
       "7   1408.5  1311.0   854.0  986.0\n",
       "8   1028.0   887.0   915.0  735.0\n",
       "9   1011.0   863.0   761.0  657.0\n",
       "10   726.0   674.0   663.0  583.0\n",
       "11   982.0   894.0   831.0  640.0\n",
       "12  1225.0  1179.0  1037.0  905.5\n",
       "13   731.0   662.0   662.5  624.0\n",
       "14   975.5   872.5   814.0  735.0\n",
       "15  1130.5   811.0   843.0  657.0\n",
       "16   945.0   909.0   867.5  754.0\n",
       "17   747.0   752.5   777.0  687.5\n",
       "18   656.5   659.5   572.0  539.0\n",
       "19   919.0   833.0   752.0  611.0\n",
       "20   751.0   744.0   683.0  553.0\n",
       "21   774.0   735.0   671.0  612.0\n",
       "22   941.0   931.0   901.5  700.0\n",
       "23   751.0   785.0   789.0  735.0\n",
       "24   767.0   737.5   724.0  639.0\n",
       "25   813.5   750.5   711.0  625.0\n",
       "26  1289.5  1140.0   904.5  784.5\n",
       "27  1096.5  1009.0  1076.0  983.0\n",
       "28  1083.0   958.0   918.0  746.5\n",
       "29  1114.0  1046.0  1081.0  796.0\n",
       "30   708.0   669.0   657.0  572.5\n",
       "31  1201.0   925.0  1004.5  673.5"
      ]
     },
     "execution_count": 71,
     "metadata": {},
     "output_type": "execute_result"
    }
   ],
   "source": [
    "X"
   ]
  },
  {
   "cell_type": "markdown",
   "metadata": {},
   "source": [
    "The columns represent respectively $x_1,x_2,x_3,x_4$"
   ]
  },
  {
   "cell_type": "markdown",
   "metadata": {},
   "source": [
    "### (a)\n",
    "> Test for treatment effects using a repeated measures design. Set $\\alpha$ = 0.05."
   ]
  },
  {
   "cell_type": "markdown",
   "metadata": {},
   "source": [
    "Hypothesis Testing:\n",
    "$$H_0:\\mu_1=\\mu_2=\\mu_3=\\mu_4 \\quad vs \\quad H_1: not\\space H_1 $$"
   ]
  },
  {
   "cell_type": "markdown",
   "metadata": {},
   "source": [
    "That's equivalent to test:\n",
    "$$\\mu_1-\\mu_2 = 0 \\quad \\mu_2-\\mu_3 = 0\\quad \\mu_3-\\mu_4 = 0$$"
   ]
  },
  {
   "cell_type": "markdown",
   "metadata": {},
   "source": [
    "Accordingly we set $C$:\n",
    "$$\n",
    "\\begin{pmatrix}\n",
    "1&-1&0&0\\\\\n",
    "0&1&-1&0\\\\\n",
    "0&0&1&-1\n",
    "\\end{pmatrix}\n",
    "$$  \n",
    "to satisfy the null hypothesis."
   ]
  },
  {
   "cell_type": "code",
   "execution_count": 72,
   "metadata": {},
   "outputs": [],
   "source": [
    "C = np.array([[1,-1,0,0], \n",
    "              [0,1,-1,0], \n",
    "              [0,0,1,-1]])\n",
    "Y = C @ X.T"
   ]
  },
  {
   "cell_type": "code",
   "execution_count": 73,
   "metadata": {},
   "outputs": [],
   "source": [
    "X_mean = X.T.mean(axis=1)"
   ]
  },
  {
   "cell_type": "code",
   "execution_count": 74,
   "metadata": {},
   "outputs": [
    {
     "data": {
      "text/plain": [
       "0    967.562500\n",
       "1    875.609375\n",
       "2    825.312500\n",
       "3    710.937500\n",
       "dtype: float64"
      ]
     },
     "execution_count": 74,
     "metadata": {},
     "output_type": "execute_result"
    }
   ],
   "source": [
    "X_mean"
   ]
  },
  {
   "cell_type": "markdown",
   "metadata": {},
   "source": [
    "We could construct the $T^2_0=n(C\\bar{X}-C\\mu)^T(CSC^T)^{-1}(C\\bar{X}-\\mu)$"
   ]
  },
  {
   "cell_type": "code",
   "execution_count": 75,
   "metadata": {},
   "outputs": [
    {
     "data": {
      "text/plain": [
       "array([[36178.35080645, 25936.72681452, 18447.56854839, 15909.23790323],\n",
       "       [25936.72681452, 22597.75378024, 14261.73084677, 14115.93447581],\n",
       "       [18447.56854839, 14261.73084677, 18487.81854839, 11799.72983871],\n",
       "       [15909.23790323, 14115.93447581, 11799.72983871, 13001.39919355]])"
      ]
     },
     "execution_count": 75,
     "metadata": {},
     "output_type": "execute_result"
    }
   ],
   "source": [
    "S = np.cov(X.T)\n",
    "S"
   ]
  },
  {
   "cell_type": "code",
   "execution_count": 76,
   "metadata": {},
   "outputs": [
    {
     "data": {
      "text/plain": [
       "153.72750564150135"
      ]
     },
     "execution_count": 76,
     "metadata": {},
     "output_type": "execute_result"
    }
   ],
   "source": [
    "n = 32\n",
    "\n",
    "T_square_0 = n*(C@ X_mean - 0 ).T @ np.linalg.inv(C@ S @ C.T)@ ((C@ X_mean - 0 ))\n",
    "T_square_0"
   ]
  },
  {
   "cell_type": "code",
   "execution_count": 77,
   "metadata": {},
   "outputs": [
    {
     "data": {
      "text/plain": [
       "9.409130335819585"
      ]
     },
     "execution_count": 77,
     "metadata": {},
     "output_type": "execute_result"
    }
   ],
   "source": [
    "p = 4\n",
    "alpha = 0.05\n",
    "\n",
    "from scipy import stats\n",
    "T_square_quantile = ((n-1)*(p-1)/(n-p+1))* stats.f.ppf(1-alpha, p-1, n-p+1)\n",
    "T_square_quantile"
   ]
  },
  {
   "cell_type": "code",
   "execution_count": 78,
   "metadata": {},
   "outputs": [
    {
     "data": {
      "text/plain": [
       "True"
      ]
     },
     "execution_count": 78,
     "metadata": {},
     "output_type": "execute_result"
    }
   ],
   "source": [
    "T_square_0 > T_square_quantile"
   ]
  },
  {
   "cell_type": "markdown",
   "metadata": {},
   "source": [
    "For $T^2_0 > T^2(\\alpha)$, we reject the null hypothesis.  \n",
    "So the treatment effects are not the same."
   ]
  },
  {
   "cell_type": "markdown",
   "metadata": {},
   "source": [
    "***\n",
    "$\\text{Repeated Measures Design应该只能用于检验整体的不等关系吧。}$\n",
    "***"
   ]
  },
  {
   "cell_type": "markdown",
   "metadata": {},
   "source": [
    "### (b)\n",
    "> Construct 95% (simultaneous) confidence intervals for the contrasts **representing the number format effect**, **the parity type effect** and **the interaction effect**. Interpret the resulting intervals."
   ]
  },
  {
   "cell_type": "markdown",
   "metadata": {},
   "source": [
    "$\\text{number format effext} = \\mu_1+\\mu_3-\\mu_2-\\mu_4$<br>\n",
    "$\\text{parity type effect} = \\mu_3+\\mu_4-\\mu_1-\\mu_2$<br>\n",
    "$\\text{interaction effect}= \\mu_1 +\\mu_4 - \\mu_2 - \\mu_3$"
   ]
  },
  {
   "cell_type": "markdown",
   "metadata": {},
   "source": [
    "We should let our contrast be $C = \\begin{pmatrix}1&-1&1&-1\\\\-1&-1&1&1\\\\1&-1&1&-1 \\end{pmatrix}$"
   ]
  },
  {
   "cell_type": "code",
   "execution_count": 79,
   "metadata": {},
   "outputs": [],
   "source": [
    "C = np.array([[1,-1,1,-1],\n",
    "             [-1,-1,1,1],\n",
    "             [1,-1,-1,1]])"
   ]
  },
  {
   "cell_type": "code",
   "execution_count": 80,
   "metadata": {},
   "outputs": [
    {
     "data": {
      "text/plain": [
       "0    967.562500\n",
       "1    875.609375\n",
       "2    825.312500\n",
       "3    710.937500\n",
       "dtype: float64"
      ]
     },
     "execution_count": 80,
     "metadata": {},
     "output_type": "execute_result"
    }
   ],
   "source": [
    "X_mean"
   ]
  },
  {
   "cell_type": "markdown",
   "metadata": {},
   "source": [
    "#### 1"
   ]
  },
  {
   "cell_type": "code",
   "execution_count": 81,
   "metadata": {},
   "outputs": [
    {
     "data": {
      "text/plain": [
       "(130.45672102672552, 282.1995289732745)"
      ]
     },
     "execution_count": 81,
     "metadata": {},
     "output_type": "execute_result"
    }
   ],
   "source": [
    "c = np.array([1,-1,1,-1])\n",
    "variation = np.sqrt((n-1)*(p-1)/(n-p+1)*stats.f.ppf(0.95,p-1,n-p+1))* np.sqrt(c.T @ S @c * (1/n))\n",
    "c.T@X_mean - variation , c.T@X_mean + variation"
   ]
  },
  {
   "cell_type": "markdown",
   "metadata": {},
   "source": [
    "#### 2"
   ]
  },
  {
   "cell_type": "code",
   "execution_count": 82,
   "metadata": {},
   "outputs": [
    {
     "data": {
      "text/plain": [
       "(-415.7363699235406, -198.10738007645938)"
      ]
     },
     "execution_count": 82,
     "metadata": {},
     "output_type": "execute_result"
    }
   ],
   "source": [
    "c = np.array([-1,-1,1,1])\n",
    "variation = np.sqrt((n-1)*(p-1)/(n-p+1)*stats.f.ppf(0.95,p-1,n-p+1))* np.sqrt(c.T @ S @c * (1/n))\n",
    "c.T@X_mean - variation , c.T@X_mean + variation"
   ]
  },
  {
   "cell_type": "markdown",
   "metadata": {},
   "source": [
    "#### 3"
   ]
  },
  {
   "cell_type": "code",
   "execution_count": 83,
   "metadata": {},
   "outputs": [
    {
     "data": {
      "text/plain": [
       "(-76.66679723725176, 31.823047237251764)"
      ]
     },
     "execution_count": 83,
     "metadata": {},
     "output_type": "execute_result"
    }
   ],
   "source": [
    "c = np.array([1,-1,-1,1])\n",
    "variation = np.sqrt((n-1)*(p-1)/(n-p+1)*stats.f.ppf(0.95,p-1,n-p+1))* np.sqrt(c.T @ S @c * (1/n))\n",
    "c.T @X_mean - variation , c.T @X_mean + variation"
   ]
  },
  {
   "cell_type": "markdown",
   "metadata": {},
   "source": [
    "Above is the three $95\\%$ confidence intervals."
   ]
  },
  {
   "cell_type": "markdown",
   "metadata": {},
   "source": [
    "***\n",
    "$\\text{这里由于C是p-1维的，所以自由度应该是3而不是4}$\n",
    "***"
   ]
  },
  {
   "cell_type": "markdown",
   "metadata": {},
   "source": [
    "No interaction effect. <br>\n",
    "Party effect-\"different\" resonses slower than \"same\" responses.<br>\n",
    "Format effect-\"words\" slower than \"Arabic\"."
   ]
  },
  {
   "cell_type": "markdown",
   "metadata": {},
   "source": [
    "### (c)\n",
    "> The absence of interaction supports the $M$ model of numerical cognition, while the presence of interaction supports the $C$ model of numerical cognition. Which model is supported in this experiment?  "
   ]
  },
  {
   "cell_type": "markdown",
   "metadata": {},
   "source": [
    "The M model of numerical cognition is a reasonable population model for the scores."
   ]
  },
  {
   "cell_type": "markdown",
   "metadata": {},
   "source": [
    "#### (d)\n",
    "> For each subject, construct three difference scores corresponding to the number format contrast, the parity type contrast, and the interaction contrast. Is a multivariate normal distribution a reasonable population model for these data? Explain."
   ]
  },
  {
   "cell_type": "markdown",
   "metadata": {},
   "source": [
    "According to our discussion above, the three scores make sense."
   ]
  },
  {
   "cell_type": "code",
   "execution_count": 84,
   "metadata": {},
   "outputs": [
    {
     "data": {
      "text/html": [
       "<div>\n",
       "<style scoped>\n",
       "    .dataframe tbody tr th:only-of-type {\n",
       "        vertical-align: middle;\n",
       "    }\n",
       "\n",
       "    .dataframe tbody tr th {\n",
       "        vertical-align: top;\n",
       "    }\n",
       "\n",
       "    .dataframe thead th {\n",
       "        text-align: right;\n",
       "    }\n",
       "</style>\n",
       "<table border=\"1\" class=\"dataframe\">\n",
       "  <thead>\n",
       "    <tr style=\"text-align: right;\">\n",
       "      <th></th>\n",
       "      <th>0</th>\n",
       "      <th>1</th>\n",
       "      <th>2</th>\n",
       "      <th>3</th>\n",
       "    </tr>\n",
       "  </thead>\n",
       "  <tbody>\n",
       "    <tr>\n",
       "      <th>0</th>\n",
       "      <td>869.0</td>\n",
       "      <td>860.5</td>\n",
       "      <td>691.0</td>\n",
       "      <td>601.0</td>\n",
       "    </tr>\n",
       "    <tr>\n",
       "      <th>1</th>\n",
       "      <td>995.0</td>\n",
       "      <td>875.0</td>\n",
       "      <td>678.0</td>\n",
       "      <td>659.0</td>\n",
       "    </tr>\n",
       "    <tr>\n",
       "      <th>2</th>\n",
       "      <td>1056.0</td>\n",
       "      <td>930.5</td>\n",
       "      <td>833.0</td>\n",
       "      <td>826.0</td>\n",
       "    </tr>\n",
       "    <tr>\n",
       "      <th>3</th>\n",
       "      <td>1126.0</td>\n",
       "      <td>954.0</td>\n",
       "      <td>888.0</td>\n",
       "      <td>728.0</td>\n",
       "    </tr>\n",
       "    <tr>\n",
       "      <th>4</th>\n",
       "      <td>1044.0</td>\n",
       "      <td>909.0</td>\n",
       "      <td>865.0</td>\n",
       "      <td>839.0</td>\n",
       "    </tr>\n",
       "    <tr>\n",
       "      <th>5</th>\n",
       "      <td>925.0</td>\n",
       "      <td>856.5</td>\n",
       "      <td>1059.5</td>\n",
       "      <td>797.0</td>\n",
       "    </tr>\n",
       "    <tr>\n",
       "      <th>6</th>\n",
       "      <td>1172.5</td>\n",
       "      <td>896.5</td>\n",
       "      <td>926.0</td>\n",
       "      <td>766.0</td>\n",
       "    </tr>\n",
       "    <tr>\n",
       "      <th>7</th>\n",
       "      <td>1408.5</td>\n",
       "      <td>1311.0</td>\n",
       "      <td>854.0</td>\n",
       "      <td>986.0</td>\n",
       "    </tr>\n",
       "    <tr>\n",
       "      <th>8</th>\n",
       "      <td>1028.0</td>\n",
       "      <td>887.0</td>\n",
       "      <td>915.0</td>\n",
       "      <td>735.0</td>\n",
       "    </tr>\n",
       "    <tr>\n",
       "      <th>9</th>\n",
       "      <td>1011.0</td>\n",
       "      <td>863.0</td>\n",
       "      <td>761.0</td>\n",
       "      <td>657.0</td>\n",
       "    </tr>\n",
       "    <tr>\n",
       "      <th>10</th>\n",
       "      <td>726.0</td>\n",
       "      <td>674.0</td>\n",
       "      <td>663.0</td>\n",
       "      <td>583.0</td>\n",
       "    </tr>\n",
       "    <tr>\n",
       "      <th>11</th>\n",
       "      <td>982.0</td>\n",
       "      <td>894.0</td>\n",
       "      <td>831.0</td>\n",
       "      <td>640.0</td>\n",
       "    </tr>\n",
       "    <tr>\n",
       "      <th>12</th>\n",
       "      <td>1225.0</td>\n",
       "      <td>1179.0</td>\n",
       "      <td>1037.0</td>\n",
       "      <td>905.5</td>\n",
       "    </tr>\n",
       "    <tr>\n",
       "      <th>13</th>\n",
       "      <td>731.0</td>\n",
       "      <td>662.0</td>\n",
       "      <td>662.5</td>\n",
       "      <td>624.0</td>\n",
       "    </tr>\n",
       "    <tr>\n",
       "      <th>14</th>\n",
       "      <td>975.5</td>\n",
       "      <td>872.5</td>\n",
       "      <td>814.0</td>\n",
       "      <td>735.0</td>\n",
       "    </tr>\n",
       "    <tr>\n",
       "      <th>15</th>\n",
       "      <td>1130.5</td>\n",
       "      <td>811.0</td>\n",
       "      <td>843.0</td>\n",
       "      <td>657.0</td>\n",
       "    </tr>\n",
       "    <tr>\n",
       "      <th>16</th>\n",
       "      <td>945.0</td>\n",
       "      <td>909.0</td>\n",
       "      <td>867.5</td>\n",
       "      <td>754.0</td>\n",
       "    </tr>\n",
       "    <tr>\n",
       "      <th>17</th>\n",
       "      <td>747.0</td>\n",
       "      <td>752.5</td>\n",
       "      <td>777.0</td>\n",
       "      <td>687.5</td>\n",
       "    </tr>\n",
       "    <tr>\n",
       "      <th>18</th>\n",
       "      <td>656.5</td>\n",
       "      <td>659.5</td>\n",
       "      <td>572.0</td>\n",
       "      <td>539.0</td>\n",
       "    </tr>\n",
       "    <tr>\n",
       "      <th>19</th>\n",
       "      <td>919.0</td>\n",
       "      <td>833.0</td>\n",
       "      <td>752.0</td>\n",
       "      <td>611.0</td>\n",
       "    </tr>\n",
       "    <tr>\n",
       "      <th>20</th>\n",
       "      <td>751.0</td>\n",
       "      <td>744.0</td>\n",
       "      <td>683.0</td>\n",
       "      <td>553.0</td>\n",
       "    </tr>\n",
       "    <tr>\n",
       "      <th>21</th>\n",
       "      <td>774.0</td>\n",
       "      <td>735.0</td>\n",
       "      <td>671.0</td>\n",
       "      <td>612.0</td>\n",
       "    </tr>\n",
       "    <tr>\n",
       "      <th>22</th>\n",
       "      <td>941.0</td>\n",
       "      <td>931.0</td>\n",
       "      <td>901.5</td>\n",
       "      <td>700.0</td>\n",
       "    </tr>\n",
       "    <tr>\n",
       "      <th>23</th>\n",
       "      <td>751.0</td>\n",
       "      <td>785.0</td>\n",
       "      <td>789.0</td>\n",
       "      <td>735.0</td>\n",
       "    </tr>\n",
       "    <tr>\n",
       "      <th>24</th>\n",
       "      <td>767.0</td>\n",
       "      <td>737.5</td>\n",
       "      <td>724.0</td>\n",
       "      <td>639.0</td>\n",
       "    </tr>\n",
       "    <tr>\n",
       "      <th>25</th>\n",
       "      <td>813.5</td>\n",
       "      <td>750.5</td>\n",
       "      <td>711.0</td>\n",
       "      <td>625.0</td>\n",
       "    </tr>\n",
       "    <tr>\n",
       "      <th>26</th>\n",
       "      <td>1289.5</td>\n",
       "      <td>1140.0</td>\n",
       "      <td>904.5</td>\n",
       "      <td>784.5</td>\n",
       "    </tr>\n",
       "    <tr>\n",
       "      <th>27</th>\n",
       "      <td>1096.5</td>\n",
       "      <td>1009.0</td>\n",
       "      <td>1076.0</td>\n",
       "      <td>983.0</td>\n",
       "    </tr>\n",
       "    <tr>\n",
       "      <th>28</th>\n",
       "      <td>1083.0</td>\n",
       "      <td>958.0</td>\n",
       "      <td>918.0</td>\n",
       "      <td>746.5</td>\n",
       "    </tr>\n",
       "    <tr>\n",
       "      <th>29</th>\n",
       "      <td>1114.0</td>\n",
       "      <td>1046.0</td>\n",
       "      <td>1081.0</td>\n",
       "      <td>796.0</td>\n",
       "    </tr>\n",
       "    <tr>\n",
       "      <th>30</th>\n",
       "      <td>708.0</td>\n",
       "      <td>669.0</td>\n",
       "      <td>657.0</td>\n",
       "      <td>572.5</td>\n",
       "    </tr>\n",
       "    <tr>\n",
       "      <th>31</th>\n",
       "      <td>1201.0</td>\n",
       "      <td>925.0</td>\n",
       "      <td>1004.5</td>\n",
       "      <td>673.5</td>\n",
       "    </tr>\n",
       "  </tbody>\n",
       "</table>\n",
       "</div>"
      ],
      "text/plain": [
       "         0       1       2      3\n",
       "0    869.0   860.5   691.0  601.0\n",
       "1    995.0   875.0   678.0  659.0\n",
       "2   1056.0   930.5   833.0  826.0\n",
       "3   1126.0   954.0   888.0  728.0\n",
       "4   1044.0   909.0   865.0  839.0\n",
       "5    925.0   856.5  1059.5  797.0\n",
       "6   1172.5   896.5   926.0  766.0\n",
       "7   1408.5  1311.0   854.0  986.0\n",
       "8   1028.0   887.0   915.0  735.0\n",
       "9   1011.0   863.0   761.0  657.0\n",
       "10   726.0   674.0   663.0  583.0\n",
       "11   982.0   894.0   831.0  640.0\n",
       "12  1225.0  1179.0  1037.0  905.5\n",
       "13   731.0   662.0   662.5  624.0\n",
       "14   975.5   872.5   814.0  735.0\n",
       "15  1130.5   811.0   843.0  657.0\n",
       "16   945.0   909.0   867.5  754.0\n",
       "17   747.0   752.5   777.0  687.5\n",
       "18   656.5   659.5   572.0  539.0\n",
       "19   919.0   833.0   752.0  611.0\n",
       "20   751.0   744.0   683.0  553.0\n",
       "21   774.0   735.0   671.0  612.0\n",
       "22   941.0   931.0   901.5  700.0\n",
       "23   751.0   785.0   789.0  735.0\n",
       "24   767.0   737.5   724.0  639.0\n",
       "25   813.5   750.5   711.0  625.0\n",
       "26  1289.5  1140.0   904.5  784.5\n",
       "27  1096.5  1009.0  1076.0  983.0\n",
       "28  1083.0   958.0   918.0  746.5\n",
       "29  1114.0  1046.0  1081.0  796.0\n",
       "30   708.0   669.0   657.0  572.5\n",
       "31  1201.0   925.0  1004.5  673.5"
      ]
     },
     "execution_count": 84,
     "metadata": {},
     "output_type": "execute_result"
    }
   ],
   "source": [
    "X"
   ]
  },
  {
   "cell_type": "code",
   "execution_count": 85,
   "metadata": {},
   "outputs": [
    {
     "data": {
      "image/png": "[encoded data removed]",
      "text/plain": [
       "<Figure size 640x480 with 4 Axes>"
      ]
     },
     "metadata": {},
     "output_type": "display_data"
    }
   ],
   "source": [
    "X = np.array(X)\n",
    "\n",
    "import matplotlib.pyplot as plt\n",
    "fig = plt.figure()\n",
    "for i in range(4):\n",
    "    ax = fig.add_subplot(2,2,i+1)\n",
    "    stats.probplot(X.T[i], plot = plt)"
   ]
  },
  {
   "cell_type": "markdown",
   "metadata": {},
   "source": [
    "The multivariate normal distribution is a reasonable population model for these data."
   ]
  },
  {
   "cell_type": "markdown",
   "metadata": {},
   "source": [
    "## 6.21\n",
    ">  Using Moody’s bond ratings, samples of 20 Aa (middle-high quality) corporate bonds and 20 Baa (top-medium quality) corporate bonds were selected. For each of the corresponding companies, the ratios\n",
    "> - $X_1$ = current ratio (a measure of short-term liquidity)\n",
    "> - $X_2$ = long-term interest rate (a measure of interest coverage)\n",
    "> - $X_3$ = debt-to-equity ratio (a measure of financial risk or leverage)\n",
    "> - $X_4$ = rate of return on equity (a measure of profitability)\n",
    " ***\n",
    "$题干太长了就不写了吧...$\n",
    " ***\n",
    " "
   ]
  },
  {
   "cell_type": "markdown",
   "metadata": {},
   "source": [
    "### (a)\n",
    "> Does pooling appear reasonable here? Comment on the pooling procedure in this\n",
    " case."
   ]
  },
  {
   "cell_type": "code",
   "execution_count": 86,
   "metadata": {},
   "outputs": [
    {
     "data": {
      "text/plain": [
       "'\\n0.459 0.254 -0.026 -0.244\\n0.254 27.465 -0.589 -0.267 \\n-0.026 -0.589 0.030 0.102 \\n-0.244 -0.267 0.102 6.854\\n'"
      ]
     },
     "execution_count": 86,
     "metadata": {},
     "output_type": "execute_result"
    }
   ],
   "source": [
    "#S1\n",
    "'''\n",
    "0.459 0.254 -0.026 -0.244\n",
    "0.254 27.465 -0.589 -0.267 \n",
    "-0.026 -0.589 0.030 0.102 \n",
    "-0.244 -0.267 0.102 6.854\n",
    "'''"
   ]
  },
  {
   "cell_type": "code",
   "execution_count": 87,
   "metadata": {},
   "outputs": [],
   "source": [
    "S1= np.array([[0.459, 0.254, -0.026, -0.244],\n",
    "              [0.254, 27.465, -0.589, -0.267],\n",
    "              [-0.026, -0.589, 0.030, 0.102],\n",
    "              [-0.244, -0.267, 0.102, 6.854]])"
   ]
  },
  {
   "cell_type": "code",
   "execution_count": 88,
   "metadata": {},
   "outputs": [
    {
     "data": {
      "text/plain": [
       "'\\n 0.944, -0.089,  0.002, -0.719\\n -0.089, 16.432, -0.400, 19.044\\n 0.002, -0.400, 0.024, -0.094\\n -0.719, 19.044, -0.094, 61.854\\n'"
      ]
     },
     "execution_count": 88,
     "metadata": {},
     "output_type": "execute_result"
    }
   ],
   "source": [
    "#S2\n",
    "'''\n",
    " 0.944, -0.089,  0.002, -0.719\n",
    " -0.089, 16.432, -0.400, 19.044\n",
    " 0.002, -0.400, 0.024, -0.094\n",
    " -0.719, 19.044, -0.094, 61.854\n",
    "'''"
   ]
  },
  {
   "cell_type": "code",
   "execution_count": 89,
   "metadata": {},
   "outputs": [],
   "source": [
    "S2 = np.array([[0.944, -0.089,  0.002, -0.719], \n",
    "               [-0.089, 16.432, -0.400, 19.044], \n",
    "               [0.002, -0.400, 0.024, -0.094], \n",
    "               [-0.719, 19.044, -0.094, 61.854]])"
   ]
  },
  {
   "cell_type": "code",
   "execution_count": 90,
   "metadata": {},
   "outputs": [
    {
     "data": {
      "text/plain": [
       "array([[ 7.01500e-01,  8.25000e-02, -1.20000e-02, -4.81500e-01],\n",
       "       [ 8.25000e-02,  2.19485e+01, -4.94500e-01,  9.38850e+00],\n",
       "       [-1.20000e-02, -4.94500e-01,  2.70000e-02,  4.00000e-03],\n",
       "       [-4.81500e-01,  9.38850e+00,  4.00000e-03,  3.43540e+01]])"
      ]
     },
     "execution_count": 90,
     "metadata": {},
     "output_type": "execute_result"
    }
   ],
   "source": [
    "S_pooled = ( (4-1)* S1 + (4-1)* S2 )/ (4+4-2)\n",
    "S_pooled"
   ]
  },
  {
   "cell_type": "markdown",
   "metadata": {},
   "source": [
    "Basically, that's indeed $S_{pooled}$."
   ]
  },
  {
   "cell_type": "markdown",
   "metadata": {},
   "source": [
    "### (b)\n",
    "> Are the financial characteristics of firms with Aa bonds different from those with Baa bonds? Using the pooled covariance matrix, test for the equality of mean vectors. Set $\\alpha$ = 0.05."
   ]
  },
  {
   "cell_type": "markdown",
   "metadata": {},
   "source": [
    "Hypothesis Testing:\n",
    "$$\n",
    "H_0: \\mu_1 = \\mu_2 \\quad vs \\quad H_1:\\text{not } H_0\n",
    "$$"
   ]
  },
  {
   "cell_type": "markdown",
   "metadata": {},
   "source": [
    "We consider $T^2 = (\\bar{X}_1-\\bar{X}_2 - (\\mu_1-\\mu_2)^T[(\\frac{1}{n_1}+\\frac{1}{n_2})]S_{pooled}]^{-1}(\\bar{X}_1-\\bar{X}_2 - (\\mu_1-\\mu_2) $"
   ]
  },
  {
   "cell_type": "code",
   "execution_count": 91,
   "metadata": {},
   "outputs": [],
   "source": [
    "bar_X1 = np.array([2.287, 12.600, 0.347, 14.830])\n",
    "bar_X2 = np.array([2.404, 7.155, 0.524, 12.840])"
   ]
  },
  {
   "cell_type": "code",
   "execution_count": 92,
   "metadata": {},
   "outputs": [],
   "source": [
    "diff = bar_X1 - bar_X2"
   ]
  },
  {
   "cell_type": "code",
   "execution_count": 93,
   "metadata": {},
   "outputs": [
    {
     "data": {
      "text/plain": [
       "15.829959574001874"
      ]
     },
     "execution_count": 93,
     "metadata": {},
     "output_type": "execute_result"
    }
   ],
   "source": [
    "diff.T @ np.linalg.inv( ((1/20+1/20)*  S_pooled) ) @ diff"
   ]
  },
  {
   "cell_type": "code",
   "execution_count": 94,
   "metadata": {},
   "outputs": [
    {
     "data": {
      "text/plain": [
       "2.8678764877967287"
      ]
     },
     "execution_count": 94,
     "metadata": {},
     "output_type": "execute_result"
    }
   ],
   "source": [
    "from scipy import stats\n",
    "38/ 35 *stats.f.ppf(1-0.05, 4, 20 + 20 - 4 -1)"
   ]
  },
  {
   "cell_type": "markdown",
   "metadata": {},
   "source": [
    "$T^2 > \\frac{(n_1+n_2 -2)}{(n_1+m_2-p-1})F_{p, n_1+n_2-p-1}(0.95)$"
   ]
  },
  {
   "cell_type": "markdown",
   "metadata": {},
   "source": [
    "We reject the null Hypothesis. So they're different."
   ]
  },
  {
   "cell_type": "markdown",
   "metadata": {},
   "source": [
    "### (c)\n",
    ">  Calculate the linear combinations of mean components most responsible for rejecting $H_0:\\mu_1-\\mu_2=0$ in Part b."
   ]
  },
  {
   "cell_type": "code",
   "execution_count": 95,
   "metadata": {},
   "outputs": [
    {
     "data": {
      "text/plain": [
       "array([-0.2417617 ,  0.16009566, -3.73254518,  0.01122035])"
      ]
     },
     "execution_count": 95,
     "metadata": {},
     "output_type": "execute_result"
    }
   ],
   "source": [
    "np.linalg.inv(S_pooled) @ diff"
   ]
  },
  {
   "cell_type": "markdown",
   "metadata": {},
   "source": [
    "The linear combination is:  \n",
    "$\n",
    "\\hat{a} = S^{-1}_{pooled}(\\bar{x}_1-\\bar{x}_2)=\\begin{bmatrix} -0.2417617 \\\\ 0.16009566 \\\\ -3.73254518 \\\\ 0.01122035 \\end{bmatrix}\n",
    "$"
   ]
  },
  {
   "cell_type": "markdown",
   "metadata": {},
   "source": [
    "### (d)\n",
    "> Bond rating companies are interested in a company’s ability to satisfy its outstanding debt obligations as they mature. Does it appear as if **one or more of the foregoing financial ratios might be useful in helping to classify a bond as “high” or “medium” quality**? Explain.<br>\n",
    "\n",
    "$\\text(Answer).$\n"
   ]
  },
  {
   "cell_type": "markdown",
   "metadata": {},
   "source": [
    "$\\text{注：就是看} \\hat{a}_i\\sqrt{S_{pooled,ii}}，选出绝对值最大的。$"
   ]
  },
  {
   "cell_type": "markdown",
   "metadata": {},
   "source": [
    "Note that the $X_2:\\text{ long term interest rate} \\space$ has the largest coefficient and might be able to classify a bond as \"high\" or \"medium\" quality."
   ]
  },
  {
   "cell_type": "code",
   "execution_count": 96,
   "metadata": {},
   "outputs": [
    {
     "name": "stdout",
     "output_type": "stream",
     "text": [
      "-0.09799404828865882\n",
      "25.509403691825096\n",
      "-0.02908406780352433\n",
      "11.663844794920758\n"
     ]
    }
   ],
   "source": [
    "for i in range(4):\n",
    "    result = diff[i] * np.sqrt(S_pooled[i,i])\n",
    "    print(result)"
   ]
  },
  {
   "cell_type": "markdown",
   "metadata": {},
   "source": [
    "### (e)\n",
    ">  Repeat part (b) assuming normal populations with unequal covariance matices (see (6-27), (6-28) and (6-29)). Does your conclusion change?\n",
    "\n",
    "$\\text{(Solution).}$"
   ]
  },
  {
   "cell_type": "markdown",
   "metadata": {},
   "source": [
    "We have the *Hypothesis Testing*：\n",
    "$$\n",
    "H_0: \\mu_1 = \\mu_2 \\quad vs \\quad H_1:\\text{not } H_0\n",
    "$$"
   ]
  },
  {
   "cell_type": "markdown",
   "metadata": {},
   "source": [
    "\n",
    " ***\n",
    " $\\text{(6-27)} \\quad \\quad \\dots\\space\\dots\\space\\dots$<br><br>\n",
    " $\\text{(6-28)}  \\quad \\quad T^2 = \\frac{vp}{v-p+1}F_{p,v-p+1}\n",
    "$<br><br>\n",
    " $\\text{(6-29)} \\quad \\quad \\dots\\space\\dots\\space\\dots $\n",
    " ***\n"
   ]
  },
  {
   "cell_type": "markdown",
   "metadata": {},
   "source": [
    "Basically we have $p=4$ and $v = \\frac{4+16}{0.53556}$ and according to *(b)*,  $T^2=15.830$.<br><br>\n",
    "\n",
    "Then at 95% confidence level, the critical value is:<br><br>\n",
    "$\n",
    "\\quad \\frac{vp}{v-p_1}F_{p, v-p+1}(0.95)\n",
    "$\n",
    "<br><br>\n",
    "$\n",
    "= \\frac{4 \\times 37.344}{37.344-4+1}F_{4,37.344-4+1}(0.95)\n",
    "$\n",
    "<br><br>\n",
    "$\n",
    "= \\frac{149.376}{34.344}(2.647) = 11.513\n",
    "$"
   ]
  },
  {
   "cell_type": "markdown",
   "metadata": {},
   "source": [
    "For $T^2= 15.830>11.513$, we reject the null hypothesis. So the conclusion is the same."
   ]
  }
 ],
 "metadata": {
  "kernelspec": {
   "display_name": "Python 3",
   "language": "python",
   "name": "python3"
  },
  "language_info": {
   "codemirror_mode": {
    "name": "ipython",
    "version": 3
   },
   "file_extension": ".py",
   "mimetype": "text/x-python",
   "name": "python",
   "nbconvert_exporter": "python",
   "pygments_lexer": "ipython3",
   "version": "3.10.7"
  }
 },
 "nbformat": 4,
 "nbformat_minor": 2
}
