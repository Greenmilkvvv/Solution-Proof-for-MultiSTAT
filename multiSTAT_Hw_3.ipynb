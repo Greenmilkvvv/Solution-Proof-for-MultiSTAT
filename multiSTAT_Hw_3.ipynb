{
 "cells": [
  {
   "cell_type": "markdown",
   "metadata": {},
   "source": [
    "# MultiSTAT Homework 3"
   ]
  },
  {
   "cell_type": "markdown",
   "metadata": {},
   "source": [
    "$$Abstract$$\n",
    "\n",
    "\n",
    "This notebook if for part of the exercises  of the book \"Applied Multivariate Statistical Analysis\" by Richard A. Johnson.\n",
    "\n",
    "***\n"
   ]
  },
  {
   "cell_type": "markdown",
   "metadata": {},
   "source": [
    "## 8.5\n"
   ]
  },
  {
   "cell_type": "markdown",
   "metadata": {
    "vscode": {
     "languageId": "r"
    }
   },
   "source": [
    "### (a)\n",
    "\n",
    "Find the eigenvalues of the correlation matrix \n",
    "$\\rho=\n",
    "\\begin{pmatrix}\n",
    "1 & \\rho & \\rho\\\\\n",
    "\\rho & 1 & \\rho\\\\\n",
    "\\rho & \\rho & 1\n",
    "\\end{pmatrix}$  \n",
    "Are your results consistent with (8-16) and (8-17)?   \n",
    "  \n",
    "  \n",
    "$\\text{(Solution)}.$"
   ]
  },
  {
   "cell_type": "markdown",
   "metadata": {
    "vscode": {
     "languageId": "r"
    }
   },
   "source": [
    "$|\\rho-\\lambda I| = (1-\\lambda)^3+2\\rho ^2=3(1-\\lambda)\\rho ^2 $  \n",
    "That's to say, $(1=2\\rho-\\lambda)(1-\\rho-\\lambda)^2=0$  \n",
    "So $\\lambda_1=1+2\\rho;$ $\\lambda_2=\\lambda_3=1-\\rho$  \n",
    "  \n",
    "Obviously, the result is consistent with (8-16) and (8-17)."
   ]
  },
  {
   "cell_type": "markdown",
   "metadata": {
    "vscode": {
     "languageId": "r"
    }
   },
   "source": [
    "### (b)\n",
    "Verify the eigenvalue–eigenvector pairs for the matrix given in(8-15).    \n",
    "\n",
    "$\\text{(Solution)}.$\n"
   ]
  },
  {
   "cell_type": "markdown",
   "metadata": {
    "vscode": {
     "languageId": "r"
    }
   },
   "source": [
    "$\\rho(\\frac{1}{\\sqrt{p}}1)=(1+(p-1)\\rho)\\frac{1}{\\sqrt{p}}1$  \n",
    "thus varifying the first eigenvalue-eigenvector pair.  \n",
    "$$\\rho e_i=(1-\\rho)e_i\\space , \\space i=2,3,\\dots , p$$"
   ]
  },
  {
   "cell_type": "markdown",
   "metadata": {},
   "source": [
    "***"
   ]
  },
  {
   "cell_type": "markdown",
   "metadata": {},
   "source": [
    "## 8.10"
   ]
  },
  {
   "cell_type": "markdown",
   "metadata": {},
   "source": [
    "The weekly rates of return for five stocks listed on the New York Stock Exchange are given in Table 8.4.  \n",
    "  \n",
    "See the stock-price data on the following website:\n",
    "$$ \\text{www.prenhall.com/statistics} $$"
   ]
  },
  {
   "cell_type": "markdown",
   "metadata": {},
   "source": [
    " ### (a) \n",
    " Construct the sample covariance matrix $S$,and find the sample principal components in (8-20).(Note that the sample mean vector $\\bar{x}$ is displayed in Example 8.5.)  \n",
    "  \n",
    "  $\\text{(Solution)}.$"
   ]
  },
  {
   "cell_type": "code",
   "execution_count": 1,
   "metadata": {
    "vscode": {
     "languageId": "r"
    }
   },
   "outputs": [],
   "source": [
    "data8.10 = read.table('D:/A-多元统计分析/Wichern_data/Wichern_data/T8-4.DAT')"
   ]
  },
  {
   "cell_type": "code",
   "execution_count": 2,
   "metadata": {
    "vscode": {
     "languageId": "r"
    }
   },
   "outputs": [
    {
     "data": {
      "text/html": [
       "<table class=\"dataframe\">\n",
       "<caption>A matrix: 5 × 5 of type dbl</caption>\n",
       "<thead>\n",
       "\t<tr><th></th><th scope=col>V1</th><th scope=col>V2</th><th scope=col>V3</th><th scope=col>V4</th><th scope=col>V5</th></tr>\n",
       "</thead>\n",
       "<tbody>\n",
       "\t<tr><th scope=row>V1</th><td>4.332695e-04</td><td>0.0002756679</td><td>1.590265e-04</td><td>6.411929e-05</td><td>8.896616e-05</td></tr>\n",
       "\t<tr><th scope=row>V2</th><td>2.756679e-04</td><td>0.0004387172</td><td>1.799737e-04</td><td>1.814512e-04</td><td>1.232623e-04</td></tr>\n",
       "\t<tr><th scope=row>V3</th><td>1.590265e-04</td><td>0.0001799737</td><td>2.239722e-04</td><td>7.341348e-05</td><td>6.054612e-05</td></tr>\n",
       "\t<tr><th scope=row>V4</th><td>6.411929e-05</td><td>0.0001814512</td><td>7.341348e-05</td><td>7.224964e-04</td><td>5.082772e-04</td></tr>\n",
       "\t<tr><th scope=row>V5</th><td>8.896616e-05</td><td>0.0001232623</td><td>6.054612e-05</td><td>5.082772e-04</td><td>7.656742e-04</td></tr>\n",
       "</tbody>\n",
       "</table>\n"
      ],
      "text/latex": [
       "A matrix: 5 × 5 of type dbl\n",
       "\\begin{tabular}{r|lllll}\n",
       "  & V1 & V2 & V3 & V4 & V5\\\\\n",
       "\\hline\n",
       "\tV1 & 4.332695e-04 & 0.0002756679 & 1.590265e-04 & 6.411929e-05 & 8.896616e-05\\\\\n",
       "\tV2 & 2.756679e-04 & 0.0004387172 & 1.799737e-04 & 1.814512e-04 & 1.232623e-04\\\\\n",
       "\tV3 & 1.590265e-04 & 0.0001799737 & 2.239722e-04 & 7.341348e-05 & 6.054612e-05\\\\\n",
       "\tV4 & 6.411929e-05 & 0.0001814512 & 7.341348e-05 & 7.224964e-04 & 5.082772e-04\\\\\n",
       "\tV5 & 8.896616e-05 & 0.0001232623 & 6.054612e-05 & 5.082772e-04 & 7.656742e-04\\\\\n",
       "\\end{tabular}\n"
      ],
      "text/markdown": [
       "\n",
       "A matrix: 5 × 5 of type dbl\n",
       "\n",
       "| <!--/--> | V1 | V2 | V3 | V4 | V5 |\n",
       "|---|---|---|---|---|---|\n",
       "| V1 | 4.332695e-04 | 0.0002756679 | 1.590265e-04 | 6.411929e-05 | 8.896616e-05 |\n",
       "| V2 | 2.756679e-04 | 0.0004387172 | 1.799737e-04 | 1.814512e-04 | 1.232623e-04 |\n",
       "| V3 | 1.590265e-04 | 0.0001799737 | 2.239722e-04 | 7.341348e-05 | 6.054612e-05 |\n",
       "| V4 | 6.411929e-05 | 0.0001814512 | 7.341348e-05 | 7.224964e-04 | 5.082772e-04 |\n",
       "| V5 | 8.896616e-05 | 0.0001232623 | 6.054612e-05 | 5.082772e-04 | 7.656742e-04 |\n",
       "\n"
      ],
      "text/plain": [
       "   V1           V2           V3           V4           V5          \n",
       "V1 4.332695e-04 0.0002756679 1.590265e-04 6.411929e-05 8.896616e-05\n",
       "V2 2.756679e-04 0.0004387172 1.799737e-04 1.814512e-04 1.232623e-04\n",
       "V3 1.590265e-04 0.0001799737 2.239722e-04 7.341348e-05 6.054612e-05\n",
       "V4 6.411929e-05 0.0001814512 7.341348e-05 7.224964e-04 5.082772e-04\n",
       "V5 8.896616e-05 0.0001232623 6.054612e-05 5.082772e-04 7.656742e-04"
      ]
     },
     "metadata": {},
     "output_type": "display_data"
    }
   ],
   "source": [
    "S = cov(data8.10)\n",
    "S"
   ]
  },
  {
   "cell_type": "code",
   "execution_count": 3,
   "metadata": {
    "vscode": {
     "languageId": "r"
    }
   },
   "outputs": [
    {
     "data": {
      "text/html": [
       "<table class=\"dataframe\">\n",
       "<caption>A matrix: 5 × 5 of type dbl</caption>\n",
       "<tbody>\n",
       "\t<tr><td>-0.2766971</td><td> 0.11679657</td><td> 0.71053427</td><td> 0.5935115</td><td> 0.22952665</td></tr>\n",
       "\t<tr><td>-0.1730433</td><td>-0.44557801</td><td> 0.57372704</td><td>-0.6638030</td><td>-0.04146201</td></tr>\n",
       "\t<tr><td>-0.1478641</td><td>-0.02165175</td><td>-0.20642721</td><td>-0.1846239</td><td> 0.94919398</td></tr>\n",
       "\t<tr><td> 0.6325384</td><td>-0.68636428</td><td> 0.04079836</td><td> 0.3214549</td><td> 0.15427710</td></tr>\n",
       "\t<tr><td> 0.6866776</td><td> 0.56236471</td><td> 0.34885761</td><td>-0.2639895</td><td> 0.14431830</td></tr>\n",
       "</tbody>\n",
       "</table>\n"
      ],
      "text/latex": [
       "A matrix: 5 × 5 of type dbl\n",
       "\\begin{tabular}{lllll}\n",
       "\t -0.2766971 &  0.11679657 &  0.71053427 &  0.5935115 &  0.22952665\\\\\n",
       "\t -0.1730433 & -0.44557801 &  0.57372704 & -0.6638030 & -0.04146201\\\\\n",
       "\t -0.1478641 & -0.02165175 & -0.20642721 & -0.1846239 &  0.94919398\\\\\n",
       "\t  0.6325384 & -0.68636428 &  0.04079836 &  0.3214549 &  0.15427710\\\\\n",
       "\t  0.6866776 &  0.56236471 &  0.34885761 & -0.2639895 &  0.14431830\\\\\n",
       "\\end{tabular}\n"
      ],
      "text/markdown": [
       "\n",
       "A matrix: 5 × 5 of type dbl\n",
       "\n",
       "| -0.2766971 |  0.11679657 |  0.71053427 |  0.5935115 |  0.22952665 |\n",
       "| -0.1730433 | -0.44557801 |  0.57372704 | -0.6638030 | -0.04146201 |\n",
       "| -0.1478641 | -0.02165175 | -0.20642721 | -0.1846239 |  0.94919398 |\n",
       "|  0.6325384 | -0.68636428 |  0.04079836 |  0.3214549 |  0.15427710 |\n",
       "|  0.6866776 |  0.56236471 |  0.34885761 | -0.2639895 |  0.14431830 |\n",
       "\n"
      ],
      "text/plain": [
       "     [,1]       [,2]        [,3]        [,4]       [,5]       \n",
       "[1,] -0.2766971  0.11679657  0.71053427  0.5935115  0.22952665\n",
       "[2,] -0.1730433 -0.44557801  0.57372704 -0.6638030 -0.04146201\n",
       "[3,] -0.1478641 -0.02165175 -0.20642721 -0.1846239  0.94919398\n",
       "[4,]  0.6325384 -0.68636428  0.04079836  0.3214549  0.15427710\n",
       "[5,]  0.6866776  0.56236471  0.34885761 -0.2639895  0.14431830"
      ]
     },
     "metadata": {},
     "output_type": "display_data"
    }
   ],
   "source": [
    "E= eigen(cov(S))$vectors\n",
    "lambda= eigen(cov(S))$values\n",
    "E"
   ]
  },
  {
   "cell_type": "code",
   "execution_count": 4,
   "metadata": {
    "vscode": {
     "languageId": "r"
    }
   },
   "outputs": [
    {
     "data": {
      "text/html": [
       "<style>\n",
       ".list-inline {list-style: none; margin:0; padding: 0}\n",
       ".list-inline>li {display: inline-block}\n",
       ".list-inline>li:not(:last-child)::after {content: \"\\00b7\"; padding: 0 .5ex}\n",
       "</style>\n",
       "<ol class=list-inline><li>1.93289740435318e-07</li><li>1.64544607212452e-08</li><li>1.27056901077819e-08</li><li>4.80641376621755e-09</li><li>1.6258508662528e-25</li></ol>\n"
      ],
      "text/latex": [
       "\\begin{enumerate*}\n",
       "\\item 1.93289740435318e-07\n",
       "\\item 1.64544607212452e-08\n",
       "\\item 1.27056901077819e-08\n",
       "\\item 4.80641376621755e-09\n",
       "\\item 1.6258508662528e-25\n",
       "\\end{enumerate*}\n"
      ],
      "text/markdown": [
       "1. 1.93289740435318e-07\n",
       "2. 1.64544607212452e-08\n",
       "3. 1.27056901077819e-08\n",
       "4. 4.80641376621755e-09\n",
       "5. 1.6258508662528e-25\n",
       "\n",
       "\n"
      ],
      "text/plain": [
       "[1] 1.932897e-07 1.645446e-08 1.270569e-08 4.806414e-09 1.625851e-25"
      ]
     },
     "metadata": {},
     "output_type": "display_data"
    }
   ],
   "source": [
    "lambda"
   ]
  },
  {
   "cell_type": "code",
   "execution_count": 5,
   "metadata": {
    "vscode": {
     "languageId": "r"
    }
   },
   "outputs": [
    {
     "data": {
      "text/html": [
       "<style>\n",
       ".list-inline {list-style: none; margin:0; padding: 0}\n",
       ".list-inline>li {display: inline-block}\n",
       ".list-inline>li:not(:last-child)::after {content: \"\\00b7\"; padding: 0 .5ex}\n",
       "</style>\n",
       "<ol class=list-inline><li>85.1</li><li>92.3</li><li>97.9</li><li>100</li><li>100</li></ol>\n"
      ],
      "text/latex": [
       "\\begin{enumerate*}\n",
       "\\item 85.1\n",
       "\\item 92.3\n",
       "\\item 97.9\n",
       "\\item 100\n",
       "\\item 100\n",
       "\\end{enumerate*}\n"
      ],
      "text/markdown": [
       "1. 85.1\n",
       "2. 92.3\n",
       "3. 97.9\n",
       "4. 100\n",
       "5. 100\n",
       "\n",
       "\n"
      ],
      "text/plain": [
       "[1]  85.1  92.3  97.9 100.0 100.0"
      ]
     },
     "metadata": {},
     "output_type": "display_data"
    }
   ],
   "source": [
    "# cumsum(x)函 数 返 回 由x中 的 元 素 依 次 累 加 得 到 的 向 量\n",
    "round(cumsum(lambda)/sum(lambda)*100, 1)"
   ]
  },
  {
   "cell_type": "markdown",
   "metadata": {},
   "source": [
    " ### (b) \n",
    " Determine the proportion of the total sample variance explained by the first three principal components.Interpret these components.  \n",
    "   \n",
    "   $\\text{(Solution)}.$"
   ]
  },
  {
   "cell_type": "markdown",
   "metadata": {
    "vscode": {
     "languageId": "r"
    }
   },
   "source": [
    "(确定要保留的 principal components 个数)  \n",
    "\n",
    "$(\\Sigma_{i=1}^{3}\\hat{\\lambda_i})/(\\Sigma_{i=1}^{5}\\hat{\\lambda_i})=97.9\\%$"
   ]
  },
  {
   "cell_type": "markdown",
   "metadata": {},
   "source": [
    " ### (c) \n",
    " Construct Bonferroni simultaneous 90% confidence intervals for the variances $\\lambda_1,\\lambda_2,$ and $\\lambda_3$ of the first three population components $Y_1,Y_2$ and $Y_3$.  \n",
    "   \n",
    "   $\\text{(Solution)}.$"
   ]
  },
  {
   "cell_type": "markdown",
   "metadata": {
    "vscode": {
     "languageId": "r"
    }
   },
   "source": [
    "Bonferroni 90% simultaneous confidence intervals for that are given by:  \n",
    "\n",
    "$\\lambda_1$: (.00106, .00195)  \n",
    "\n",
    "$\\lambda_2$.: (.00054, .00100)  \n",
    "\n",
    "$\\lambda_2$: (.00019, .0036)"
   ]
  },
  {
   "cell_type": "markdown",
   "metadata": {},
   "source": [
    "### (d) \n",
    "\n",
    "Given the results in Parts a–c,do you feel that the stock rates-of-return data can be summarized in fewer than five dimensions? Explain.  \n",
    "  \n",
    "  $\\text{(Solution)}.$"
   ]
  },
  {
   "cell_type": "markdown",
   "metadata": {
    "vscode": {
     "languageId": "r"
    }
   },
   "source": [
    "Stock returns are probably best summarized in two dimensions with 80% of the\n",
    " total variation accounted for by a \"market\" component and an \"industry\"\n",
    " component."
   ]
  },
  {
   "cell_type": "markdown",
   "metadata": {},
   "source": [
    "***"
   ]
  },
  {
   "cell_type": "markdown",
   "metadata": {},
   "source": [
    "## 8.16\n",
    "Over a period of five years in the 1990s, yearly samples of fishermen on 28 lakes in Wisconsin were asked to report the time they spent fishing and how many of each type of game fish they caught. Their responses were then converted to a catch rate per hour for\n",
    "- x1 = Bluegill  \n",
    "- x2 = Black crappie  \n",
    "- x3 = Smallmouth bass\n",
    "- x4 = Largemouth bass  \n",
    "- x5 = Walleye  \n",
    "- x6 = Northern pike\n",
    "The estimated correlation matrix (courtesy of Jodi Barnet)\n",
    "***\n",
    "$$\\text{Data is Shown Below}$$\n",
    "***\n",
    " is based on a sample of about 120. (There were a few missing values.)    \n",
    " \n",
    "Fish caught by the same fisherman live alongside of each other, so the data should provide some evidence on how the fish group.  \n",
    "\n",
    "The first four fish belong to the centrar chids, the most plentiful family.The walleye is the most popular fish to eat.\n"
   ]
  },
  {
   "cell_type": "code",
   "execution_count": 6,
   "metadata": {
    "vscode": {
     "languageId": "r"
    }
   },
   "outputs": [],
   "source": [
    "R = matrix(     c( 1, 0.4919, 0.2636, 0.4653, -0.2277, 0.0652,\n",
    "                   0.4919, 1, 0.3127, 0.3506, -0.1917, 0.2045,\n",
    "                   0.2635, 0.3127, 1, 0.4108,0.0647, 0.2493, \n",
    "                   0.4653, 0.3506, 0.4108, 1, -0.2249, 0.2293, \n",
    "                   -0.2277, -0.1917, 0.0647, -0.2249,  1, -0.2144,\n",
    "                   0.0652, 0.2045, 0.2493, 0.2293, -0.2144, 1)\n",
    "                 , nrow = 6, byrow = TRUE)"
   ]
  },
  {
   "cell_type": "code",
   "execution_count": 7,
   "metadata": {
    "vscode": {
     "languageId": "r"
    }
   },
   "outputs": [
    {
     "data": {
      "text/html": [
       "<table class=\"dataframe\">\n",
       "<caption>A matrix: 6 × 6 of type dbl</caption>\n",
       "<tbody>\n",
       "\t<tr><td> 1.0000</td><td> 0.4919</td><td>0.2636</td><td> 0.4653</td><td>-0.2277</td><td> 0.0652</td></tr>\n",
       "\t<tr><td> 0.4919</td><td> 1.0000</td><td>0.3127</td><td> 0.3506</td><td>-0.1917</td><td> 0.2045</td></tr>\n",
       "\t<tr><td> 0.2635</td><td> 0.3127</td><td>1.0000</td><td> 0.4108</td><td> 0.0647</td><td> 0.2493</td></tr>\n",
       "\t<tr><td> 0.4653</td><td> 0.3506</td><td>0.4108</td><td> 1.0000</td><td>-0.2249</td><td> 0.2293</td></tr>\n",
       "\t<tr><td>-0.2277</td><td>-0.1917</td><td>0.0647</td><td>-0.2249</td><td> 1.0000</td><td>-0.2144</td></tr>\n",
       "\t<tr><td> 0.0652</td><td> 0.2045</td><td>0.2493</td><td> 0.2293</td><td>-0.2144</td><td> 1.0000</td></tr>\n",
       "</tbody>\n",
       "</table>\n"
      ],
      "text/latex": [
       "A matrix: 6 × 6 of type dbl\n",
       "\\begin{tabular}{llllll}\n",
       "\t  1.0000 &  0.4919 & 0.2636 &  0.4653 & -0.2277 &  0.0652\\\\\n",
       "\t  0.4919 &  1.0000 & 0.3127 &  0.3506 & -0.1917 &  0.2045\\\\\n",
       "\t  0.2635 &  0.3127 & 1.0000 &  0.4108 &  0.0647 &  0.2493\\\\\n",
       "\t  0.4653 &  0.3506 & 0.4108 &  1.0000 & -0.2249 &  0.2293\\\\\n",
       "\t -0.2277 & -0.1917 & 0.0647 & -0.2249 &  1.0000 & -0.2144\\\\\n",
       "\t  0.0652 &  0.2045 & 0.2493 &  0.2293 & -0.2144 &  1.0000\\\\\n",
       "\\end{tabular}\n"
      ],
      "text/markdown": [
       "\n",
       "A matrix: 6 × 6 of type dbl\n",
       "\n",
       "|  1.0000 |  0.4919 | 0.2636 |  0.4653 | -0.2277 |  0.0652 |\n",
       "|  0.4919 |  1.0000 | 0.3127 |  0.3506 | -0.1917 |  0.2045 |\n",
       "|  0.2635 |  0.3127 | 1.0000 |  0.4108 |  0.0647 |  0.2493 |\n",
       "|  0.4653 |  0.3506 | 0.4108 |  1.0000 | -0.2249 |  0.2293 |\n",
       "| -0.2277 | -0.1917 | 0.0647 | -0.2249 |  1.0000 | -0.2144 |\n",
       "|  0.0652 |  0.2045 | 0.2493 |  0.2293 | -0.2144 |  1.0000 |\n",
       "\n"
      ],
      "text/plain": [
       "     [,1]    [,2]    [,3]   [,4]    [,5]    [,6]   \n",
       "[1,]  1.0000  0.4919 0.2636  0.4653 -0.2277  0.0652\n",
       "[2,]  0.4919  1.0000 0.3127  0.3506 -0.1917  0.2045\n",
       "[3,]  0.2635  0.3127 1.0000  0.4108  0.0647  0.2493\n",
       "[4,]  0.4653  0.3506 0.4108  1.0000 -0.2249  0.2293\n",
       "[5,] -0.2277 -0.1917 0.0647 -0.2249  1.0000 -0.2144\n",
       "[6,]  0.0652  0.2045 0.2493  0.2293 -0.2144  1.0000"
      ]
     },
     "metadata": {},
     "output_type": "display_data"
    }
   ],
   "source": [
    "R"
   ]
  },
  {
   "cell_type": "markdown",
   "metadata": {},
   "source": [
    "### (a) \n",
    "Comment on the pattern of correlation within the centrarchid family $x_1$ through $x_4$.  \n",
    "Does the walleye appear to group with the other fish?  \n",
    "  \n",
    "  $\\text{(Solution)}.$"
   ]
  },
  {
   "cell_type": "markdown",
   "metadata": {},
   "source": [
    "From $x_1$ to $x_4$, an obviously positive correlation is observed."
   ]
  },
  {
   "cell_type": "markdown",
   "metadata": {},
   "source": [
    "### (b)\n",
    "Perform a principal component analysis using only $x_1$ through $x_4$.  \n",
    " Interpret your results.    \n",
    " \n",
    " $\\text{(Solution)}.$"
   ]
  },
  {
   "cell_type": "code",
   "execution_count": 8,
   "metadata": {
    "vscode": {
     "languageId": "r"
    }
   },
   "outputs": [],
   "source": [
    "R.b= R[1:4,1:4]\n",
    "E.b= eigen(R.b)$vectors\n",
    "lambda.b= eigen(R.b)$values"
   ]
  },
  {
   "cell_type": "code",
   "execution_count": 9,
   "metadata": {
    "vscode": {
     "languageId": "r"
    }
   },
   "outputs": [
    {
     "data": {
      "text/html": [
       "<style>\n",
       ".list-inline {list-style: none; margin:0; padding: 0}\n",
       ".list-inline>li {display: inline-block}\n",
       ".list-inline>li:not(:last-child)::after {content: \"\\00b7\"; padding: 0 .5ex}\n",
       "</style>\n",
       "<ol class=list-inline><li>2.1539189028114</li><li>0.787549772215874</li><li>0.615658988097202</li><li>0.442872336875524</li></ol>\n"
      ],
      "text/latex": [
       "\\begin{enumerate*}\n",
       "\\item 2.1539189028114\n",
       "\\item 0.787549772215874\n",
       "\\item 0.615658988097202\n",
       "\\item 0.442872336875524\n",
       "\\end{enumerate*}\n"
      ],
      "text/markdown": [
       "1. 2.1539189028114\n",
       "2. 0.787549772215874\n",
       "3. 0.615658988097202\n",
       "4. 0.442872336875524\n",
       "\n",
       "\n"
      ],
      "text/plain": [
       "[1] 2.1539189 0.7875498 0.6156590 0.4428723"
      ]
     },
     "metadata": {},
     "output_type": "display_data"
    }
   ],
   "source": [
    "lambda.b"
   ]
  },
  {
   "cell_type": "code",
   "execution_count": 10,
   "metadata": {
    "vscode": {
     "languageId": "r"
    }
   },
   "outputs": [
    {
     "data": {
      "text/html": [
       "<table class=\"dataframe\">\n",
       "<caption>A matrix: 4 × 4 of type dbl</caption>\n",
       "<tbody>\n",
       "\t<tr><td>-0.5265384</td><td>-0.4571582</td><td> 0.2491110</td><td>-0.6719808</td></tr>\n",
       "\t<tr><td>-0.5033080</td><td>-0.4119833</td><td>-0.6142538</td><td> 0.4467865</td></tr>\n",
       "\t<tr><td>-0.4427711</td><td> 0.7584337</td><td>-0.3680028</td><td>-0.3056057</td></tr>\n",
       "\t<tr><td>-0.5228691</td><td> 0.2146031</td><td> 0.6520812</td><td> 0.5053996</td></tr>\n",
       "</tbody>\n",
       "</table>\n"
      ],
      "text/latex": [
       "A matrix: 4 × 4 of type dbl\n",
       "\\begin{tabular}{llll}\n",
       "\t -0.5265384 & -0.4571582 &  0.2491110 & -0.6719808\\\\\n",
       "\t -0.5033080 & -0.4119833 & -0.6142538 &  0.4467865\\\\\n",
       "\t -0.4427711 &  0.7584337 & -0.3680028 & -0.3056057\\\\\n",
       "\t -0.5228691 &  0.2146031 &  0.6520812 &  0.5053996\\\\\n",
       "\\end{tabular}\n"
      ],
      "text/markdown": [
       "\n",
       "A matrix: 4 × 4 of type dbl\n",
       "\n",
       "| -0.5265384 | -0.4571582 |  0.2491110 | -0.6719808 |\n",
       "| -0.5033080 | -0.4119833 | -0.6142538 |  0.4467865 |\n",
       "| -0.4427711 |  0.7584337 | -0.3680028 | -0.3056057 |\n",
       "| -0.5228691 |  0.2146031 |  0.6520812 |  0.5053996 |\n",
       "\n"
      ],
      "text/plain": [
       "     [,1]       [,2]       [,3]       [,4]      \n",
       "[1,] -0.5265384 -0.4571582  0.2491110 -0.6719808\n",
       "[2,] -0.5033080 -0.4119833 -0.6142538  0.4467865\n",
       "[3,] -0.4427711  0.7584337 -0.3680028 -0.3056057\n",
       "[4,] -0.5228691  0.2146031  0.6520812  0.5053996"
      ]
     },
     "metadata": {},
     "output_type": "display_data"
    }
   ],
   "source": [
    "E.b"
   ]
  },
  {
   "cell_type": "code",
   "execution_count": 11,
   "metadata": {
    "vscode": {
     "languageId": "r"
    }
   },
   "outputs": [
    {
     "data": {
      "text/html": [
       "<table class=\"dataframe\">\n",
       "<caption>A matrix: 4 × 4 of type dbl</caption>\n",
       "<thead>\n",
       "\t<tr><th scope=col>PC1</th><th scope=col>PC2</th><th scope=col>PC3</th><th scope=col>PC4</th></tr>\n",
       "</thead>\n",
       "<tbody>\n",
       "\t<tr><td>-0.5328709</td><td> 0.2909314</td><td>-0.6497249</td><td>0.4574550</td></tr>\n",
       "\t<tr><td>-0.4655031</td><td>-0.5559171</td><td> 0.4803235</td><td>0.4935104</td></tr>\n",
       "\t<tr><td> 0.6968408</td><td>-0.2717610</td><td>-0.2646193</td><td>0.6087163</td></tr>\n",
       "\t<tr><td> 0.1173386</td><td> 0.7296993</td><td> 0.5264253</td><td>0.4202939</td></tr>\n",
       "</tbody>\n",
       "</table>\n"
      ],
      "text/latex": [
       "A matrix: 4 × 4 of type dbl\n",
       "\\begin{tabular}{llll}\n",
       " PC1 & PC2 & PC3 & PC4\\\\\n",
       "\\hline\n",
       "\t -0.5328709 &  0.2909314 & -0.6497249 & 0.4574550\\\\\n",
       "\t -0.4655031 & -0.5559171 &  0.4803235 & 0.4935104\\\\\n",
       "\t  0.6968408 & -0.2717610 & -0.2646193 & 0.6087163\\\\\n",
       "\t  0.1173386 &  0.7296993 &  0.5264253 & 0.4202939\\\\\n",
       "\\end{tabular}\n"
      ],
      "text/markdown": [
       "\n",
       "A matrix: 4 × 4 of type dbl\n",
       "\n",
       "| PC1 | PC2 | PC3 | PC4 |\n",
       "|---|---|---|---|\n",
       "| -0.5328709 |  0.2909314 | -0.6497249 | 0.4574550 |\n",
       "| -0.4655031 | -0.5559171 |  0.4803235 | 0.4935104 |\n",
       "|  0.6968408 | -0.2717610 | -0.2646193 | 0.6087163 |\n",
       "|  0.1173386 |  0.7296993 |  0.5264253 | 0.4202939 |\n",
       "\n"
      ],
      "text/plain": [
       "     PC1        PC2        PC3        PC4      \n",
       "[1,] -0.5328709  0.2909314 -0.6497249 0.4574550\n",
       "[2,] -0.4655031 -0.5559171  0.4803235 0.4935104\n",
       "[3,]  0.6968408 -0.2717610 -0.2646193 0.6087163\n",
       "[4,]  0.1173386  0.7296993  0.5264253 0.4202939"
      ]
     },
     "metadata": {},
     "output_type": "display_data"
    }
   ],
   "source": [
    "R.b_prcomp <- prcomp(R.b, center = TRUE, scale. = FALSE, retx = TRUE)\n",
    "R.b_prcomp$rotation"
   ]
  },
  {
   "cell_type": "markdown",
   "metadata": {
    "vscode": {
     "languageId": "r"
    }
   },
   "source": [
    "#### St.Dev"
   ]
  },
  {
   "cell_type": "code",
   "execution_count": 12,
   "metadata": {
    "vscode": {
     "languageId": "r"
    }
   },
   "outputs": [
    {
     "data": {
      "text/html": [
       "<style>\n",
       ".list-inline {list-style: none; margin:0; padding: 0}\n",
       ".list-inline>li {display: inline-block}\n",
       ".list-inline>li:not(:last-child)::after {content: \"\\00b7\"; padding: 0 .5ex}\n",
       "</style>\n",
       "<ol class=list-inline><li>0.458774650380371</li><li>0.358587211891571</li><li>0.256129900251542</li><li>3.97067294483673e-17</li></ol>\n"
      ],
      "text/latex": [
       "\\begin{enumerate*}\n",
       "\\item 0.458774650380371\n",
       "\\item 0.358587211891571\n",
       "\\item 0.256129900251542\n",
       "\\item 3.97067294483673e-17\n",
       "\\end{enumerate*}\n"
      ],
      "text/markdown": [
       "1. 0.458774650380371\n",
       "2. 0.358587211891571\n",
       "3. 0.256129900251542\n",
       "4. 3.97067294483673e-17\n",
       "\n",
       "\n"
      ],
      "text/plain": [
       "[1] 4.587747e-01 3.585872e-01 2.561299e-01 3.970673e-17"
      ]
     },
     "metadata": {},
     "output_type": "display_data"
    }
   ],
   "source": [
    "R.b_prcomp$sdev"
   ]
  },
  {
   "cell_type": "markdown",
   "metadata": {},
   "source": [
    "#### Prob_of_var"
   ]
  },
  {
   "cell_type": "code",
   "execution_count": 13,
   "metadata": {
    "vscode": {
     "languageId": "r"
    }
   },
   "outputs": [
    {
     "data": {
      "text/html": [
       "<style>\n",
       ".list-inline {list-style: none; margin:0; padding: 0}\n",
       ".list-inline>li {display: inline-block}\n",
       ".list-inline>li:not(:last-child)::after {content: \"\\00b7\"; padding: 0 .5ex}\n",
       "</style>\n",
       "<ol class=list-inline><li>54</li><li>20</li><li>15</li><li>11</li></ol>\n"
      ],
      "text/latex": [
       "\\begin{enumerate*}\n",
       "\\item 54\n",
       "\\item 20\n",
       "\\item 15\n",
       "\\item 11\n",
       "\\end{enumerate*}\n"
      ],
      "text/markdown": [
       "1. 54\n",
       "2. 20\n",
       "3. 15\n",
       "4. 11\n",
       "\n",
       "\n"
      ],
      "text/plain": [
       "[1] 54 20 15 11"
      ]
     },
     "metadata": {},
     "output_type": "display_data"
    }
   ],
   "source": [
    "round((lambda.b)/sum(lambda.b)*100)"
   ]
  },
  {
   "cell_type": "markdown",
   "metadata": {
    "vscode": {
     "languageId": "r"
    }
   },
   "source": [
    "#### Cumulative Proportion"
   ]
  },
  {
   "cell_type": "code",
   "execution_count": 14,
   "metadata": {
    "vscode": {
     "languageId": "r"
    }
   },
   "outputs": [
    {
     "data": {
      "text/html": [
       "<style>\n",
       ".list-inline {list-style: none; margin:0; padding: 0}\n",
       ".list-inline>li {display: inline-block}\n",
       ".list-inline>li:not(:last-child)::after {content: \"\\00b7\"; padding: 0 .5ex}\n",
       "</style>\n",
       "<ol class=list-inline><li>53.8</li><li>73.5</li><li>88.9</li><li>100</li></ol>\n"
      ],
      "text/latex": [
       "\\begin{enumerate*}\n",
       "\\item 53.8\n",
       "\\item 73.5\n",
       "\\item 88.9\n",
       "\\item 100\n",
       "\\end{enumerate*}\n"
      ],
      "text/markdown": [
       "1. 53.8\n",
       "2. 73.5\n",
       "3. 88.9\n",
       "4. 100\n",
       "\n",
       "\n"
      ],
      "text/plain": [
       "[1]  53.8  73.5  88.9 100.0"
      ]
     },
     "metadata": {},
     "output_type": "display_data"
    }
   ],
   "source": [
    "round(cumsum(lambda.b)/sum(lambda.b)*100, 1)"
   ]
  },
  {
   "cell_type": "markdown",
   "metadata": {},
   "source": [
    "### (c)\n",
    "Perform a principal component analysis using all six variables.  \n",
    "Interpret your results.    \n",
    "\n",
    "$\\text{(Solution)}.$"
   ]
  },
  {
   "cell_type": "code",
   "execution_count": 15,
   "metadata": {
    "vscode": {
     "languageId": "r"
    }
   },
   "outputs": [
    {
     "data": {
      "text/html": [
       "<style>\n",
       ".list-inline {list-style: none; margin:0; padding: 0}\n",
       ".list-inline>li {display: inline-block}\n",
       ".list-inline>li:not(:last-child)::after {content: \"\\00b7\"; padding: 0 .5ex}\n",
       "</style>\n",
       "<ol class=list-inline><li>2.35492502615017</li><li>1.07185670803615</li><li>0.984248584216947</li><li>0.664385779738342</li><li>0.500389739645256</li><li>0.424194162213139</li></ol>\n"
      ],
      "text/latex": [
       "\\begin{enumerate*}\n",
       "\\item 2.35492502615017\n",
       "\\item 1.07185670803615\n",
       "\\item 0.984248584216947\n",
       "\\item 0.664385779738342\n",
       "\\item 0.500389739645256\n",
       "\\item 0.424194162213139\n",
       "\\end{enumerate*}\n"
      ],
      "text/markdown": [
       "1. 2.35492502615017\n",
       "2. 1.07185670803615\n",
       "3. 0.984248584216947\n",
       "4. 0.664385779738342\n",
       "5. 0.500389739645256\n",
       "6. 0.424194162213139\n",
       "\n",
       "\n"
      ],
      "text/plain": [
       "[1] 2.3549250 1.0718567 0.9842486 0.6643858 0.5003897 0.4241942"
      ]
     },
     "metadata": {},
     "output_type": "display_data"
    }
   ],
   "source": [
    "lambda= eigen(R)$values\n",
    "E= eigen(R)$vectors\n",
    "lambda"
   ]
  },
  {
   "cell_type": "code",
   "execution_count": 16,
   "metadata": {
    "vscode": {
     "languageId": "r"
    }
   },
   "outputs": [
    {
     "data": {
      "text/html": [
       "<table class=\"dataframe\">\n",
       "<caption>A matrix: 6 × 6 of type dbl</caption>\n",
       "<tbody>\n",
       "\t<tr><td>-0.4753543</td><td> 0.02188910</td><td> 0.47987482</td><td> 0.04564932</td><td> 0.3578888</td><td>-0.6425051</td></tr>\n",
       "\t<tr><td>-0.4719328</td><td>-0.01924243</td><td> 0.20906455</td><td> 0.70296351</td><td>-0.1771358</td><td> 0.4556533</td></tr>\n",
       "\t<tr><td>-0.3931540</td><td>-0.56061775</td><td>-0.26440849</td><td>-0.17551515</td><td>-0.5973982</td><td>-0.2713733</td></tr>\n",
       "\t<tr><td>-0.4963538</td><td>-0.07723024</td><td> 0.03226116</td><td>-0.60426514</td><td> 0.3238962</td><td> 0.5260914</td></tr>\n",
       "\t<tr><td> 0.2563177</td><td>-0.80502150</td><td> 0.01294351</td><td> 0.21817123</td><td> 0.4823355</td><td> 0.0768220</td></tr>\n",
       "\t<tr><td>-0.2910014</td><td> 0.17559671</td><td>-0.80925398</td><td> 0.24539324</td><td> 0.3822272</td><td>-0.1524794</td></tr>\n",
       "</tbody>\n",
       "</table>\n"
      ],
      "text/latex": [
       "A matrix: 6 × 6 of type dbl\n",
       "\\begin{tabular}{llllll}\n",
       "\t -0.4753543 &  0.02188910 &  0.47987482 &  0.04564932 &  0.3578888 & -0.6425051\\\\\n",
       "\t -0.4719328 & -0.01924243 &  0.20906455 &  0.70296351 & -0.1771358 &  0.4556533\\\\\n",
       "\t -0.3931540 & -0.56061775 & -0.26440849 & -0.17551515 & -0.5973982 & -0.2713733\\\\\n",
       "\t -0.4963538 & -0.07723024 &  0.03226116 & -0.60426514 &  0.3238962 &  0.5260914\\\\\n",
       "\t  0.2563177 & -0.80502150 &  0.01294351 &  0.21817123 &  0.4823355 &  0.0768220\\\\\n",
       "\t -0.2910014 &  0.17559671 & -0.80925398 &  0.24539324 &  0.3822272 & -0.1524794\\\\\n",
       "\\end{tabular}\n"
      ],
      "text/markdown": [
       "\n",
       "A matrix: 6 × 6 of type dbl\n",
       "\n",
       "| -0.4753543 |  0.02188910 |  0.47987482 |  0.04564932 |  0.3578888 | -0.6425051 |\n",
       "| -0.4719328 | -0.01924243 |  0.20906455 |  0.70296351 | -0.1771358 |  0.4556533 |\n",
       "| -0.3931540 | -0.56061775 | -0.26440849 | -0.17551515 | -0.5973982 | -0.2713733 |\n",
       "| -0.4963538 | -0.07723024 |  0.03226116 | -0.60426514 |  0.3238962 |  0.5260914 |\n",
       "|  0.2563177 | -0.80502150 |  0.01294351 |  0.21817123 |  0.4823355 |  0.0768220 |\n",
       "| -0.2910014 |  0.17559671 | -0.80925398 |  0.24539324 |  0.3822272 | -0.1524794 |\n",
       "\n"
      ],
      "text/plain": [
       "     [,1]       [,2]        [,3]        [,4]        [,5]       [,6]      \n",
       "[1,] -0.4753543  0.02188910  0.47987482  0.04564932  0.3578888 -0.6425051\n",
       "[2,] -0.4719328 -0.01924243  0.20906455  0.70296351 -0.1771358  0.4556533\n",
       "[3,] -0.3931540 -0.56061775 -0.26440849 -0.17551515 -0.5973982 -0.2713733\n",
       "[4,] -0.4963538 -0.07723024  0.03226116 -0.60426514  0.3238962  0.5260914\n",
       "[5,]  0.2563177 -0.80502150  0.01294351  0.21817123  0.4823355  0.0768220\n",
       "[6,] -0.2910014  0.17559671 -0.80925398  0.24539324  0.3822272 -0.1524794"
      ]
     },
     "metadata": {},
     "output_type": "display_data"
    }
   ],
   "source": [
    "E"
   ]
  },
  {
   "cell_type": "code",
   "execution_count": 17,
   "metadata": {
    "vscode": {
     "languageId": "r"
    }
   },
   "outputs": [
    {
     "data": {
      "text/html": [
       "<table class=\"dataframe\">\n",
       "<caption>A matrix: 6 × 6 of type dbl</caption>\n",
       "<thead>\n",
       "\t<tr><th scope=col>PC1</th><th scope=col>PC2</th><th scope=col>PC3</th><th scope=col>PC4</th><th scope=col>PC5</th><th scope=col>PC6</th></tr>\n",
       "</thead>\n",
       "<tbody>\n",
       "\t<tr><td>-0.4470380</td><td> 0.46088301</td><td> 0.1547431</td><td>-0.179663264</td><td>-0.63907013</td><td>0.3508688</td></tr>\n",
       "\t<tr><td>-0.4015488</td><td> 0.21173719</td><td> 0.3358751</td><td> 0.650025100</td><td> 0.45587229</td><td>0.2253036</td></tr>\n",
       "\t<tr><td>-0.1424289</td><td>-0.06084952</td><td>-0.7890890</td><td> 0.526857775</td><td>-0.27481658</td><td>0.0157022</td></tr>\n",
       "\t<tr><td>-0.4254760</td><td> 0.07608897</td><td>-0.4512964</td><td>-0.514071833</td><td> 0.52860310</td><td>0.2565563</td></tr>\n",
       "\t<tr><td> 0.6271670</td><td> 0.22469590</td><td>-0.1063428</td><td> 0.057642612</td><td> 0.08283993</td><td>0.7312178</td></tr>\n",
       "\t<tr><td>-0.2103839</td><td>-0.82630126</td><td> 0.1600118</td><td>-0.004104359</td><td>-0.14819575</td><td>0.4747444</td></tr>\n",
       "</tbody>\n",
       "</table>\n"
      ],
      "text/latex": [
       "A matrix: 6 × 6 of type dbl\n",
       "\\begin{tabular}{llllll}\n",
       " PC1 & PC2 & PC3 & PC4 & PC5 & PC6\\\\\n",
       "\\hline\n",
       "\t -0.4470380 &  0.46088301 &  0.1547431 & -0.179663264 & -0.63907013 & 0.3508688\\\\\n",
       "\t -0.4015488 &  0.21173719 &  0.3358751 &  0.650025100 &  0.45587229 & 0.2253036\\\\\n",
       "\t -0.1424289 & -0.06084952 & -0.7890890 &  0.526857775 & -0.27481658 & 0.0157022\\\\\n",
       "\t -0.4254760 &  0.07608897 & -0.4512964 & -0.514071833 &  0.52860310 & 0.2565563\\\\\n",
       "\t  0.6271670 &  0.22469590 & -0.1063428 &  0.057642612 &  0.08283993 & 0.7312178\\\\\n",
       "\t -0.2103839 & -0.82630126 &  0.1600118 & -0.004104359 & -0.14819575 & 0.4747444\\\\\n",
       "\\end{tabular}\n"
      ],
      "text/markdown": [
       "\n",
       "A matrix: 6 × 6 of type dbl\n",
       "\n",
       "| PC1 | PC2 | PC3 | PC4 | PC5 | PC6 |\n",
       "|---|---|---|---|---|---|\n",
       "| -0.4470380 |  0.46088301 |  0.1547431 | -0.179663264 | -0.63907013 | 0.3508688 |\n",
       "| -0.4015488 |  0.21173719 |  0.3358751 |  0.650025100 |  0.45587229 | 0.2253036 |\n",
       "| -0.1424289 | -0.06084952 | -0.7890890 |  0.526857775 | -0.27481658 | 0.0157022 |\n",
       "| -0.4254760 |  0.07608897 | -0.4512964 | -0.514071833 |  0.52860310 | 0.2565563 |\n",
       "|  0.6271670 |  0.22469590 | -0.1063428 |  0.057642612 |  0.08283993 | 0.7312178 |\n",
       "| -0.2103839 | -0.82630126 |  0.1600118 | -0.004104359 | -0.14819575 | 0.4747444 |\n",
       "\n"
      ],
      "text/plain": [
       "     PC1        PC2         PC3        PC4          PC5         PC6      \n",
       "[1,] -0.4470380  0.46088301  0.1547431 -0.179663264 -0.63907013 0.3508688\n",
       "[2,] -0.4015488  0.21173719  0.3358751  0.650025100  0.45587229 0.2253036\n",
       "[3,] -0.1424289 -0.06084952 -0.7890890  0.526857775 -0.27481658 0.0157022\n",
       "[4,] -0.4254760  0.07608897 -0.4512964 -0.514071833  0.52860310 0.2565563\n",
       "[5,]  0.6271670  0.22469590 -0.1063428  0.057642612  0.08283993 0.7312178\n",
       "[6,] -0.2103839 -0.82630126  0.1600118 -0.004104359 -0.14819575 0.4747444"
      ]
     },
     "metadata": {},
     "output_type": "display_data"
    }
   ],
   "source": [
    "R_prcomp <- prcomp(R, center = TRUE, scale. = FALSE, retx = TRUE)\n",
    "R_prcomp$rotation"
   ]
  },
  {
   "cell_type": "code",
   "execution_count": 18,
   "metadata": {
    "vscode": {
     "languageId": "r"
    }
   },
   "outputs": [
    {
     "data": {
      "text/html": [
       "<style>\n",
       ".list-inline {list-style: none; margin:0; padding: 0}\n",
       ".list-inline>li {display: inline-block}\n",
       ".list-inline>li:not(:last-child)::after {content: \"\\00b7\"; padding: 0 .5ex}\n",
       "</style>\n",
       "<ol class=list-inline><li>0.755995958261463</li><li>0.443025050298856</li><li>0.332348423359276</li><li>0.269459913408217</li><li>0.189708292183906</li><li>2.47622038834351e-17</li></ol>\n"
      ],
      "text/latex": [
       "\\begin{enumerate*}\n",
       "\\item 0.755995958261463\n",
       "\\item 0.443025050298856\n",
       "\\item 0.332348423359276\n",
       "\\item 0.269459913408217\n",
       "\\item 0.189708292183906\n",
       "\\item 2.47622038834351e-17\n",
       "\\end{enumerate*}\n"
      ],
      "text/markdown": [
       "1. 0.755995958261463\n",
       "2. 0.443025050298856\n",
       "3. 0.332348423359276\n",
       "4. 0.269459913408217\n",
       "5. 0.189708292183906\n",
       "6. 2.47622038834351e-17\n",
       "\n",
       "\n"
      ],
      "text/plain": [
       "[1] 7.559960e-01 4.430251e-01 3.323484e-01 2.694599e-01 1.897083e-01\n",
       "[6] 2.476220e-17"
      ]
     },
     "metadata": {},
     "output_type": "display_data"
    }
   ],
   "source": [
    "R_prcomp$sdev"
   ]
  },
  {
   "cell_type": "code",
   "execution_count": 19,
   "metadata": {
    "vscode": {
     "languageId": "r"
    }
   },
   "outputs": [
    {
     "data": {
      "text/html": [
       "<style>\n",
       ".list-inline {list-style: none; margin:0; padding: 0}\n",
       ".list-inline>li {display: inline-block}\n",
       ".list-inline>li:not(:last-child)::after {content: \"\\00b7\"; padding: 0 .5ex}\n",
       "</style>\n",
       "<ol class=list-inline><li>39</li><li>18</li><li>16</li><li>11</li><li>8</li><li>7</li></ol>\n"
      ],
      "text/latex": [
       "\\begin{enumerate*}\n",
       "\\item 39\n",
       "\\item 18\n",
       "\\item 16\n",
       "\\item 11\n",
       "\\item 8\n",
       "\\item 7\n",
       "\\end{enumerate*}\n"
      ],
      "text/markdown": [
       "1. 39\n",
       "2. 18\n",
       "3. 16\n",
       "4. 11\n",
       "5. 8\n",
       "6. 7\n",
       "\n",
       "\n"
      ],
      "text/plain": [
       "[1] 39 18 16 11  8  7"
      ]
     },
     "metadata": {},
     "output_type": "display_data"
    }
   ],
   "source": [
    "round((lambda)/sum(lambda)*100)"
   ]
  },
  {
   "cell_type": "code",
   "execution_count": 20,
   "metadata": {
    "vscode": {
     "languageId": "r"
    }
   },
   "outputs": [
    {
     "data": {
      "text/html": [
       "<style>\n",
       ".list-inline {list-style: none; margin:0; padding: 0}\n",
       ".list-inline>li {display: inline-block}\n",
       ".list-inline>li:not(:last-child)::after {content: \"\\00b7\"; padding: 0 .5ex}\n",
       "</style>\n",
       "<ol class=list-inline><li>39.2</li><li>57.1</li><li>73.5</li><li>84.6</li><li>92.9</li><li>100</li></ol>\n"
      ],
      "text/latex": [
       "\\begin{enumerate*}\n",
       "\\item 39.2\n",
       "\\item 57.1\n",
       "\\item 73.5\n",
       "\\item 84.6\n",
       "\\item 92.9\n",
       "\\item 100\n",
       "\\end{enumerate*}\n"
      ],
      "text/markdown": [
       "1. 39.2\n",
       "2. 57.1\n",
       "3. 73.5\n",
       "4. 84.6\n",
       "5. 92.9\n",
       "6. 100\n",
       "\n",
       "\n"
      ],
      "text/plain": [
       "[1]  39.2  57.1  73.5  84.6  92.9 100.0"
      ]
     },
     "metadata": {},
     "output_type": "display_data"
    }
   ],
   "source": [
    "round(cumsum(lambda)/sum(lambda)*100, 1)"
   ]
  },
  {
   "cell_type": "markdown",
   "metadata": {},
   "source": [
    "***"
   ]
  },
  {
   "cell_type": "markdown",
   "metadata": {
    "vscode": {
     "languageId": "r"
    }
   },
   "source": [
    "## 8.26\n",
    "\n",
    "Consider the psychological profile data in **Table 4.6**. Using the five variables, Indep, Supp, Benev, Conform and Leader,performs a principal component analysis using the covariance matrix $S$ and the correlation matrix $R$. Your analysis should include the following:"
   ]
  },
  {
   "cell_type": "code",
   "execution_count": 21,
   "metadata": {
    "vscode": {
     "languageId": "r"
    }
   },
   "outputs": [
    {
     "data": {
      "text/html": [
       "<table class=\"dataframe\">\n",
       "<caption>A matrix: 5 × 5 of type dbl</caption>\n",
       "<thead>\n",
       "\t<tr><th></th><th scope=col>V1</th><th scope=col>V2</th><th scope=col>V3</th><th scope=col>V4</th><th scope=col>V5</th></tr>\n",
       "</thead>\n",
       "<tbody>\n",
       "\t<tr><th scope=row>V1</th><td> 34.750209</td><td>-4.2766846</td><td>-18.0717949</td><td>-15.972868</td><td>  5.716458</td></tr>\n",
       "\t<tr><th scope=row>V2</th><td> -4.276685</td><td>17.5134168</td><td>  0.4197973</td><td> -7.868217</td><td> -8.723315</td></tr>\n",
       "\t<tr><th scope=row>V3</th><td>-18.071795</td><td> 0.4197973</td><td> 29.8447227</td><td>  9.348837</td><td>-13.942159</td></tr>\n",
       "\t<tr><th scope=row>V4</th><td>-15.972868</td><td>-7.8682171</td><td>  9.3488372</td><td> 33.042636</td><td> -9.941860</td></tr>\n",
       "\t<tr><th scope=row>V5</th><td>  5.716458</td><td>-8.7233154</td><td>-13.9421586</td><td> -9.941860</td><td> 26.957961</td></tr>\n",
       "</tbody>\n",
       "</table>\n"
      ],
      "text/latex": [
       "A matrix: 5 × 5 of type dbl\n",
       "\\begin{tabular}{r|lllll}\n",
       "  & V1 & V2 & V3 & V4 & V5\\\\\n",
       "\\hline\n",
       "\tV1 &  34.750209 & -4.2766846 & -18.0717949 & -15.972868 &   5.716458\\\\\n",
       "\tV2 &  -4.276685 & 17.5134168 &   0.4197973 &  -7.868217 &  -8.723315\\\\\n",
       "\tV3 & -18.071795 &  0.4197973 &  29.8447227 &   9.348837 & -13.942159\\\\\n",
       "\tV4 & -15.972868 & -7.8682171 &   9.3488372 &  33.042636 &  -9.941860\\\\\n",
       "\tV5 &   5.716458 & -8.7233154 & -13.9421586 &  -9.941860 &  26.957961\\\\\n",
       "\\end{tabular}\n"
      ],
      "text/markdown": [
       "\n",
       "A matrix: 5 × 5 of type dbl\n",
       "\n",
       "| <!--/--> | V1 | V2 | V3 | V4 | V5 |\n",
       "|---|---|---|---|---|---|\n",
       "| V1 |  34.750209 | -4.2766846 | -18.0717949 | -15.972868 |   5.716458 |\n",
       "| V2 |  -4.276685 | 17.5134168 |   0.4197973 |  -7.868217 |  -8.723315 |\n",
       "| V3 | -18.071795 |  0.4197973 |  29.8447227 |   9.348837 | -13.942159 |\n",
       "| V4 | -15.972868 | -7.8682171 |   9.3488372 |  33.042636 |  -9.941860 |\n",
       "| V5 |   5.716458 | -8.7233154 | -13.9421586 |  -9.941860 |  26.957961 |\n",
       "\n"
      ],
      "text/plain": [
       "   V1         V2         V3          V4         V5        \n",
       "V1  34.750209 -4.2766846 -18.0717949 -15.972868   5.716458\n",
       "V2  -4.276685 17.5134168   0.4197973  -7.868217  -8.723315\n",
       "V3 -18.071795  0.4197973  29.8447227   9.348837 -13.942159\n",
       "V4 -15.972868 -7.8682171   9.3488372  33.042636  -9.941860\n",
       "V5   5.716458 -8.7233154 -13.9421586  -9.941860  26.957961"
      ]
     },
     "metadata": {},
     "output_type": "display_data"
    }
   ],
   "source": [
    "data8.26= read.table(\"D:/A-多元统计分析/Wichern_data/Wichern_data/T4-6.DAT\")[1:5]\n",
    "cov(data8.26)"
   ]
  },
  {
   "cell_type": "code",
   "execution_count": 22,
   "metadata": {
    "vscode": {
     "languageId": "r"
    }
   },
   "outputs": [
    {
     "data": {
      "text/html": [
       "<table class=\"dataframe\">\n",
       "<caption>A matrix: 5 × 5 of type dbl</caption>\n",
       "<thead>\n",
       "\t<tr><th></th><th scope=col>V1</th><th scope=col>V2</th><th scope=col>V3</th><th scope=col>V4</th><th scope=col>V5</th></tr>\n",
       "</thead>\n",
       "<tbody>\n",
       "\t<tr><th scope=row>V1</th><td> 1.0000000</td><td>-0.17335767</td><td>-0.56116271</td><td>-0.4713753</td><td> 0.1867690</td></tr>\n",
       "\t<tr><th scope=row>V2</th><td>-0.1733577</td><td> 1.00000000</td><td> 0.01836202</td><td>-0.3270797</td><td>-0.4014696</td></tr>\n",
       "\t<tr><th scope=row>V3</th><td>-0.5611627</td><td> 0.01836202</td><td> 1.00000000</td><td> 0.2977052</td><td>-0.4915331</td></tr>\n",
       "\t<tr><th scope=row>V4</th><td>-0.4713753</td><td>-0.32707967</td><td> 0.29770524</td><td> 1.0000000</td><td>-0.3331093</td></tr>\n",
       "\t<tr><th scope=row>V5</th><td> 0.1867690</td><td>-0.40146956</td><td>-0.49153305</td><td>-0.3331093</td><td> 1.0000000</td></tr>\n",
       "</tbody>\n",
       "</table>\n"
      ],
      "text/latex": [
       "A matrix: 5 × 5 of type dbl\n",
       "\\begin{tabular}{r|lllll}\n",
       "  & V1 & V2 & V3 & V4 & V5\\\\\n",
       "\\hline\n",
       "\tV1 &  1.0000000 & -0.17335767 & -0.56116271 & -0.4713753 &  0.1867690\\\\\n",
       "\tV2 & -0.1733577 &  1.00000000 &  0.01836202 & -0.3270797 & -0.4014696\\\\\n",
       "\tV3 & -0.5611627 &  0.01836202 &  1.00000000 &  0.2977052 & -0.4915331\\\\\n",
       "\tV4 & -0.4713753 & -0.32707967 &  0.29770524 &  1.0000000 & -0.3331093\\\\\n",
       "\tV5 &  0.1867690 & -0.40146956 & -0.49153305 & -0.3331093 &  1.0000000\\\\\n",
       "\\end{tabular}\n"
      ],
      "text/markdown": [
       "\n",
       "A matrix: 5 × 5 of type dbl\n",
       "\n",
       "| <!--/--> | V1 | V2 | V3 | V4 | V5 |\n",
       "|---|---|---|---|---|---|\n",
       "| V1 |  1.0000000 | -0.17335767 | -0.56116271 | -0.4713753 |  0.1867690 |\n",
       "| V2 | -0.1733577 |  1.00000000 |  0.01836202 | -0.3270797 | -0.4014696 |\n",
       "| V3 | -0.5611627 |  0.01836202 |  1.00000000 |  0.2977052 | -0.4915331 |\n",
       "| V4 | -0.4713753 | -0.32707967 |  0.29770524 |  1.0000000 | -0.3331093 |\n",
       "| V5 |  0.1867690 | -0.40146956 | -0.49153305 | -0.3331093 |  1.0000000 |\n",
       "\n"
      ],
      "text/plain": [
       "   V1         V2          V3          V4         V5        \n",
       "V1  1.0000000 -0.17335767 -0.56116271 -0.4713753  0.1867690\n",
       "V2 -0.1733577  1.00000000  0.01836202 -0.3270797 -0.4014696\n",
       "V3 -0.5611627  0.01836202  1.00000000  0.2977052 -0.4915331\n",
       "V4 -0.4713753 -0.32707967  0.29770524  1.0000000 -0.3331093\n",
       "V5  0.1867690 -0.40146956 -0.49153305 -0.3331093  1.0000000"
      ]
     },
     "metadata": {},
     "output_type": "display_data"
    }
   ],
   "source": [
    "R=cor(data8.26)\n",
    "R"
   ]
  },
  {
   "cell_type": "markdown",
   "metadata": {
    "vscode": {
     "languageId": "r"
    }
   },
   "source": [
    "### (a)\n",
    "Determine the appropriate number of components to effectively summarize the variability.Construct a scree plot to aid in your determination.  \n",
    "  \n",
    "  \n",
    "  $\\text{(Solution)}.$"
   ]
  },
  {
   "cell_type": "code",
   "execution_count": 23,
   "metadata": {
    "vscode": {
     "languageId": "r"
    }
   },
   "outputs": [
    {
     "data": {
      "text/html": [
       "<table class=\"dataframe\">\n",
       "<caption>A matrix: 5 × 5 of type dbl</caption>\n",
       "<tbody>\n",
       "\t<tr><td> 0.5209626</td><td> 0.086521361</td><td> 0.6674512</td><td> 0.253099293</td><td>0.4599582</td></tr>\n",
       "\t<tr><td>-0.1213677</td><td> 0.788216689</td><td>-0.1870605</td><td>-0.350892684</td><td>0.4537257</td></tr>\n",
       "\t<tr><td>-0.5482732</td><td>-0.007941356</td><td>-0.1150943</td><td> 0.732694760</td><td>0.3863226</td></tr>\n",
       "\t<tr><td>-0.4391410</td><td>-0.490952547</td><td> 0.2949415</td><td>-0.525281896</td><td>0.4507873</td></tr>\n",
       "\t<tr><td> 0.4694885</td><td>-0.360736798</td><td>-0.6475184</td><td>-0.007238184</td><td>0.4797052</td></tr>\n",
       "</tbody>\n",
       "</table>\n"
      ],
      "text/latex": [
       "A matrix: 5 × 5 of type dbl\n",
       "\\begin{tabular}{lllll}\n",
       "\t  0.5209626 &  0.086521361 &  0.6674512 &  0.253099293 & 0.4599582\\\\\n",
       "\t -0.1213677 &  0.788216689 & -0.1870605 & -0.350892684 & 0.4537257\\\\\n",
       "\t -0.5482732 & -0.007941356 & -0.1150943 &  0.732694760 & 0.3863226\\\\\n",
       "\t -0.4391410 & -0.490952547 &  0.2949415 & -0.525281896 & 0.4507873\\\\\n",
       "\t  0.4694885 & -0.360736798 & -0.6475184 & -0.007238184 & 0.4797052\\\\\n",
       "\\end{tabular}\n"
      ],
      "text/markdown": [
       "\n",
       "A matrix: 5 × 5 of type dbl\n",
       "\n",
       "|  0.5209626 |  0.086521361 |  0.6674512 |  0.253099293 | 0.4599582 |\n",
       "| -0.1213677 |  0.788216689 | -0.1870605 | -0.350892684 | 0.4537257 |\n",
       "| -0.5482732 | -0.007941356 | -0.1150943 |  0.732694760 | 0.3863226 |\n",
       "| -0.4391410 | -0.490952547 |  0.2949415 | -0.525281896 | 0.4507873 |\n",
       "|  0.4694885 | -0.360736798 | -0.6475184 | -0.007238184 | 0.4797052 |\n",
       "\n"
      ],
      "text/plain": [
       "     [,1]       [,2]         [,3]       [,4]         [,5]     \n",
       "[1,]  0.5209626  0.086521361  0.6674512  0.253099293 0.4599582\n",
       "[2,] -0.1213677  0.788216689 -0.1870605 -0.350892684 0.4537257\n",
       "[3,] -0.5482732 -0.007941356 -0.1150943  0.732694760 0.3863226\n",
       "[4,] -0.4391410 -0.490952547  0.2949415 -0.525281896 0.4507873\n",
       "[5,]  0.4694885 -0.360736798 -0.6475184 -0.007238184 0.4797052"
      ]
     },
     "metadata": {},
     "output_type": "display_data"
    }
   ],
   "source": [
    "# Principal Components\n",
    "E <- eigen(R)$vectors\n",
    "lambda <- eigen(R)$values\n",
    "# cumsum(x)函 数 返 回 由x中 的 元 素 依 次 累 加 得 到 的 向 量\n",
    "E"
   ]
  },
  {
   "cell_type": "code",
   "execution_count": 24,
   "metadata": {
    "vscode": {
     "languageId": "r"
    }
   },
   "outputs": [
    {
     "data": {
      "text/html": [
       "<style>\n",
       ".list-inline {list-style: none; margin:0; padding: 0}\n",
       ".list-inline>li {display: inline-block}\n",
       ".list-inline>li:not(:last-child)::after {content: \"\\00b7\"; padding: 0 .5ex}\n",
       "</style>\n",
       "<ol class=list-inline><li>2.1966244333059</li><li>1.3682495964042</li><li>0.755863037017989</li><li>0.588785989325075</li><li>0.0904769439468363</li></ol>\n"
      ],
      "text/latex": [
       "\\begin{enumerate*}\n",
       "\\item 2.1966244333059\n",
       "\\item 1.3682495964042\n",
       "\\item 0.755863037017989\n",
       "\\item 0.588785989325075\n",
       "\\item 0.0904769439468363\n",
       "\\end{enumerate*}\n"
      ],
      "text/markdown": [
       "1. 2.1966244333059\n",
       "2. 1.3682495964042\n",
       "3. 0.755863037017989\n",
       "4. 0.588785989325075\n",
       "5. 0.0904769439468363\n",
       "\n",
       "\n"
      ],
      "text/plain": [
       "[1] 2.19662443 1.36824960 0.75586304 0.58878599 0.09047694"
      ]
     },
     "metadata": {},
     "output_type": "display_data"
    }
   ],
   "source": [
    "lambda"
   ]
  },
  {
   "cell_type": "code",
   "execution_count": 25,
   "metadata": {
    "vscode": {
     "languageId": "r"
    }
   },
   "outputs": [
    {
     "data": {
      "text/html": [
       "<style>\n",
       ".list-inline {list-style: none; margin:0; padding: 0}\n",
       ".list-inline>li {display: inline-block}\n",
       ".list-inline>li:not(:last-child)::after {content: \"\\00b7\"; padding: 0 .5ex}\n",
       "</style>\n",
       "<ol class=list-inline><li>43.9</li><li>71.3</li><li>86.4</li><li>98.2</li><li>100</li></ol>\n"
      ],
      "text/latex": [
       "\\begin{enumerate*}\n",
       "\\item 43.9\n",
       "\\item 71.3\n",
       "\\item 86.4\n",
       "\\item 98.2\n",
       "\\item 100\n",
       "\\end{enumerate*}\n"
      ],
      "text/markdown": [
       "1. 43.9\n",
       "2. 71.3\n",
       "3. 86.4\n",
       "4. 98.2\n",
       "5. 100\n",
       "\n",
       "\n"
      ],
      "text/plain": [
       "[1]  43.9  71.3  86.4  98.2 100.0"
      ]
     },
     "metadata": {},
     "output_type": "display_data"
    }
   ],
   "source": [
    "round(cumsum(lambda)/sum(lambda)*100, 1)"
   ]
  },
  {
   "cell_type": "code",
   "execution_count": 26,
   "metadata": {
    "vscode": {
     "languageId": "r"
    }
   },
   "outputs": [
    {
     "data": {
      "image/png": "[encoded data removed]",
      "text/plain": [
       "Plot with title \"A Scree Plot for Turtle Data\""
      ]
     },
     "metadata": {
      "image/png": {
       "height": 420,
       "width": 420
      }
     },
     "output_type": "display_data"
    }
   ],
   "source": [
    "plot(lambda*1000, type = \"o\", pch = 19, xlab = \"i\",\n",
    "    ylab = expression(hat(lambda)[i]%*%10^(3)),\n",
    "    xaxt = \"n\",\n",
    "    main = \"A Scree Plot for Turtle Data\")\n",
    "        # 添 加x轴 的 刻 度\n",
    "    axis(1, at = c(1:5))"
   ]
  },
  {
   "cell_type": "markdown",
   "metadata": {},
   "source": [
    "### (b)  \n",
    "Interpret the sample principal components"
   ]
  },
  {
   "cell_type": "code",
   "execution_count": 27,
   "metadata": {
    "vscode": {
     "languageId": "r"
    }
   },
   "outputs": [
    {
     "data": {
      "text/html": [
       "<table class=\"dataframe\">\n",
       "<caption>A matrix: 5 × 5 of type dbl</caption>\n",
       "<tbody>\n",
       "\t<tr><td> 0.5209626</td><td> 0.086521361</td><td> 0.6674512</td><td> 0.253099293</td><td>0.4599582</td></tr>\n",
       "\t<tr><td>-0.1213677</td><td> 0.788216689</td><td>-0.1870605</td><td>-0.350892684</td><td>0.4537257</td></tr>\n",
       "\t<tr><td>-0.5482732</td><td>-0.007941356</td><td>-0.1150943</td><td> 0.732694760</td><td>0.3863226</td></tr>\n",
       "\t<tr><td>-0.4391410</td><td>-0.490952547</td><td> 0.2949415</td><td>-0.525281896</td><td>0.4507873</td></tr>\n",
       "\t<tr><td> 0.4694885</td><td>-0.360736798</td><td>-0.6475184</td><td>-0.007238184</td><td>0.4797052</td></tr>\n",
       "</tbody>\n",
       "</table>\n"
      ],
      "text/latex": [
       "A matrix: 5 × 5 of type dbl\n",
       "\\begin{tabular}{lllll}\n",
       "\t  0.5209626 &  0.086521361 &  0.6674512 &  0.253099293 & 0.4599582\\\\\n",
       "\t -0.1213677 &  0.788216689 & -0.1870605 & -0.350892684 & 0.4537257\\\\\n",
       "\t -0.5482732 & -0.007941356 & -0.1150943 &  0.732694760 & 0.3863226\\\\\n",
       "\t -0.4391410 & -0.490952547 &  0.2949415 & -0.525281896 & 0.4507873\\\\\n",
       "\t  0.4694885 & -0.360736798 & -0.6475184 & -0.007238184 & 0.4797052\\\\\n",
       "\\end{tabular}\n"
      ],
      "text/markdown": [
       "\n",
       "A matrix: 5 × 5 of type dbl\n",
       "\n",
       "|  0.5209626 |  0.086521361 |  0.6674512 |  0.253099293 | 0.4599582 |\n",
       "| -0.1213677 |  0.788216689 | -0.1870605 | -0.350892684 | 0.4537257 |\n",
       "| -0.5482732 | -0.007941356 | -0.1150943 |  0.732694760 | 0.3863226 |\n",
       "| -0.4391410 | -0.490952547 |  0.2949415 | -0.525281896 | 0.4507873 |\n",
       "|  0.4694885 | -0.360736798 | -0.6475184 | -0.007238184 | 0.4797052 |\n",
       "\n"
      ],
      "text/plain": [
       "     [,1]       [,2]         [,3]       [,4]         [,5]     \n",
       "[1,]  0.5209626  0.086521361  0.6674512  0.253099293 0.4599582\n",
       "[2,] -0.1213677  0.788216689 -0.1870605 -0.350892684 0.4537257\n",
       "[3,] -0.5482732 -0.007941356 -0.1150943  0.732694760 0.3863226\n",
       "[4,] -0.4391410 -0.490952547  0.2949415 -0.525281896 0.4507873\n",
       "[5,]  0.4694885 -0.360736798 -0.6475184 -0.007238184 0.4797052"
      ]
     },
     "metadata": {},
     "output_type": "display_data"
    }
   ],
   "source": [
    "E"
   ]
  },
  {
   "cell_type": "code",
   "execution_count": 28,
   "metadata": {
    "vscode": {
     "languageId": "r"
    }
   },
   "outputs": [
    {
     "data": {
      "text/html": [
       "<style>\n",
       ".list-inline {list-style: none; margin:0; padding: 0}\n",
       ".list-inline>li {display: inline-block}\n",
       ".list-inline>li:not(:last-child)::after {content: \"\\00b7\"; padding: 0 .5ex}\n",
       "</style>\n",
       "<ol class=list-inline><li>2.1966244333059</li><li>1.3682495964042</li><li>0.755863037017989</li><li>0.588785989325075</li><li>0.0904769439468363</li></ol>\n"
      ],
      "text/latex": [
       "\\begin{enumerate*}\n",
       "\\item 2.1966244333059\n",
       "\\item 1.3682495964042\n",
       "\\item 0.755863037017989\n",
       "\\item 0.588785989325075\n",
       "\\item 0.0904769439468363\n",
       "\\end{enumerate*}\n"
      ],
      "text/markdown": [
       "1. 2.1966244333059\n",
       "2. 1.3682495964042\n",
       "3. 0.755863037017989\n",
       "4. 0.588785989325075\n",
       "5. 0.0904769439468363\n",
       "\n",
       "\n"
      ],
      "text/plain": [
       "[1] 2.19662443 1.36824960 0.75586304 0.58878599 0.09047694"
      ]
     },
     "metadata": {},
     "output_type": "display_data"
    }
   ],
   "source": [
    "lambda"
   ]
  },
  {
   "cell_type": "code",
   "execution_count": 29,
   "metadata": {
    "vscode": {
     "languageId": "r"
    }
   },
   "outputs": [
    {
     "data": {
      "text/html": [
       "<style>\n",
       ".list-inline {list-style: none; margin:0; padding: 0}\n",
       ".list-inline>li {display: inline-block}\n",
       ".list-inline>li:not(:last-child)::after {content: \"\\00b7\"; padding: 0 .5ex}\n",
       "</style>\n",
       "<ol class=list-inline><li>43.9</li><li>71.3</li><li>86.4</li><li>98.2</li><li>100</li></ol>\n"
      ],
      "text/latex": [
       "\\begin{enumerate*}\n",
       "\\item 43.9\n",
       "\\item 71.3\n",
       "\\item 86.4\n",
       "\\item 98.2\n",
       "\\item 100\n",
       "\\end{enumerate*}\n"
      ],
      "text/markdown": [
       "1. 43.9\n",
       "2. 71.3\n",
       "3. 86.4\n",
       "4. 98.2\n",
       "5. 100\n",
       "\n",
       "\n"
      ],
      "text/plain": [
       "[1]  43.9  71.3  86.4  98.2 100.0"
      ]
     },
     "metadata": {},
     "output_type": "display_data"
    }
   ],
   "source": [
    "round(cumsum(lambda)/sum(lambda)*100, 1)"
   ]
  },
  {
   "cell_type": "markdown",
   "metadata": {},
   "source": [
    "### (c)\n",
    "Using the values for the first two principal components,plot the data in a two\n",
    "dimensional space with $\\hat{y_1}$ along the vertical axis and $\\hat{y_2}$ along the horizontal axis.  \n",
    "\n",
    " Can you distinguish groups representing the two socioeconomic levels and/or the two genders? Are there any outliers?"
   ]
  },
  {
   "cell_type": "code",
   "execution_count": 30,
   "metadata": {
    "vscode": {
     "languageId": "r"
    }
   },
   "outputs": [
    {
     "data": {
      "image/png": "[encoded data removed]",
      "text/plain": [
       "plot without title"
      ]
     },
     "metadata": {
      "image/png": {
       "height": 420,
       "width": 420
      }
     },
     "output_type": "display_data"
    }
   ],
   "source": [
    "hat_y1 <- c(t(E[, 1])%*%t(scale(data8.26, center = TRUE, scale = FALSE)))\n",
    "hat_y2 <- c(t(E[, 2])%*%t(scale(data8.26, center = TRUE, scale = FALSE)))\n",
    "hat_y3 <- c(t(E[, 3])%*%t(scale(data8.26, center = TRUE, scale = FALSE)))\n",
    "hat_y4 <- c(t(E[, 4])%*%t(scale(data8.26, center = TRUE, scale = FALSE)))\n",
    "hat_y5 <- c(t(E[, 5])%*%t(scale(data8.26, center = TRUE, scale = FALSE)))\n",
    "\n",
    "\n",
    "plot(hat_y1, hat_y2, pch=19)"
   ]
  },
  {
   "cell_type": "markdown",
   "metadata": {
    "vscode": {
     "languageId": "r"
    }
   },
   "source": [
    "The two dimensional plot of the scores on the first two components suggests that the data can be separated into two groups.  \n",
    "  \n",
    "  Then several outliers are observed."
   ]
  },
  {
   "cell_type": "markdown",
   "metadata": {},
   "source": [
    "### (d)\n",
    "Construct a 95% confidence interval for $\\lambda_1$, the variance of the first population\n",
    " principal component from the covariance matrix.  \n",
    "\n",
    " $(Solution).$"
   ]
  },
  {
   "cell_type": "markdown",
   "metadata": {
    "vscode": {
     "languageId": "r"
    }
   },
   "source": [
    "Large sample 95% confidence interval for $\\lambda_1:$  \n",
    "$(\\frac{68.752}{1+1.96\\sqrt{2/130}},\\frac{68.752}{1-1.96\\sqrt{2/130}})=(55.31,90.83)$\n"
   ]
  },
  {
   "cell_type": "markdown",
   "metadata": {},
   "source": [
    "***"
   ]
  },
  {
   "cell_type": "markdown",
   "metadata": {
    "vscode": {
     "languageId": "r"
    }
   },
   "source": [
    "## 9.12\n",
    "The covariance matrix for the logarithms of turtle measurements(see Example8.4) is $$S = 10^{-3}\\begin{pmatrix} 11.072& & \\\\8.019 & 6.417 & \\\\8.160& 6.005& 6.773 \\end{pmatrix}$$  \n",
    "The following maximum likelihood estimates of the factor loadings for an model were obtained:  \n",
    "\n",
    "|Variable| Estimated factor loadings $F_1$|\n",
    "|---|---|\n",
    "| 1. ln(length)| 0.1022 |\n",
    "| 2. ln(width) | 0.0752 |\n",
    "| 3. ln(height) | 0.0765 |  \n",
    "\n",
    " Using the estimated factor loadings,obtain the maximum likelihood estimates of each of the following.\n"
   ]
  },
  {
   "cell_type": "markdown",
   "metadata": {
    "vscode": {
     "languageId": "r"
    }
   },
   "source": [
    " ### (a)\n",
    " Specific variances."
   ]
  },
  {
   "cell_type": "code",
   "execution_count": 31,
   "metadata": {
    "vscode": {
     "languageId": "r"
    }
   },
   "outputs": [],
   "source": [
    "data9.12= read.table('D:/A-多元统计分析/Wichern_data/Wichern_data/E8-4.DAT')"
   ]
  },
  {
   "cell_type": "code",
   "execution_count": 32,
   "metadata": {
    "vscode": {
     "languageId": "r"
    }
   },
   "outputs": [],
   "source": [
    "S=cov(log(data9.12))"
   ]
  },
  {
   "cell_type": "code",
   "execution_count": 33,
   "metadata": {
    "vscode": {
     "languageId": "r"
    }
   },
   "outputs": [
    {
     "data": {
      "text/html": [
       "<table class=\"dataframe\">\n",
       "<caption>A matrix: 3 × 3 of type dbl</caption>\n",
       "<thead>\n",
       "\t<tr><th></th><th scope=col>V1</th><th scope=col>V2</th><th scope=col>V3</th></tr>\n",
       "</thead>\n",
       "<tbody>\n",
       "\t<tr><th scope=row>V1</th><td>0.011072004</td><td>0.008019142</td><td>0.008159648</td></tr>\n",
       "\t<tr><th scope=row>V2</th><td>0.008019142</td><td>0.006416726</td><td>0.006005271</td></tr>\n",
       "\t<tr><th scope=row>V3</th><td>0.008159648</td><td>0.006005271</td><td>0.006772758</td></tr>\n",
       "</tbody>\n",
       "</table>\n"
      ],
      "text/latex": [
       "A matrix: 3 × 3 of type dbl\n",
       "\\begin{tabular}{r|lll}\n",
       "  & V1 & V2 & V3\\\\\n",
       "\\hline\n",
       "\tV1 & 0.011072004 & 0.008019142 & 0.008159648\\\\\n",
       "\tV2 & 0.008019142 & 0.006416726 & 0.006005271\\\\\n",
       "\tV3 & 0.008159648 & 0.006005271 & 0.006772758\\\\\n",
       "\\end{tabular}\n"
      ],
      "text/markdown": [
       "\n",
       "A matrix: 3 × 3 of type dbl\n",
       "\n",
       "| <!--/--> | V1 | V2 | V3 |\n",
       "|---|---|---|---|\n",
       "| V1 | 0.011072004 | 0.008019142 | 0.008159648 |\n",
       "| V2 | 0.008019142 | 0.006416726 | 0.006005271 |\n",
       "| V3 | 0.008159648 | 0.006005271 | 0.006772758 |\n",
       "\n"
      ],
      "text/plain": [
       "   V1          V2          V3         \n",
       "V1 0.011072004 0.008019142 0.008159648\n",
       "V2 0.008019142 0.006416726 0.006005271\n",
       "V3 0.008159648 0.006005271 0.006772758"
      ]
     },
     "metadata": {},
     "output_type": "display_data"
    }
   ],
   "source": [
    "S"
   ]
  },
  {
   "cell_type": "code",
   "execution_count": 34,
   "metadata": {
    "vscode": {
     "languageId": "r"
    }
   },
   "outputs": [
    {
     "name": "stderr",
     "output_type": "stream",
     "text": [
      "Warning message:\n",
      "\"package 'psych' was built under R version 4.3.3\"\n"
     ]
    },
    {
     "name": "stdout",
     "output_type": "stream",
     "text": [
      "Factor Analysis using method =  ml\n",
      "Call: fa(r = S, nfactors = 1, rotate = \"none\", fm = \"mle\")\n",
      "Standardized loadings (pattern matrix) based upon correlation matrix\n",
      "     ML1    h2     u2 com\n",
      "V1 0.992 0.984 0.0159   1\n",
      "V2 0.959 0.920 0.0802   1\n",
      "V3 0.950 0.902 0.0978   1\n",
      "\n",
      "                 ML1\n",
      "SS loadings    2.806\n",
      "Proportion Var 0.935\n",
      "\n",
      "Mean item complexity =  1\n",
      "Test of the hypothesis that 1 factor is sufficient.\n",
      "\n",
      "df null model =  3  with the objective function =  4.563\n",
      "df of  the model are 0  and the objective function was  0 \n",
      "\n",
      "The root mean square of the residuals (RMSR) is  0 \n",
      "The df corrected root mean square of the residuals is  NA \n",
      "\n",
      "Fit based upon off diagonal values = 1\n",
      "Measures of factor score adequacy             \n",
      "                                                    ML1\n",
      "Correlation of (regression) scores with factors   0.994\n",
      "Multiple R square of scores with factors          0.988\n",
      "Minimum correlation of possible factor scores     0.976\n"
     ]
    }
   ],
   "source": [
    "library(psych)\n",
    "\n",
    "fac.ml <- fa(r = S, nfactors = 1, fm = \"mle\", rotate = \"none\")\n",
    "# 输 出 结 果 的 保 留 三 位 小 数\n",
    "print(fac.ml, digits = 3)"
   ]
  },
  {
   "cell_type": "code",
   "execution_count": 35,
   "metadata": {
    "vscode": {
     "languageId": "r"
    }
   },
   "outputs": [
    {
     "data": {
      "text/plain": [
       "\n",
       "Loadings:\n",
       "   ML1  \n",
       "V1 0.992\n",
       "V2 0.959\n",
       "V3 0.950\n",
       "\n",
       "                 ML1\n",
       "SS loadings    2.806\n",
       "Proportion Var 0.935"
      ]
     },
     "metadata": {},
     "output_type": "display_data"
    }
   ],
   "source": [
    "L.ml <- fac.ml$loadings\n",
    "L.ml"
   ]
  },
  {
   "cell_type": "code",
   "execution_count": 36,
   "metadata": {
    "vscode": {
     "languageId": "r"
    }
   },
   "outputs": [
    {
     "data": {
      "text/html": [
       "<table class=\"dataframe\">\n",
       "<caption>A matrix: 3 × 3 of type dbl</caption>\n",
       "<thead>\n",
       "\t<tr><th></th><th scope=col>V1</th><th scope=col>V2</th><th scope=col>V3</th></tr>\n",
       "</thead>\n",
       "<tbody>\n",
       "\t<tr><th scope=row>V1</th><td>0.9841029</td><td>0.9513888</td><td>0.9422703</td></tr>\n",
       "\t<tr><th scope=row>V2</th><td>0.9513888</td><td>0.9197623</td><td>0.9109469</td></tr>\n",
       "\t<tr><th scope=row>V3</th><td>0.9422703</td><td>0.9109469</td><td>0.9022160</td></tr>\n",
       "</tbody>\n",
       "</table>\n"
      ],
      "text/latex": [
       "A matrix: 3 × 3 of type dbl\n",
       "\\begin{tabular}{r|lll}\n",
       "  & V1 & V2 & V3\\\\\n",
       "\\hline\n",
       "\tV1 & 0.9841029 & 0.9513888 & 0.9422703\\\\\n",
       "\tV2 & 0.9513888 & 0.9197623 & 0.9109469\\\\\n",
       "\tV3 & 0.9422703 & 0.9109469 & 0.9022160\\\\\n",
       "\\end{tabular}\n"
      ],
      "text/markdown": [
       "\n",
       "A matrix: 3 × 3 of type dbl\n",
       "\n",
       "| <!--/--> | V1 | V2 | V3 |\n",
       "|---|---|---|---|\n",
       "| V1 | 0.9841029 | 0.9513888 | 0.9422703 |\n",
       "| V2 | 0.9513888 | 0.9197623 | 0.9109469 |\n",
       "| V3 | 0.9422703 | 0.9109469 | 0.9022160 |\n",
       "\n"
      ],
      "text/plain": [
       "   V1        V2        V3       \n",
       "V1 0.9841029 0.9513888 0.9422703\n",
       "V2 0.9513888 0.9197623 0.9109469\n",
       "V3 0.9422703 0.9109469 0.9022160"
      ]
     },
     "metadata": {},
     "output_type": "display_data"
    }
   ],
   "source": [
    "(L.ml) %*% t(L.ml )"
   ]
  },
  {
   "cell_type": "markdown",
   "metadata": {
    "vscode": {
     "languageId": "r"
    }
   },
   "source": [
    "### (b)\n",
    "Communalities.\n",
    " "
   ]
  },
  {
   "cell_type": "markdown",
   "metadata": {
    "vscode": {
     "languageId": "r"
    }
   },
   "source": [
    "Since $\\hat{h_i}^2=\\hat{\\ell_ii}^2$, we say:  \n",
    "  \n",
    "$\\quad \\hat{h_1}^2=0.9841029$  \n",
    "$\\quad \\hat{h_2}^2=0.9197623$  \n",
    "$\\quad \\hat{h_3}^2=0.9022160$"
   ]
  },
  {
   "cell_type": "markdown",
   "metadata": {
    "vscode": {
     "languageId": "r"
    }
   },
   "source": [
    "### (c) \n",
    "Proportion of variance explained by the factor."
   ]
  },
  {
   "cell_type": "code",
   "execution_count": 37,
   "metadata": {
    "vscode": {
     "languageId": "r"
    }
   },
   "outputs": [
    {
     "data": {
      "text/html": [
       "<table class=\"dataframe\">\n",
       "<caption>A matrix: 3 × 3 of type dbl</caption>\n",
       "<thead>\n",
       "\t<tr><th></th><th scope=col>V1</th><th scope=col>V2</th><th scope=col>V3</th></tr>\n",
       "</thead>\n",
       "<tbody>\n",
       "\t<tr><th scope=row>V1</th><td>0.010610670</td><td>0.007685011</td><td>0.007819663</td></tr>\n",
       "\t<tr><th scope=row>V2</th><td>0.007685011</td><td>0.006149362</td><td>0.005755051</td></tr>\n",
       "\t<tr><th scope=row>V3</th><td>0.007819663</td><td>0.005755051</td><td>0.006490560</td></tr>\n",
       "</tbody>\n",
       "</table>\n"
      ],
      "text/latex": [
       "A matrix: 3 × 3 of type dbl\n",
       "\\begin{tabular}{r|lll}\n",
       "  & V1 & V2 & V3\\\\\n",
       "\\hline\n",
       "\tV1 & 0.010610670 & 0.007685011 & 0.007819663\\\\\n",
       "\tV2 & 0.007685011 & 0.006149362 & 0.005755051\\\\\n",
       "\tV3 & 0.007819663 & 0.005755051 & 0.006490560\\\\\n",
       "\\end{tabular}\n"
      ],
      "text/markdown": [
       "\n",
       "A matrix: 3 × 3 of type dbl\n",
       "\n",
       "| <!--/--> | V1 | V2 | V3 |\n",
       "|---|---|---|---|\n",
       "| V1 | 0.010610670 | 0.007685011 | 0.007819663 |\n",
       "| V2 | 0.007685011 | 0.006149362 | 0.005755051 |\n",
       "| V3 | 0.007819663 | 0.005755051 | 0.006490560 |\n",
       "\n"
      ],
      "text/plain": [
       "   V1          V2          V3         \n",
       "V1 0.010610670 0.007685011 0.007819663\n",
       "V2 0.007685011 0.006149362 0.005755051\n",
       "V3 0.007819663 0.005755051 0.006490560"
      ]
     },
     "metadata": {},
     "output_type": "display_data"
    }
   ],
   "source": [
    "n=24\n",
    "Sn = (n-1)/n * S\n",
    "Sn"
   ]
  },
  {
   "cell_type": "markdown",
   "metadata": {
    "vscode": {
     "languageId": "r"
    }
   },
   "source": [
    "### (d)\n",
    "The residual matrix $S_n-\\hat{L}\\hat{L}^T-\\hat{\\Psi}$  \n",
    "$\\text{Hint}$: convert $S$ to $S_n$"
   ]
  },
  {
   "cell_type": "code",
   "execution_count": 38,
   "metadata": {
    "vscode": {
     "languageId": "r"
    }
   },
   "outputs": [
    {
     "data": {
      "text/html": [
       "<table class=\"dataframe\">\n",
       "<caption>A matrix: 3 × 3 of type dbl</caption>\n",
       "<thead>\n",
       "\t<tr><th></th><th scope=col>V1</th><th scope=col>V2</th><th scope=col>V3</th></tr>\n",
       "</thead>\n",
       "<tbody>\n",
       "\t<tr><th scope=row>V1</th><td> 0.000000e+00</td><td>-4.289879e-07</td><td>1.362693e-06</td></tr>\n",
       "\t<tr><th scope=row>V2</th><td>-4.289879e-07</td><td> 0.000000e+00</td><td>2.251117e-06</td></tr>\n",
       "\t<tr><th scope=row>V3</th><td> 1.362693e-06</td><td> 2.251117e-06</td><td>0.000000e+00</td></tr>\n",
       "</tbody>\n",
       "</table>\n"
      ],
      "text/latex": [
       "A matrix: 3 × 3 of type dbl\n",
       "\\begin{tabular}{r|lll}\n",
       "  & V1 & V2 & V3\\\\\n",
       "\\hline\n",
       "\tV1 &  0.000000e+00 & -4.289879e-07 & 1.362693e-06\\\\\n",
       "\tV2 & -4.289879e-07 &  0.000000e+00 & 2.251117e-06\\\\\n",
       "\tV3 &  1.362693e-06 &  2.251117e-06 & 0.000000e+00\\\\\n",
       "\\end{tabular}\n"
      ],
      "text/markdown": [
       "\n",
       "A matrix: 3 × 3 of type dbl\n",
       "\n",
       "| <!--/--> | V1 | V2 | V3 |\n",
       "|---|---|---|---|\n",
       "| V1 |  0.000000e+00 | -4.289879e-07 | 1.362693e-06 |\n",
       "| V2 | -4.289879e-07 |  0.000000e+00 | 2.251117e-06 |\n",
       "| V3 |  1.362693e-06 |  2.251117e-06 | 0.000000e+00 |\n",
       "\n"
      ],
      "text/plain": [
       "   V1            V2            V3          \n",
       "V1  0.000000e+00 -4.289879e-07 1.362693e-06\n",
       "V2 -4.289879e-07  0.000000e+00 2.251117e-06\n",
       "V3  1.362693e-06  2.251117e-06 0.000000e+00"
      ]
     },
     "metadata": {},
     "output_type": "display_data"
    }
   ],
   "source": [
    "L_hat= c(0.1022, 0.0752, 0.0765)\n",
    "residual= Sn - L_hat %*% t(L_hat)\n",
    "diag(residual)= c(0,0,0)\n",
    "residual"
   ]
  },
  {
   "cell_type": "markdown",
   "metadata": {},
   "source": [
    "## 9.19\n",
    "$题干太长了来不及抄了\\dots$"
   ]
  },
  {
   "cell_type": "code",
   "execution_count": 39,
   "metadata": {
    "vscode": {
     "languageId": "r"
    }
   },
   "outputs": [
    {
     "data": {
      "text/html": [
       "<table class=\"dataframe\">\n",
       "<caption>A matrix: 50 × 7 of type dbl</caption>\n",
       "<thead>\n",
       "\t<tr><th scope=col>V1</th><th scope=col>V2</th><th scope=col>V3</th><th scope=col>V4</th><th scope=col>V5</th><th scope=col>V6</th><th scope=col>V7</th></tr>\n",
       "</thead>\n",
       "<tbody>\n",
       "\t<tr><td> -5.836</td><td>-10.622</td><td>-5.01</td><td> -2.22</td><td>-2.18</td><td>-1.56</td><td> -9.76</td></tr>\n",
       "\t<tr><td>-10.036</td><td>-14.822</td><td>-6.01</td><td> -4.22</td><td>-4.18</td><td>-0.56</td><td>-14.76</td></tr>\n",
       "\t<tr><td> -3.836</td><td> -6.322</td><td>-3.81</td><td> -3.22</td><td>-2.18</td><td>-1.56</td><td> -3.76</td></tr>\n",
       "\t<tr><td>  2.464</td><td> -2.822</td><td> 3.99</td><td>  1.78</td><td>-0.18</td><td> 1.44</td><td> -0.76</td></tr>\n",
       "\t<tr><td>  3.164</td><td>  1.178</td><td> 0.19</td><td> -1.22</td><td> 0.82</td><td> 1.44</td><td>  2.24</td></tr>\n",
       "\t<tr><td> -3.036</td><td> -9.122</td><td>-3.51</td><td> -1.22</td><td>-0.18</td><td> 0.44</td><td> -8.76</td></tr>\n",
       "\t<tr><td> -3.336</td><td> -7.122</td><td>-3.81</td><td> -2.22</td><td>-2.18</td><td>-1.56</td><td> -4.76</td></tr>\n",
       "\t<tr><td> 11.964</td><td> 15.378</td><td>12.49</td><td>  6.78</td><td> 5.82</td><td> 4.44</td><td> 21.24</td></tr>\n",
       "\t<tr><td>  3.964</td><td>  1.678</td><td> 0.99</td><td> -1.22</td><td> 2.82</td><td> 2.44</td><td>  1.24</td></tr>\n",
       "\t<tr><td>  7.964</td><td> 13.878</td><td>-0.81</td><td>  2.78</td><td> 3.82</td><td> 0.44</td><td>  9.24</td></tr>\n",
       "\t<tr><td>  4.464</td><td>  3.178</td><td> 1.19</td><td>  0.78</td><td> 2.82</td><td> 1.44</td><td>  2.24</td></tr>\n",
       "\t<tr><td>  0.664</td><td>  5.178</td><td>-2.51</td><td> -1.22</td><td> 3.82</td><td>-2.56</td><td>  1.24</td></tr>\n",
       "\t<tr><td>  4.664</td><td>  5.878</td><td> 4.19</td><td>  4.78</td><td> 2.82</td><td> 0.44</td><td>  4.24</td></tr>\n",
       "\t<tr><td>  0.664</td><td> -1.122</td><td>-0.51</td><td> -3.22</td><td>-4.18</td><td> 0.44</td><td>  4.24</td></tr>\n",
       "\t<tr><td>  1.164</td><td>  0.378</td><td>-0.01</td><td>  1.78</td><td>-4.18</td><td>-2.56</td><td>  4.24</td></tr>\n",
       "\t<tr><td>-17.336</td><td>-13.122</td><td>-7.81</td><td> -4.22</td><td>-5.18</td><td>-5.56</td><td>-13.76</td></tr>\n",
       "\t<tr><td>  2.464</td><td> -1.322</td><td>-0.01</td><td> -0.22</td><td>-2.18</td><td> 0.44</td><td>  2.24</td></tr>\n",
       "\t<tr><td>  4.464</td><td>  4.178</td><td> 0.69</td><td> -0.22</td><td>-0.18</td><td> 0.44</td><td>  5.24</td></tr>\n",
       "\t<tr><td> -3.536</td><td> -2.322</td><td> 0.19</td><td> -6.22</td><td>-0.18</td><td> 2.44</td><td>  0.24</td></tr>\n",
       "\t<tr><td>  0.664</td><td> -1.322</td><td> 3.49</td><td>  5.78</td><td> 2.82</td><td> 0.44</td><td> -2.76</td></tr>\n",
       "\t<tr><td>-10.336</td><td>-11.322</td><td>-7.01</td><td> -1.22</td><td>-2.18</td><td>-3.56</td><td>-14.76</td></tr>\n",
       "\t<tr><td>  0.464</td><td>  8.378</td><td> 1.49</td><td> -6.22</td><td>-3.18</td><td> 0.44</td><td> 12.24</td></tr>\n",
       "\t<tr><td>-11.336</td><td>-14.122</td><td>-7.01</td><td> -2.22</td><td>-5.18</td><td>-3.56</td><td>-13.76</td></tr>\n",
       "\t<tr><td>  6.464</td><td>  7.378</td><td> 2.49</td><td>  0.78</td><td> 0.82</td><td> 1.44</td><td>  7.24</td></tr>\n",
       "\t<tr><td>  8.164</td><td> 14.378</td><td> 6.19</td><td>  4.78</td><td> 4.82</td><td> 1.44</td><td>  9.24</td></tr>\n",
       "\t<tr><td> -5.536</td><td> -4.622</td><td>-5.01</td><td> -1.22</td><td> 0.82</td><td>-3.56</td><td> -6.76</td></tr>\n",
       "\t<tr><td>  7.964</td><td> 11.378</td><td> 4.49</td><td>  2.78</td><td> 1.82</td><td> 1.44</td><td>  9.24</td></tr>\n",
       "\t<tr><td>  7.964</td><td> 13.378</td><td> 1.99</td><td> -1.22</td><td> 1.82</td><td> 0.44</td><td> 19.24</td></tr>\n",
       "\t<tr><td> -6.536</td><td>-15.822</td><td>-3.01</td><td> -3.22</td><td>-4.18</td><td> 2.44</td><td>-12.76</td></tr>\n",
       "\t<tr><td>  7.464</td><td> 14.378</td><td> 1.69</td><td> -2.22</td><td> 2.82</td><td> 0.44</td><td> 14.24</td></tr>\n",
       "\t<tr><td>  7.164</td><td> 12.878</td><td> 7.69</td><td>  6.78</td><td> 0.82</td><td>-0.56</td><td> 13.24</td></tr>\n",
       "\t<tr><td>-10.536</td><td>-13.822</td><td>-6.01</td><td>  1.78</td><td>-3.18</td><td>-2.56</td><td>-19.76</td></tr>\n",
       "\t<tr><td> -2.836</td><td> -3.322</td><td>-2.31</td><td> -4.22</td><td> 0.82</td><td> 0.44</td><td> -2.76</td></tr>\n",
       "\t<tr><td> -4.536</td><td>-12.122</td><td>-3.81</td><td> -1.22</td><td>-2.18</td><td> 0.44</td><td>-10.76</td></tr>\n",
       "\t<tr><td>  7.664</td><td> 14.878</td><td> 7.69</td><td>  6.78</td><td> 2.82</td><td>-0.56</td><td> 12.24</td></tr>\n",
       "\t<tr><td>  7.664</td><td>  8.878</td><td> 4.19</td><td> -3.22</td><td>-1.18</td><td> 3.44</td><td> 17.24</td></tr>\n",
       "\t<tr><td> -6.836</td><td> -7.122</td><td> 0.69</td><td>  6.78</td><td> 1.82</td><td>-2.56</td><td>-11.76</td></tr>\n",
       "\t<tr><td>  3.164</td><td> -6.822</td><td> 0.49</td><td>  1.78</td><td>-2.18</td><td> 3.44</td><td> -1.76</td></tr>\n",
       "\t<tr><td>  9.464</td><td> 15.678</td><td> 5.69</td><td>  3.78</td><td> 4.82</td><td> 1.44</td><td> 11.24</td></tr>\n",
       "\t<tr><td>  7.964</td><td> 12.378</td><td> 3.99</td><td>  2.78</td><td> 5.82</td><td> 1.44</td><td>  7.24</td></tr>\n",
       "\t<tr><td>  3.664</td><td>  2.678</td><td> 0.99</td><td> -2.22</td><td> 2.82</td><td> 2.44</td><td>  2.24</td></tr>\n",
       "\t<tr><td> -6.336</td><td> -4.122</td><td>-3.51</td><td>  1.78</td><td> 0.82</td><td>-4.56</td><td> -6.76</td></tr>\n",
       "\t<tr><td>  3.964</td><td>  7.178</td><td> 3.99</td><td>  5.78</td><td> 5.82</td><td>-0.56</td><td>  2.24</td></tr>\n",
       "\t<tr><td>-15.536</td><td>-19.322</td><td>-6.51</td><td>-10.22</td><td>-9.18</td><td>-1.56</td><td>-14.76</td></tr>\n",
       "\t<tr><td> -4.036</td><td> -4.822</td><td>-3.01</td><td> -4.22</td><td> 1.82</td><td> 0.44</td><td> -5.76</td></tr>\n",
       "\t<tr><td>  4.664</td><td>  5.378</td><td> 7.99</td><td>  6.78</td><td>-1.18</td><td> 1.44</td><td>  7.24</td></tr>\n",
       "\t<tr><td> -9.336</td><td>-10.622</td><td>-5.51</td><td> -4.22</td><td> 0.82</td><td> 0.44</td><td>-15.76</td></tr>\n",
       "\t<tr><td>-14.536</td><td>-16.822</td><td>-8.51</td><td> -3.22</td><td>-6.18</td><td>-2.56</td><td>-20.76</td></tr>\n",
       "\t<tr><td>  5.464</td><td>  2.878</td><td> 3.69</td><td>  2.78</td><td>-2.18</td><td> 1.44</td><td>  6.24</td></tr>\n",
       "\t<tr><td>  7.164</td><td> 11.878</td><td> 2.19</td><td>  0.78</td><td> 1.82</td><td> 0.44</td><td>  9.24</td></tr>\n",
       "</tbody>\n",
       "</table>\n"
      ],
      "text/latex": [
       "A matrix: 50 × 7 of type dbl\n",
       "\\begin{tabular}{lllllll}\n",
       " V1 & V2 & V3 & V4 & V5 & V6 & V7\\\\\n",
       "\\hline\n",
       "\t  -5.836 & -10.622 & -5.01 &  -2.22 & -2.18 & -1.56 &  -9.76\\\\\n",
       "\t -10.036 & -14.822 & -6.01 &  -4.22 & -4.18 & -0.56 & -14.76\\\\\n",
       "\t  -3.836 &  -6.322 & -3.81 &  -3.22 & -2.18 & -1.56 &  -3.76\\\\\n",
       "\t   2.464 &  -2.822 &  3.99 &   1.78 & -0.18 &  1.44 &  -0.76\\\\\n",
       "\t   3.164 &   1.178 &  0.19 &  -1.22 &  0.82 &  1.44 &   2.24\\\\\n",
       "\t  -3.036 &  -9.122 & -3.51 &  -1.22 & -0.18 &  0.44 &  -8.76\\\\\n",
       "\t  -3.336 &  -7.122 & -3.81 &  -2.22 & -2.18 & -1.56 &  -4.76\\\\\n",
       "\t  11.964 &  15.378 & 12.49 &   6.78 &  5.82 &  4.44 &  21.24\\\\\n",
       "\t   3.964 &   1.678 &  0.99 &  -1.22 &  2.82 &  2.44 &   1.24\\\\\n",
       "\t   7.964 &  13.878 & -0.81 &   2.78 &  3.82 &  0.44 &   9.24\\\\\n",
       "\t   4.464 &   3.178 &  1.19 &   0.78 &  2.82 &  1.44 &   2.24\\\\\n",
       "\t   0.664 &   5.178 & -2.51 &  -1.22 &  3.82 & -2.56 &   1.24\\\\\n",
       "\t   4.664 &   5.878 &  4.19 &   4.78 &  2.82 &  0.44 &   4.24\\\\\n",
       "\t   0.664 &  -1.122 & -0.51 &  -3.22 & -4.18 &  0.44 &   4.24\\\\\n",
       "\t   1.164 &   0.378 & -0.01 &   1.78 & -4.18 & -2.56 &   4.24\\\\\n",
       "\t -17.336 & -13.122 & -7.81 &  -4.22 & -5.18 & -5.56 & -13.76\\\\\n",
       "\t   2.464 &  -1.322 & -0.01 &  -0.22 & -2.18 &  0.44 &   2.24\\\\\n",
       "\t   4.464 &   4.178 &  0.69 &  -0.22 & -0.18 &  0.44 &   5.24\\\\\n",
       "\t  -3.536 &  -2.322 &  0.19 &  -6.22 & -0.18 &  2.44 &   0.24\\\\\n",
       "\t   0.664 &  -1.322 &  3.49 &   5.78 &  2.82 &  0.44 &  -2.76\\\\\n",
       "\t -10.336 & -11.322 & -7.01 &  -1.22 & -2.18 & -3.56 & -14.76\\\\\n",
       "\t   0.464 &   8.378 &  1.49 &  -6.22 & -3.18 &  0.44 &  12.24\\\\\n",
       "\t -11.336 & -14.122 & -7.01 &  -2.22 & -5.18 & -3.56 & -13.76\\\\\n",
       "\t   6.464 &   7.378 &  2.49 &   0.78 &  0.82 &  1.44 &   7.24\\\\\n",
       "\t   8.164 &  14.378 &  6.19 &   4.78 &  4.82 &  1.44 &   9.24\\\\\n",
       "\t  -5.536 &  -4.622 & -5.01 &  -1.22 &  0.82 & -3.56 &  -6.76\\\\\n",
       "\t   7.964 &  11.378 &  4.49 &   2.78 &  1.82 &  1.44 &   9.24\\\\\n",
       "\t   7.964 &  13.378 &  1.99 &  -1.22 &  1.82 &  0.44 &  19.24\\\\\n",
       "\t  -6.536 & -15.822 & -3.01 &  -3.22 & -4.18 &  2.44 & -12.76\\\\\n",
       "\t   7.464 &  14.378 &  1.69 &  -2.22 &  2.82 &  0.44 &  14.24\\\\\n",
       "\t   7.164 &  12.878 &  7.69 &   6.78 &  0.82 & -0.56 &  13.24\\\\\n",
       "\t -10.536 & -13.822 & -6.01 &   1.78 & -3.18 & -2.56 & -19.76\\\\\n",
       "\t  -2.836 &  -3.322 & -2.31 &  -4.22 &  0.82 &  0.44 &  -2.76\\\\\n",
       "\t  -4.536 & -12.122 & -3.81 &  -1.22 & -2.18 &  0.44 & -10.76\\\\\n",
       "\t   7.664 &  14.878 &  7.69 &   6.78 &  2.82 & -0.56 &  12.24\\\\\n",
       "\t   7.664 &   8.878 &  4.19 &  -3.22 & -1.18 &  3.44 &  17.24\\\\\n",
       "\t  -6.836 &  -7.122 &  0.69 &   6.78 &  1.82 & -2.56 & -11.76\\\\\n",
       "\t   3.164 &  -6.822 &  0.49 &   1.78 & -2.18 &  3.44 &  -1.76\\\\\n",
       "\t   9.464 &  15.678 &  5.69 &   3.78 &  4.82 &  1.44 &  11.24\\\\\n",
       "\t   7.964 &  12.378 &  3.99 &   2.78 &  5.82 &  1.44 &   7.24\\\\\n",
       "\t   3.664 &   2.678 &  0.99 &  -2.22 &  2.82 &  2.44 &   2.24\\\\\n",
       "\t  -6.336 &  -4.122 & -3.51 &   1.78 &  0.82 & -4.56 &  -6.76\\\\\n",
       "\t   3.964 &   7.178 &  3.99 &   5.78 &  5.82 & -0.56 &   2.24\\\\\n",
       "\t -15.536 & -19.322 & -6.51 & -10.22 & -9.18 & -1.56 & -14.76\\\\\n",
       "\t  -4.036 &  -4.822 & -3.01 &  -4.22 &  1.82 &  0.44 &  -5.76\\\\\n",
       "\t   4.664 &   5.378 &  7.99 &   6.78 & -1.18 &  1.44 &   7.24\\\\\n",
       "\t  -9.336 & -10.622 & -5.51 &  -4.22 &  0.82 &  0.44 & -15.76\\\\\n",
       "\t -14.536 & -16.822 & -8.51 &  -3.22 & -6.18 & -2.56 & -20.76\\\\\n",
       "\t   5.464 &   2.878 &  3.69 &   2.78 & -2.18 &  1.44 &   6.24\\\\\n",
       "\t   7.164 &  11.878 &  2.19 &   0.78 &  1.82 &  0.44 &   9.24\\\\\n",
       "\\end{tabular}\n"
      ],
      "text/markdown": [
       "\n",
       "A matrix: 50 × 7 of type dbl\n",
       "\n",
       "| V1 | V2 | V3 | V4 | V5 | V6 | V7 |\n",
       "|---|---|---|---|---|---|---|\n",
       "|  -5.836 | -10.622 | -5.01 |  -2.22 | -2.18 | -1.56 |  -9.76 |\n",
       "| -10.036 | -14.822 | -6.01 |  -4.22 | -4.18 | -0.56 | -14.76 |\n",
       "|  -3.836 |  -6.322 | -3.81 |  -3.22 | -2.18 | -1.56 |  -3.76 |\n",
       "|   2.464 |  -2.822 |  3.99 |   1.78 | -0.18 |  1.44 |  -0.76 |\n",
       "|   3.164 |   1.178 |  0.19 |  -1.22 |  0.82 |  1.44 |   2.24 |\n",
       "|  -3.036 |  -9.122 | -3.51 |  -1.22 | -0.18 |  0.44 |  -8.76 |\n",
       "|  -3.336 |  -7.122 | -3.81 |  -2.22 | -2.18 | -1.56 |  -4.76 |\n",
       "|  11.964 |  15.378 | 12.49 |   6.78 |  5.82 |  4.44 |  21.24 |\n",
       "|   3.964 |   1.678 |  0.99 |  -1.22 |  2.82 |  2.44 |   1.24 |\n",
       "|   7.964 |  13.878 | -0.81 |   2.78 |  3.82 |  0.44 |   9.24 |\n",
       "|   4.464 |   3.178 |  1.19 |   0.78 |  2.82 |  1.44 |   2.24 |\n",
       "|   0.664 |   5.178 | -2.51 |  -1.22 |  3.82 | -2.56 |   1.24 |\n",
       "|   4.664 |   5.878 |  4.19 |   4.78 |  2.82 |  0.44 |   4.24 |\n",
       "|   0.664 |  -1.122 | -0.51 |  -3.22 | -4.18 |  0.44 |   4.24 |\n",
       "|   1.164 |   0.378 | -0.01 |   1.78 | -4.18 | -2.56 |   4.24 |\n",
       "| -17.336 | -13.122 | -7.81 |  -4.22 | -5.18 | -5.56 | -13.76 |\n",
       "|   2.464 |  -1.322 | -0.01 |  -0.22 | -2.18 |  0.44 |   2.24 |\n",
       "|   4.464 |   4.178 |  0.69 |  -0.22 | -0.18 |  0.44 |   5.24 |\n",
       "|  -3.536 |  -2.322 |  0.19 |  -6.22 | -0.18 |  2.44 |   0.24 |\n",
       "|   0.664 |  -1.322 |  3.49 |   5.78 |  2.82 |  0.44 |  -2.76 |\n",
       "| -10.336 | -11.322 | -7.01 |  -1.22 | -2.18 | -3.56 | -14.76 |\n",
       "|   0.464 |   8.378 |  1.49 |  -6.22 | -3.18 |  0.44 |  12.24 |\n",
       "| -11.336 | -14.122 | -7.01 |  -2.22 | -5.18 | -3.56 | -13.76 |\n",
       "|   6.464 |   7.378 |  2.49 |   0.78 |  0.82 |  1.44 |   7.24 |\n",
       "|   8.164 |  14.378 |  6.19 |   4.78 |  4.82 |  1.44 |   9.24 |\n",
       "|  -5.536 |  -4.622 | -5.01 |  -1.22 |  0.82 | -3.56 |  -6.76 |\n",
       "|   7.964 |  11.378 |  4.49 |   2.78 |  1.82 |  1.44 |   9.24 |\n",
       "|   7.964 |  13.378 |  1.99 |  -1.22 |  1.82 |  0.44 |  19.24 |\n",
       "|  -6.536 | -15.822 | -3.01 |  -3.22 | -4.18 |  2.44 | -12.76 |\n",
       "|   7.464 |  14.378 |  1.69 |  -2.22 |  2.82 |  0.44 |  14.24 |\n",
       "|   7.164 |  12.878 |  7.69 |   6.78 |  0.82 | -0.56 |  13.24 |\n",
       "| -10.536 | -13.822 | -6.01 |   1.78 | -3.18 | -2.56 | -19.76 |\n",
       "|  -2.836 |  -3.322 | -2.31 |  -4.22 |  0.82 |  0.44 |  -2.76 |\n",
       "|  -4.536 | -12.122 | -3.81 |  -1.22 | -2.18 |  0.44 | -10.76 |\n",
       "|   7.664 |  14.878 |  7.69 |   6.78 |  2.82 | -0.56 |  12.24 |\n",
       "|   7.664 |   8.878 |  4.19 |  -3.22 | -1.18 |  3.44 |  17.24 |\n",
       "|  -6.836 |  -7.122 |  0.69 |   6.78 |  1.82 | -2.56 | -11.76 |\n",
       "|   3.164 |  -6.822 |  0.49 |   1.78 | -2.18 |  3.44 |  -1.76 |\n",
       "|   9.464 |  15.678 |  5.69 |   3.78 |  4.82 |  1.44 |  11.24 |\n",
       "|   7.964 |  12.378 |  3.99 |   2.78 |  5.82 |  1.44 |   7.24 |\n",
       "|   3.664 |   2.678 |  0.99 |  -2.22 |  2.82 |  2.44 |   2.24 |\n",
       "|  -6.336 |  -4.122 | -3.51 |   1.78 |  0.82 | -4.56 |  -6.76 |\n",
       "|   3.964 |   7.178 |  3.99 |   5.78 |  5.82 | -0.56 |   2.24 |\n",
       "| -15.536 | -19.322 | -6.51 | -10.22 | -9.18 | -1.56 | -14.76 |\n",
       "|  -4.036 |  -4.822 | -3.01 |  -4.22 |  1.82 |  0.44 |  -5.76 |\n",
       "|   4.664 |   5.378 |  7.99 |   6.78 | -1.18 |  1.44 |   7.24 |\n",
       "|  -9.336 | -10.622 | -5.51 |  -4.22 |  0.82 |  0.44 | -15.76 |\n",
       "| -14.536 | -16.822 | -8.51 |  -3.22 | -6.18 | -2.56 | -20.76 |\n",
       "|   5.464 |   2.878 |  3.69 |   2.78 | -2.18 |  1.44 |   6.24 |\n",
       "|   7.164 |  11.878 |  2.19 |   0.78 |  1.82 |  0.44 |   9.24 |\n",
       "\n"
      ],
      "text/plain": [
       "      V1      V2      V3    V4     V5    V6    V7    \n",
       " [1,]  -5.836 -10.622 -5.01  -2.22 -2.18 -1.56  -9.76\n",
       " [2,] -10.036 -14.822 -6.01  -4.22 -4.18 -0.56 -14.76\n",
       " [3,]  -3.836  -6.322 -3.81  -3.22 -2.18 -1.56  -3.76\n",
       " [4,]   2.464  -2.822  3.99   1.78 -0.18  1.44  -0.76\n",
       " [5,]   3.164   1.178  0.19  -1.22  0.82  1.44   2.24\n",
       " [6,]  -3.036  -9.122 -3.51  -1.22 -0.18  0.44  -8.76\n",
       " [7,]  -3.336  -7.122 -3.81  -2.22 -2.18 -1.56  -4.76\n",
       " [8,]  11.964  15.378 12.49   6.78  5.82  4.44  21.24\n",
       " [9,]   3.964   1.678  0.99  -1.22  2.82  2.44   1.24\n",
       "[10,]   7.964  13.878 -0.81   2.78  3.82  0.44   9.24\n",
       "[11,]   4.464   3.178  1.19   0.78  2.82  1.44   2.24\n",
       "[12,]   0.664   5.178 -2.51  -1.22  3.82 -2.56   1.24\n",
       "[13,]   4.664   5.878  4.19   4.78  2.82  0.44   4.24\n",
       "[14,]   0.664  -1.122 -0.51  -3.22 -4.18  0.44   4.24\n",
       "[15,]   1.164   0.378 -0.01   1.78 -4.18 -2.56   4.24\n",
       "[16,] -17.336 -13.122 -7.81  -4.22 -5.18 -5.56 -13.76\n",
       "[17,]   2.464  -1.322 -0.01  -0.22 -2.18  0.44   2.24\n",
       "[18,]   4.464   4.178  0.69  -0.22 -0.18  0.44   5.24\n",
       "[19,]  -3.536  -2.322  0.19  -6.22 -0.18  2.44   0.24\n",
       "[20,]   0.664  -1.322  3.49   5.78  2.82  0.44  -2.76\n",
       "[21,] -10.336 -11.322 -7.01  -1.22 -2.18 -3.56 -14.76\n",
       "[22,]   0.464   8.378  1.49  -6.22 -3.18  0.44  12.24\n",
       "[23,] -11.336 -14.122 -7.01  -2.22 -5.18 -3.56 -13.76\n",
       "[24,]   6.464   7.378  2.49   0.78  0.82  1.44   7.24\n",
       "[25,]   8.164  14.378  6.19   4.78  4.82  1.44   9.24\n",
       "[26,]  -5.536  -4.622 -5.01  -1.22  0.82 -3.56  -6.76\n",
       "[27,]   7.964  11.378  4.49   2.78  1.82  1.44   9.24\n",
       "[28,]   7.964  13.378  1.99  -1.22  1.82  0.44  19.24\n",
       "[29,]  -6.536 -15.822 -3.01  -3.22 -4.18  2.44 -12.76\n",
       "[30,]   7.464  14.378  1.69  -2.22  2.82  0.44  14.24\n",
       "[31,]   7.164  12.878  7.69   6.78  0.82 -0.56  13.24\n",
       "[32,] -10.536 -13.822 -6.01   1.78 -3.18 -2.56 -19.76\n",
       "[33,]  -2.836  -3.322 -2.31  -4.22  0.82  0.44  -2.76\n",
       "[34,]  -4.536 -12.122 -3.81  -1.22 -2.18  0.44 -10.76\n",
       "[35,]   7.664  14.878  7.69   6.78  2.82 -0.56  12.24\n",
       "[36,]   7.664   8.878  4.19  -3.22 -1.18  3.44  17.24\n",
       "[37,]  -6.836  -7.122  0.69   6.78  1.82 -2.56 -11.76\n",
       "[38,]   3.164  -6.822  0.49   1.78 -2.18  3.44  -1.76\n",
       "[39,]   9.464  15.678  5.69   3.78  4.82  1.44  11.24\n",
       "[40,]   7.964  12.378  3.99   2.78  5.82  1.44   7.24\n",
       "[41,]   3.664   2.678  0.99  -2.22  2.82  2.44   2.24\n",
       "[42,]  -6.336  -4.122 -3.51   1.78  0.82 -4.56  -6.76\n",
       "[43,]   3.964   7.178  3.99   5.78  5.82 -0.56   2.24\n",
       "[44,] -15.536 -19.322 -6.51 -10.22 -9.18 -1.56 -14.76\n",
       "[45,]  -4.036  -4.822 -3.01  -4.22  1.82  0.44  -5.76\n",
       "[46,]   4.664   5.378  7.99   6.78 -1.18  1.44   7.24\n",
       "[47,]  -9.336 -10.622 -5.51  -4.22  0.82  0.44 -15.76\n",
       "[48,] -14.536 -16.822 -8.51  -3.22 -6.18 -2.56 -20.76\n",
       "[49,]   5.464   2.878  3.69   2.78 -2.18  1.44   6.24\n",
       "[50,]   7.164  11.878  2.19   0.78  1.82  0.44   9.24"
      ]
     },
     "metadata": {},
     "output_type": "display_data"
    }
   ],
   "source": [
    "library(psych)\n",
    "\n",
    "data9.19= read.table('D:/A-多元统计分析/Wichern_data/Wichern_data/T9-12.DAT')\n",
    "data9.19.scale= scale(data9.19, center = TRUE, scale = FALSE)\n",
    "data9.19.scale"
   ]
  },
  {
   "cell_type": "code",
   "execution_count": 40,
   "metadata": {
    "vscode": {
     "languageId": "r"
    }
   },
   "outputs": [
    {
     "data": {
      "text/plain": [
       "Factor Analysis using method =  ml\n",
       "Call: fa(r = data9.19.scale, nfactors = 2, rotate = \"none\", fm = \"mle\")\n",
       "Standardized loadings (pattern matrix) based upon correlation matrix\n",
       "    ML1   ML2   h2    u2 com\n",
       "V1 0.70  0.67 0.93 0.069 2.0\n",
       "V2 0.67  0.69 0.93 0.070 2.0\n",
       "V3 0.80  0.49 0.88 0.123 1.7\n",
       "V4 0.98 -0.17 1.00 0.005 1.1\n",
       "V5 0.65  0.31 0.53 0.474 1.4\n",
       "V6 0.25  0.57 0.39 0.614 1.4\n",
       "V7 0.56  0.81 0.97 0.029 1.8\n",
       "\n",
       "                       ML1  ML2\n",
       "SS loadings           3.33 2.28\n",
       "Proportion Var        0.48 0.33\n",
       "Cumulative Var        0.48 0.80\n",
       "Proportion Explained  0.59 0.41\n",
       "Cumulative Proportion 0.59 1.00\n",
       "\n",
       "Mean item complexity =  1.6\n",
       "Test of the hypothesis that 2 factors are sufficient.\n",
       "\n",
       "df null model =  21  with the objective function =  10.9 with Chi Square =  499.66\n",
       "df of  the model are 8  and the objective function was  2.63 \n",
       "\n",
       "The root mean square of the residuals (RMSR) is  0.06 \n",
       "The df corrected root mean square of the residuals is  0.09 \n",
       "\n",
       "The harmonic n.obs is  50 with the empirical chi square  6.79  with prob <  0.56 \n",
       "The total n.obs was  50  with Likelihood Chi Square =  117.2  with prob <  1.3e-21 \n",
       "\n",
       "Tucker Lewis Index of factoring reliability =  0.382\n",
       "RMSEA index =  0.522  and the 90 % confidence intervals are  0.446 0.614\n",
       "BIC =  85.9\n",
       "Fit based upon off diagonal values = 0.99\n",
       "Measures of factor score adequacy             \n",
       "                                                   ML1  ML2\n",
       "Correlation of (regression) scores with factors   1.00 0.99\n",
       "Multiple R square of scores with factors          1.00 0.98\n",
       "Minimum correlation of possible factor scores     0.99 0.96"
      ]
     },
     "metadata": {},
     "output_type": "display_data"
    }
   ],
   "source": [
    "fac.ml2 = fa(data9.19.scale, nfactors = 2, fm = \"mle\", rotate = \"none\")\n",
    "fac.ml2"
   ]
  },
  {
   "cell_type": "code",
   "execution_count": 41,
   "metadata": {
    "vscode": {
     "languageId": "r"
    }
   },
   "outputs": [
    {
     "data": {
      "text/plain": [
       "\n",
       "Loadings:\n",
       "   ML1    ML2   \n",
       "V1  0.695  0.669\n",
       "V2  0.669  0.695\n",
       "V3  0.795  0.494\n",
       "V4  0.983 -0.167\n",
       "V5  0.655  0.312\n",
       "V6  0.250  0.569\n",
       "V7  0.558  0.812\n",
       "\n",
       "                 ML1   ML2\n",
       "SS loadings    3.333 2.283\n",
       "Proportion Var 0.476 0.326\n",
       "Cumulative Var 0.476 0.802"
      ]
     },
     "metadata": {},
     "output_type": "display_data"
    }
   ],
   "source": [
    "L.ml2 = fac.ml2$loadings\n",
    "L.ml2"
   ]
  },
  {
   "cell_type": "code",
   "execution_count": 42,
   "metadata": {
    "vscode": {
     "languageId": "r"
    }
   },
   "outputs": [
    {
     "data": {
      "text/html": [
       "<table class=\"dataframe\">\n",
       "<caption>A matrix: 7 × 7 of type dbl</caption>\n",
       "<thead>\n",
       "\t<tr><th></th><th scope=col>V1</th><th scope=col>V2</th><th scope=col>V3</th><th scope=col>V4</th><th scope=col>V5</th><th scope=col>V6</th><th scope=col>V7</th></tr>\n",
       "</thead>\n",
       "<tbody>\n",
       "\t<tr><th scope=row>V1</th><td>1.0000000</td><td>0.9295185</td><td>0.8834713</td><td>0.5720627</td><td>0.6642314</td><td>0.5543376</td><td>0.9311883</td></tr>\n",
       "\t<tr><th scope=row>V2</th><td>0.9295185</td><td>1.0000000</td><td>0.8749727</td><td>0.5413952</td><td>0.6547844</td><td>0.5624010</td><td>0.9373106</td></tr>\n",
       "\t<tr><th scope=row>V3</th><td>0.8834713</td><td>0.8749727</td><td>1.0000000</td><td>0.6996404</td><td>0.6751659</td><td>0.4798313</td><td>0.8449575</td></tr>\n",
       "\t<tr><th scope=row>V4</th><td>0.5720627</td><td>0.5413952</td><td>0.6996404</td><td>1.0000000</td><td>0.5918666</td><td>0.1504776</td><td>0.4126431</td></tr>\n",
       "\t<tr><th scope=row>V5</th><td>0.6642314</td><td>0.6547844</td><td>0.6751659</td><td>0.5918666</td><td>1.0000000</td><td>0.3412918</td><td>0.6189365</td></tr>\n",
       "\t<tr><th scope=row>V6</th><td>0.5543376</td><td>0.5624010</td><td>0.4798313</td><td>0.1504776</td><td>0.3412918</td><td>1.0000000</td><td>0.6017606</td></tr>\n",
       "\t<tr><th scope=row>V7</th><td>0.9311883</td><td>0.9373106</td><td>0.8449575</td><td>0.4126431</td><td>0.6189365</td><td>0.6017606</td><td>1.0000000</td></tr>\n",
       "</tbody>\n",
       "</table>\n"
      ],
      "text/latex": [
       "A matrix: 7 × 7 of type dbl\n",
       "\\begin{tabular}{r|lllllll}\n",
       "  & V1 & V2 & V3 & V4 & V5 & V6 & V7\\\\\n",
       "\\hline\n",
       "\tV1 & 1.0000000 & 0.9295185 & 0.8834713 & 0.5720627 & 0.6642314 & 0.5543376 & 0.9311883\\\\\n",
       "\tV2 & 0.9295185 & 1.0000000 & 0.8749727 & 0.5413952 & 0.6547844 & 0.5624010 & 0.9373106\\\\\n",
       "\tV3 & 0.8834713 & 0.8749727 & 1.0000000 & 0.6996404 & 0.6751659 & 0.4798313 & 0.8449575\\\\\n",
       "\tV4 & 0.5720627 & 0.5413952 & 0.6996404 & 1.0000000 & 0.5918666 & 0.1504776 & 0.4126431\\\\\n",
       "\tV5 & 0.6642314 & 0.6547844 & 0.6751659 & 0.5918666 & 1.0000000 & 0.3412918 & 0.6189365\\\\\n",
       "\tV6 & 0.5543376 & 0.5624010 & 0.4798313 & 0.1504776 & 0.3412918 & 1.0000000 & 0.6017606\\\\\n",
       "\tV7 & 0.9311883 & 0.9373106 & 0.8449575 & 0.4126431 & 0.6189365 & 0.6017606 & 1.0000000\\\\\n",
       "\\end{tabular}\n"
      ],
      "text/markdown": [
       "\n",
       "A matrix: 7 × 7 of type dbl\n",
       "\n",
       "| <!--/--> | V1 | V2 | V3 | V4 | V5 | V6 | V7 |\n",
       "|---|---|---|---|---|---|---|---|\n",
       "| V1 | 1.0000000 | 0.9295185 | 0.8834713 | 0.5720627 | 0.6642314 | 0.5543376 | 0.9311883 |\n",
       "| V2 | 0.9295185 | 1.0000000 | 0.8749727 | 0.5413952 | 0.6547844 | 0.5624010 | 0.9373106 |\n",
       "| V3 | 0.8834713 | 0.8749727 | 1.0000000 | 0.6996404 | 0.6751659 | 0.4798313 | 0.8449575 |\n",
       "| V4 | 0.5720627 | 0.5413952 | 0.6996404 | 1.0000000 | 0.5918666 | 0.1504776 | 0.4126431 |\n",
       "| V5 | 0.6642314 | 0.6547844 | 0.6751659 | 0.5918666 | 1.0000000 | 0.3412918 | 0.6189365 |\n",
       "| V6 | 0.5543376 | 0.5624010 | 0.4798313 | 0.1504776 | 0.3412918 | 1.0000000 | 0.6017606 |\n",
       "| V7 | 0.9311883 | 0.9373106 | 0.8449575 | 0.4126431 | 0.6189365 | 0.6017606 | 1.0000000 |\n",
       "\n"
      ],
      "text/plain": [
       "   V1        V2        V3        V4        V5        V6        V7       \n",
       "V1 1.0000000 0.9295185 0.8834713 0.5720627 0.6642314 0.5543376 0.9311883\n",
       "V2 0.9295185 1.0000000 0.8749727 0.5413952 0.6547844 0.5624010 0.9373106\n",
       "V3 0.8834713 0.8749727 1.0000000 0.6996404 0.6751659 0.4798313 0.8449575\n",
       "V4 0.5720627 0.5413952 0.6996404 1.0000000 0.5918666 0.1504776 0.4126431\n",
       "V5 0.6642314 0.6547844 0.6751659 0.5918666 1.0000000 0.3412918 0.6189365\n",
       "V6 0.5543376 0.5624010 0.4798313 0.1504776 0.3412918 1.0000000 0.6017606\n",
       "V7 0.9311883 0.9373106 0.8449575 0.4126431 0.6189365 0.6017606 1.0000000"
      ]
     },
     "metadata": {},
     "output_type": "display_data"
    }
   ],
   "source": [
    "Psi.ml2= fac.ml2$uniqueness\n",
    "R=cov(matrix(data9.19.scale,ncol=7))\n",
    "L.ml2 %*% t(L.ml2 ) + diag(Psi.ml2)"
   ]
  },
  {
   "cell_type": "code",
   "execution_count": 43,
   "metadata": {
    "vscode": {
     "languageId": "r"
    }
   },
   "outputs": [
    {
     "data": {
      "text/plain": [
       "Factor Analysis using method =  ml\n",
       "Call: fa(r = data9.19.scale, nfactors = 3, rotate = \"varimax\", fm = \"mle\")\n",
       "Standardized loadings (pattern matrix) based upon correlation matrix\n",
       "    ML3  ML1  ML2   h2    u2 com\n",
       "V1 0.79 0.37 0.44 0.96 0.039 2.0\n",
       "V2 0.91 0.32 0.18 0.97 0.034 1.3\n",
       "V3 0.65 0.54 0.44 0.91 0.088 2.7\n",
       "V4 0.26 0.96 0.02 1.00 0.005 1.1\n",
       "V5 0.54 0.47 0.21 0.55 0.447 2.3\n",
       "V6 0.30 0.05 0.95 1.00 0.005 1.2\n",
       "V7 0.92 0.18 0.30 0.96 0.038 1.3\n",
       "\n",
       "                       ML3  ML1  ML2\n",
       "SS loadings           3.17 1.72 1.45\n",
       "Proportion Var        0.45 0.25 0.21\n",
       "Cumulative Var        0.45 0.70 0.91\n",
       "Proportion Explained  0.50 0.27 0.23\n",
       "Cumulative Proportion 0.50 0.77 1.00\n",
       "\n",
       "Mean item complexity =  1.7\n",
       "Test of the hypothesis that 3 factors are sufficient.\n",
       "\n",
       "df null model =  21  with the objective function =  10.9 with Chi Square =  499.66\n",
       "df of  the model are 3  and the objective function was  1.42 \n",
       "\n",
       "The root mean square of the residuals (RMSR) is  0.03 \n",
       "The df corrected root mean square of the residuals is  0.07 \n",
       "\n",
       "The harmonic n.obs is  50 with the empirical chi square  1.43  with prob <  0.7 \n",
       "The total n.obs was  50  with Likelihood Chi Square =  62.18  with prob <  2e-13 \n",
       "\n",
       "Tucker Lewis Index of factoring reliability =  0.093\n",
       "RMSEA index =  0.628  and the 90 % confidence intervals are  0.503 0.776\n",
       "BIC =  50.44\n",
       "Fit based upon off diagonal values = 1\n",
       "Measures of factor score adequacy             \n",
       "                                                   ML3  ML1  ML2\n",
       "Correlation of (regression) scores with factors   0.99 1.00 1.00\n",
       "Multiple R square of scores with factors          0.98 0.99 0.99\n",
       "Minimum correlation of possible factor scores     0.95 0.98 0.98"
      ]
     },
     "metadata": {},
     "output_type": "display_data"
    }
   ],
   "source": [
    "fac.ml2.rotated= fa(data9.19.scale,nfactors= 3, \n",
    "                    fm='mle', rotate='varimax')\n",
    "fac.ml2.rotated"
   ]
  },
  {
   "cell_type": "code",
   "execution_count": 44,
   "metadata": {
    "vscode": {
     "languageId": "r"
    }
   },
   "outputs": [
    {
     "data": {
      "text/html": [
       "<table class=\"dataframe\">\n",
       "<caption>A matrix: 7 × 7 of type dbl</caption>\n",
       "<thead>\n",
       "\t<tr><th></th><th scope=col>V1</th><th scope=col>V2</th><th scope=col>V3</th><th scope=col>V4</th><th scope=col>V5</th><th scope=col>V6</th><th scope=col>V7</th></tr>\n",
       "</thead>\n",
       "<tbody>\n",
       "\t<tr><th scope=row>V1</th><td>1.0000000</td><td>0.9228132</td><td>0.9120900</td><td>0.5714373</td><td>0.6949346</td><td>0.6738835</td><td>0.9255325</td></tr>\n",
       "\t<tr><th scope=row>V2</th><td>0.9228132</td><td>1.0000000</td><td>0.8471023</td><td>0.5417814</td><td>0.6799445</td><td>0.4654561</td><td>0.9481931</td></tr>\n",
       "\t<tr><th scope=row>V3</th><td>0.9120900</td><td>0.8471023</td><td>1.0000000</td><td>0.6991263</td><td>0.6969684</td><td>0.6402870</td><td>0.8255831</td></tr>\n",
       "\t<tr><th scope=row>V4</th><td>0.5714373</td><td>0.5417814</td><td>0.6991263</td><td>1.0000000</td><td>0.5910467</td><td>0.1469508</td><td>0.4130097</td></tr>\n",
       "\t<tr><th scope=row>V5</th><td>0.6949346</td><td>0.6799445</td><td>0.6969684</td><td>0.5910467</td><td>1.0000000</td><td>0.3841949</td><td>0.6425632</td></tr>\n",
       "\t<tr><th scope=row>V6</th><td>0.6738835</td><td>0.4654561</td><td>0.6402870</td><td>0.1469508</td><td>0.3841949</td><td>1.0000000</td><td>0.5669006</td></tr>\n",
       "\t<tr><th scope=row>V7</th><td>0.9255325</td><td>0.9481931</td><td>0.8255831</td><td>0.4130097</td><td>0.6425632</td><td>0.5669006</td><td>1.0000000</td></tr>\n",
       "</tbody>\n",
       "</table>\n"
      ],
      "text/latex": [
       "A matrix: 7 × 7 of type dbl\n",
       "\\begin{tabular}{r|lllllll}\n",
       "  & V1 & V2 & V3 & V4 & V5 & V6 & V7\\\\\n",
       "\\hline\n",
       "\tV1 & 1.0000000 & 0.9228132 & 0.9120900 & 0.5714373 & 0.6949346 & 0.6738835 & 0.9255325\\\\\n",
       "\tV2 & 0.9228132 & 1.0000000 & 0.8471023 & 0.5417814 & 0.6799445 & 0.4654561 & 0.9481931\\\\\n",
       "\tV3 & 0.9120900 & 0.8471023 & 1.0000000 & 0.6991263 & 0.6969684 & 0.6402870 & 0.8255831\\\\\n",
       "\tV4 & 0.5714373 & 0.5417814 & 0.6991263 & 1.0000000 & 0.5910467 & 0.1469508 & 0.4130097\\\\\n",
       "\tV5 & 0.6949346 & 0.6799445 & 0.6969684 & 0.5910467 & 1.0000000 & 0.3841949 & 0.6425632\\\\\n",
       "\tV6 & 0.6738835 & 0.4654561 & 0.6402870 & 0.1469508 & 0.3841949 & 1.0000000 & 0.5669006\\\\\n",
       "\tV7 & 0.9255325 & 0.9481931 & 0.8255831 & 0.4130097 & 0.6425632 & 0.5669006 & 1.0000000\\\\\n",
       "\\end{tabular}\n"
      ],
      "text/markdown": [
       "\n",
       "A matrix: 7 × 7 of type dbl\n",
       "\n",
       "| <!--/--> | V1 | V2 | V3 | V4 | V5 | V6 | V7 |\n",
       "|---|---|---|---|---|---|---|---|\n",
       "| V1 | 1.0000000 | 0.9228132 | 0.9120900 | 0.5714373 | 0.6949346 | 0.6738835 | 0.9255325 |\n",
       "| V2 | 0.9228132 | 1.0000000 | 0.8471023 | 0.5417814 | 0.6799445 | 0.4654561 | 0.9481931 |\n",
       "| V3 | 0.9120900 | 0.8471023 | 1.0000000 | 0.6991263 | 0.6969684 | 0.6402870 | 0.8255831 |\n",
       "| V4 | 0.5714373 | 0.5417814 | 0.6991263 | 1.0000000 | 0.5910467 | 0.1469508 | 0.4130097 |\n",
       "| V5 | 0.6949346 | 0.6799445 | 0.6969684 | 0.5910467 | 1.0000000 | 0.3841949 | 0.6425632 |\n",
       "| V6 | 0.6738835 | 0.4654561 | 0.6402870 | 0.1469508 | 0.3841949 | 1.0000000 | 0.5669006 |\n",
       "| V7 | 0.9255325 | 0.9481931 | 0.8255831 | 0.4130097 | 0.6425632 | 0.5669006 | 1.0000000 |\n",
       "\n"
      ],
      "text/plain": [
       "   V1        V2        V3        V4        V5        V6        V7       \n",
       "V1 1.0000000 0.9228132 0.9120900 0.5714373 0.6949346 0.6738835 0.9255325\n",
       "V2 0.9228132 1.0000000 0.8471023 0.5417814 0.6799445 0.4654561 0.9481931\n",
       "V3 0.9120900 0.8471023 1.0000000 0.6991263 0.6969684 0.6402870 0.8255831\n",
       "V4 0.5714373 0.5417814 0.6991263 1.0000000 0.5910467 0.1469508 0.4130097\n",
       "V5 0.6949346 0.6799445 0.6969684 0.5910467 1.0000000 0.3841949 0.6425632\n",
       "V6 0.6738835 0.4654561 0.6402870 0.1469508 0.3841949 1.0000000 0.5669006\n",
       "V7 0.9255325 0.9481931 0.8255831 0.4130097 0.6425632 0.5669006 1.0000000"
      ]
     },
     "metadata": {},
     "output_type": "display_data"
    }
   ],
   "source": [
    "fac.ml3= fa(data9.19.scale, nfactors= 3, \n",
    "            fm='mle', rotate= 'none')\n",
    "L.ml3= fac.ml3$loadings\n",
    "Psi.ml3 = fac.ml3$uniqueness\n",
    "L.ml3 %*% t(L.ml3)+ diag(Psi.ml3)"
   ]
  },
  {
   "cell_type": "code",
   "execution_count": 45,
   "metadata": {
    "vscode": {
     "languageId": "r"
    }
   },
   "outputs": [
    {
     "data": {
      "text/plain": [
       "Factor Analysis using method =  ml\n",
       "Call: fa(r = data9.19.scale, nfactors = 3, rotate = \"none\", fm = \"mle\")\n",
       "Standardized loadings (pattern matrix) based upon correlation matrix\n",
       "    ML1   ML3   ML2   h2    u2 com\n",
       "V1 0.90  0.38 -0.07 0.96 0.039 1.4\n",
       "V2 0.78  0.60  0.07 0.97 0.034 1.9\n",
       "V3 0.93  0.20  0.06 0.91 0.088 1.1\n",
       "V4 0.73 -0.12  0.67 1.00 0.005 2.0\n",
       "V5 0.69  0.22  0.17 0.55 0.447 1.3\n",
       "V6 0.76 -0.13 -0.64 1.00 0.005 2.0\n",
       "V7 0.76  0.61 -0.11 0.96 0.038 2.0\n",
       "\n",
       "                       ML1  ML3  ML2\n",
       "SS loadings           4.44 1.00 0.90\n",
       "Proportion Var        0.63 0.14 0.13\n",
       "Cumulative Var        0.63 0.78 0.91\n",
       "Proportion Explained  0.70 0.16 0.14\n",
       "Cumulative Proportion 0.70 0.86 1.00\n",
       "\n",
       "Mean item complexity =  1.7\n",
       "Test of the hypothesis that 3 factors are sufficient.\n",
       "\n",
       "df null model =  21  with the objective function =  10.9 with Chi Square =  499.66\n",
       "df of  the model are 3  and the objective function was  1.42 \n",
       "\n",
       "The root mean square of the residuals (RMSR) is  0.03 \n",
       "The df corrected root mean square of the residuals is  0.07 \n",
       "\n",
       "The harmonic n.obs is  50 with the empirical chi square  1.43  with prob <  0.7 \n",
       "The total n.obs was  50  with Likelihood Chi Square =  62.18  with prob <  2e-13 \n",
       "\n",
       "Tucker Lewis Index of factoring reliability =  0.093\n",
       "RMSEA index =  0.628  and the 90 % confidence intervals are  0.503 0.776\n",
       "BIC =  50.44\n",
       "Fit based upon off diagonal values = 1\n",
       "Measures of factor score adequacy             \n",
       "                                                   ML1  ML3  ML2\n",
       "Correlation of (regression) scores with factors   1.00 0.98 1.00\n",
       "Multiple R square of scores with factors          1.00 0.97 0.99\n",
       "Minimum correlation of possible factor scores     0.99 0.94 0.99"
      ]
     },
     "metadata": {},
     "output_type": "display_data"
    }
   ],
   "source": [
    "fac.ml3"
   ]
  },
  {
   "cell_type": "code",
   "execution_count": 46,
   "metadata": {
    "vscode": {
     "languageId": "r"
    }
   },
   "outputs": [
    {
     "data": {
      "text/html": [
       "<table class=\"dataframe\">\n",
       "<caption>A matrix: 7 × 7 of type dbl</caption>\n",
       "<thead>\n",
       "\t<tr><th></th><th scope=col>V1</th><th scope=col>V2</th><th scope=col>V3</th><th scope=col>V4</th><th scope=col>V5</th><th scope=col>V6</th><th scope=col>V7</th></tr>\n",
       "</thead>\n",
       "<tbody>\n",
       "\t<tr><th scope=row>V1</th><td>52.836637</td><td> 67.87128</td><td>29.652441</td><td>16.008236</td><td>16.890290</td><td> 9.913708</td><td> 70.77308</td></tr>\n",
       "\t<tr><th scope=row>V2</th><td>67.871277</td><td>101.50175</td><td>39.347979</td><td>21.114504</td><td>24.881321</td><td> 9.615850</td><td> 99.79597</td></tr>\n",
       "\t<tr><th scope=row>V3</th><td>29.652441</td><td> 39.34798</td><td>21.205000</td><td>12.337404</td><td> 9.470583</td><td> 5.823386</td><td> 41.50952</td></tr>\n",
       "\t<tr><th scope=row>V4</th><td>16.008236</td><td> 21.11450</td><td>12.337404</td><td>14.603673</td><td> 7.307321</td><td> 1.094682</td><td> 16.76332</td></tr>\n",
       "\t<tr><th scope=row>V5</th><td>16.890290</td><td> 24.88132</td><td> 9.470583</td><td> 7.307321</td><td>10.456735</td><td> 2.410907</td><td> 19.85050</td></tr>\n",
       "\t<tr><th scope=row>V6</th><td> 9.913708</td><td>  9.61585</td><td> 5.823386</td><td> 1.094682</td><td> 2.410907</td><td> 3.577959</td><td> 12.20290</td></tr>\n",
       "\t<tr><th scope=row>V7</th><td>70.773080</td><td> 99.79597</td><td>41.509519</td><td>16.763317</td><td>19.850498</td><td>12.202895</td><td>110.04327</td></tr>\n",
       "</tbody>\n",
       "</table>\n"
      ],
      "text/latex": [
       "A matrix: 7 × 7 of type dbl\n",
       "\\begin{tabular}{r|lllllll}\n",
       "  & V1 & V2 & V3 & V4 & V5 & V6 & V7\\\\\n",
       "\\hline\n",
       "\tV1 & 52.836637 &  67.87128 & 29.652441 & 16.008236 & 16.890290 &  9.913708 &  70.77308\\\\\n",
       "\tV2 & 67.871277 & 101.50175 & 39.347979 & 21.114504 & 24.881321 &  9.615850 &  99.79597\\\\\n",
       "\tV3 & 29.652441 &  39.34798 & 21.205000 & 12.337404 &  9.470583 &  5.823386 &  41.50952\\\\\n",
       "\tV4 & 16.008236 &  21.11450 & 12.337404 & 14.603673 &  7.307321 &  1.094682 &  16.76332\\\\\n",
       "\tV5 & 16.890290 &  24.88132 &  9.470583 &  7.307321 & 10.456735 &  2.410907 &  19.85050\\\\\n",
       "\tV6 &  9.913708 &   9.61585 &  5.823386 &  1.094682 &  2.410907 &  3.577959 &  12.20290\\\\\n",
       "\tV7 & 70.773080 &  99.79597 & 41.509519 & 16.763317 & 19.850498 & 12.202895 & 110.04327\\\\\n",
       "\\end{tabular}\n"
      ],
      "text/markdown": [
       "\n",
       "A matrix: 7 × 7 of type dbl\n",
       "\n",
       "| <!--/--> | V1 | V2 | V3 | V4 | V5 | V6 | V7 |\n",
       "|---|---|---|---|---|---|---|---|\n",
       "| V1 | 52.836637 |  67.87128 | 29.652441 | 16.008236 | 16.890290 |  9.913708 |  70.77308 |\n",
       "| V2 | 67.871277 | 101.50175 | 39.347979 | 21.114504 | 24.881321 |  9.615850 |  99.79597 |\n",
       "| V3 | 29.652441 |  39.34798 | 21.205000 | 12.337404 |  9.470583 |  5.823386 |  41.50952 |\n",
       "| V4 | 16.008236 |  21.11450 | 12.337404 | 14.603673 |  7.307321 |  1.094682 |  16.76332 |\n",
       "| V5 | 16.890290 |  24.88132 |  9.470583 |  7.307321 | 10.456735 |  2.410907 |  19.85050 |\n",
       "| V6 |  9.913708 |   9.61585 |  5.823386 |  1.094682 |  2.410907 |  3.577959 |  12.20290 |\n",
       "| V7 | 70.773080 |  99.79597 | 41.509519 | 16.763317 | 19.850498 | 12.202895 | 110.04327 |\n",
       "\n"
      ],
      "text/plain": [
       "   V1        V2        V3        V4        V5        V6        V7       \n",
       "V1 52.836637  67.87128 29.652441 16.008236 16.890290  9.913708  70.77308\n",
       "V2 67.871277 101.50175 39.347979 21.114504 24.881321  9.615850  99.79597\n",
       "V3 29.652441  39.34798 21.205000 12.337404  9.470583  5.823386  41.50952\n",
       "V4 16.008236  21.11450 12.337404 14.603673  7.307321  1.094682  16.76332\n",
       "V5 16.890290  24.88132  9.470583  7.307321 10.456735  2.410907  19.85050\n",
       "V6  9.913708   9.61585  5.823386  1.094682  2.410907  3.577959  12.20290\n",
       "V7 70.773080  99.79597 41.509519 16.763317 19.850498 12.202895 110.04327"
      ]
     },
     "metadata": {},
     "output_type": "display_data"
    }
   ],
   "source": [
    "R-L.ml3 %*% t(L.ml3)- diag(Psi.ml3)"
   ]
  },
  {
   "cell_type": "code",
   "execution_count": 47,
   "metadata": {
    "vscode": {
     "languageId": "r"
    }
   },
   "outputs": [
    {
     "data": {
      "text/html": [
       "1.74833362846624"
      ],
      "text/latex": [
       "1.74833362846624"
      ],
      "text/markdown": [
       "1.74833362846624"
      ],
      "text/plain": [
       "[1] 1.748334"
      ]
     },
     "metadata": {},
     "output_type": "display_data"
    }
   ],
   "source": [
    "sum(diag(L.ml2 %*% t(L.ml2)))/ sum(diag(R)) * 100"
   ]
  },
  {
   "cell_type": "code",
   "execution_count": 48,
   "metadata": {
    "vscode": {
     "languageId": "r"
    }
   },
   "outputs": [
    {
     "data": {
      "text/html": [
       "1.97517910049958"
      ],
      "text/latex": [
       "1.97517910049958"
      ],
      "text/markdown": [
       "1.97517910049958"
      ],
      "text/plain": [
       "[1] 1.975179"
      ]
     },
     "metadata": {},
     "output_type": "display_data"
    }
   ],
   "source": [
    "sum(diag(L.ml3 %*% t(L.ml3)))/ sum(diag(R)) * 100"
   ]
  },
  {
   "cell_type": "code",
   "execution_count": 49,
   "metadata": {
    "vscode": {
     "languageId": "r"
    }
   },
   "outputs": [
    {
     "data": {
      "text/html": [
       "-9.19547621048941"
      ],
      "text/latex": [
       "-9.19547621048941"
      ],
      "text/markdown": [
       "-9.19547621048941"
      ],
      "text/plain": [
       "[1] -9.195476"
      ]
     },
     "metadata": {},
     "output_type": "display_data"
    }
   ],
   "source": [
    "m=c(2,3)\n",
    "p=7\n",
    "n=50\n",
    "(n-1-(2*p+4*m[1]+5)/6)* log(det(L.ml2%*%t(L.ml2)+ diag(Psi.ml2)))/ (n-1-p-m[1])"
   ]
  },
  {
   "cell_type": "code",
   "execution_count": 50,
   "metadata": {
    "vscode": {
     "languageId": "r"
    }
   },
   "outputs": [
    {
     "data": {
      "text/html": [
       "-10.6418951543981"
      ],
      "text/latex": [
       "-10.6418951543981"
      ],
      "text/markdown": [
       "-10.6418951543981"
      ],
      "text/plain": [
       "[1] -10.6419"
      ]
     },
     "metadata": {},
     "output_type": "display_data"
    }
   ],
   "source": [
    "(n-1-(2*p+4*m[2]+5)/6)* log(det(L.ml3%*%t(L.ml3)+ diag(Psi.ml3)))/ (n-1-p-m[2])"
   ]
  },
  {
   "cell_type": "code",
   "execution_count": 51,
   "metadata": {
    "vscode": {
     "languageId": "r"
    }
   },
   "outputs": [
    {
     "name": "stderr",
     "output_type": "stream",
     "text": [
      "Warning message in fa.stats(r = r, f = f, phi = phi, n.obs = n.obs, np.obs = np.obs, :\n",
      "\"The estimated weights for the factor scores are probably incorrect.  Try a different factor score estimation method.\"\n"
     ]
    },
    {
     "data": {
      "text/plain": [
       "Factor Analysis using method =  wls\n",
       "Call: fa(r = data9.19.scale, nfactors = 3, rotate = \"none\", scores = \"regression\", \n",
       "    fm = \"wls\")\n",
       "Standardized loadings (pattern matrix) based upon correlation matrix\n",
       "   WLS1  WLS2  WLS3   h2    u2 com\n",
       "V1 0.97 -0.12 -0.02 0.95 0.047 1.0\n",
       "V2 0.93  0.02 -0.15 0.89 0.109 1.1\n",
       "V3 0.94 -0.01  0.23 0.93 0.073 1.1\n",
       "V4 0.61  0.40  0.17 0.56 0.443 1.9\n",
       "V5 0.76  0.34 -0.17 0.73 0.274 1.5\n",
       "V6 0.59 -0.35  0.07 0.48 0.516 1.7\n",
       "V7 0.89 -0.21 -0.08 0.84 0.158 1.1\n",
       "\n",
       "                      WLS1 WLS2 WLS3\n",
       "SS loadings           4.78 0.46 0.14\n",
       "Proportion Var        0.68 0.07 0.02\n",
       "Cumulative Var        0.68 0.75 0.77\n",
       "Proportion Explained  0.89 0.09 0.03\n",
       "Cumulative Proportion 0.89 0.97 1.00\n",
       "\n",
       "Mean item complexity =  1.3\n",
       "Test of the hypothesis that 3 factors are sufficient.\n",
       "\n",
       "df null model =  21  with the objective function =  10.9 with Chi Square =  499.66\n",
       "df of  the model are 3  and the objective function was  3.07 \n",
       "\n",
       "The root mean square of the residuals (RMSR) is  0.05 \n",
       "The df corrected root mean square of the residuals is  0.14 \n",
       "\n",
       "The harmonic n.obs is  50 with the empirical chi square  5.58  with prob <  0.13 \n",
       "The total n.obs was  50  with Likelihood Chi Square =  134.6  with prob <  5.5e-29 \n",
       "\n",
       "Tucker Lewis Index of factoring reliability =  -1.016\n",
       "RMSEA index =  0.936  and the 90 % confidence intervals are  0.814 1.086\n",
       "BIC =  122.87\n",
       "Fit based upon off diagonal values = 0.99"
      ]
     },
     "metadata": {},
     "output_type": "display_data"
    }
   ],
   "source": [
    "data9.19.variimax.reg= fa(data9.19.scale, nfactors= 3, fm='wls', \n",
    "                            rotate='none', scores= 'regression')\n",
    "data9.19.variimax.reg"
   ]
  },
  {
   "cell_type": "code",
   "execution_count": 52,
   "metadata": {
    "vscode": {
     "languageId": "r"
    }
   },
   "outputs": [],
   "source": [
    "L= data9.19.variimax.reg$loadings\n",
    "Psi= diag(data9.19.variimax.reg$uniqueness)\n",
    "\n",
    "z=c(110,98,105,15,18,20,35)\n",
    "z.scale=c((110-98.836)/7.73345, (98-106.622)/10.124315, (105-102.810)/4.712218,(15-11.220)/3.950149, (18-14.180)/3.384780, (20-10.560)/2.139617, (35-29.760)/10.537707)"
   ]
  },
  {
   "cell_type": "code",
   "execution_count": 53,
   "metadata": {
    "vscode": {
     "languageId": "r"
    }
   },
   "outputs": [
    {
     "data": {
      "text/html": [
       "<style>\n",
       ".list-inline {list-style: none; margin:0; padding: 0}\n",
       ".list-inline>li {display: inline-block}\n",
       ".list-inline>li:not(:last-child)::after {content: \"\\00b7\"; padding: 0 .5ex}\n",
       "</style>\n",
       "<ol class=list-inline><li>1.44359891122332</li><li>-0.851613170866375</li><li>0.464749296403519</li><li>0.95692592861687</li><li>1.12858147353742</li><li>4.4120045783895</li><li>0.497261880596984</li></ol>\n"
      ],
      "text/latex": [
       "\\begin{enumerate*}\n",
       "\\item 1.44359891122332\n",
       "\\item -0.851613170866375\n",
       "\\item 0.464749296403519\n",
       "\\item 0.95692592861687\n",
       "\\item 1.12858147353742\n",
       "\\item 4.4120045783895\n",
       "\\item 0.497261880596984\n",
       "\\end{enumerate*}\n"
      ],
      "text/markdown": [
       "1. 1.44359891122332\n",
       "2. -0.851613170866375\n",
       "3. 0.464749296403519\n",
       "4. 0.95692592861687\n",
       "5. 1.12858147353742\n",
       "6. 4.4120045783895\n",
       "7. 0.497261880596984\n",
       "\n",
       "\n"
      ],
      "text/plain": [
       "[1]  1.4435989 -0.8516132  0.4647493  0.9569259  1.1285815  4.4120046  0.4972619"
      ]
     },
     "metadata": {},
     "output_type": "display_data"
    }
   ],
   "source": [
    "z.scale"
   ]
  },
  {
   "cell_type": "code",
   "execution_count": 54,
   "metadata": {
    "vscode": {
     "languageId": "r"
    }
   },
   "outputs": [
    {
     "data": {
      "text/html": [
       "<table class=\"dataframe\">\n",
       "<caption>A matrix: 3 × 1 of type dbl</caption>\n",
       "<tbody>\n",
       "\t<tr><th scope=row>WLS1</th><td> 1.59340773</td></tr>\n",
       "\t<tr><th scope=row>WLS2</th><td>-0.97859045</td></tr>\n",
       "\t<tr><th scope=row>WLS3</th><td>-0.04979576</td></tr>\n",
       "</tbody>\n",
       "</table>\n"
      ],
      "text/latex": [
       "A matrix: 3 × 1 of type dbl\n",
       "\\begin{tabular}{r|l}\n",
       "\tWLS1 &  1.59340773\\\\\n",
       "\tWLS2 & -0.97859045\\\\\n",
       "\tWLS3 & -0.04979576\\\\\n",
       "\\end{tabular}\n"
      ],
      "text/markdown": [
       "\n",
       "A matrix: 3 × 1 of type dbl\n",
       "\n",
       "| WLS1 |  1.59340773 |\n",
       "| WLS2 | -0.97859045 |\n",
       "| WLS3 | -0.04979576 |\n",
       "\n"
      ],
      "text/plain": [
       "     [,1]       \n",
       "WLS1  1.59340773\n",
       "WLS2 -0.97859045\n",
       "WLS3 -0.04979576"
      ]
     },
     "metadata": {},
     "output_type": "display_data"
    }
   ],
   "source": [
    "f.reg= t(L) %*% solve(R) %*% z.scale\n",
    "f.reg"
   ]
  },
  {
   "cell_type": "markdown",
   "metadata": {},
   "source": [
    "## 9.20"
   ]
  },
  {
   "cell_type": "code",
   "execution_count": 55,
   "metadata": {
    "vscode": {
     "languageId": "r"
    }
   },
   "outputs": [],
   "source": [
    "data9.20= read.table('D:/A-多元统计分析/Wichern_data/Wichern_data/T1-5.DAT')\n",
    "data9.20= data.frame(X1=data9.20$V1, X2=data9.20$V2, X3=data9.20$V3, X4=data9.20$V4, X5=data9.20$V5)"
   ]
  },
  {
   "cell_type": "code",
   "execution_count": 56,
   "metadata": {
    "vscode": {
     "languageId": "r"
    }
   },
   "outputs": [
    {
     "data": {
      "text/plain": [
       "Principal Components Analysis\n",
       "Call: principal(r = R, nfactors = 1, rotate = \"varimax\")\n",
       "Standardized loadings (pattern matrix) based upon correlation matrix\n",
       "     PC1   h2   u2 com\n",
       "X1 -0.44 0.20 0.80   1\n",
       "X2  0.22 0.05 0.95   1\n",
       "X3  0.86 0.74 0.26   1\n",
       "X4  0.72 0.52 0.48   1\n",
       "X5  0.73 0.54 0.46   1\n",
       "\n",
       "                PC1\n",
       "SS loadings    2.04\n",
       "Proportion Var 0.41\n",
       "\n",
       "Mean item complexity =  1\n",
       "Test of the hypothesis that 1 component is sufficient.\n",
       "\n",
       "The root mean square of the residuals (RMSR) is  0.15 \n",
       "\n",
       "Fit based upon off diagonal values = 0.74"
      ]
     },
     "metadata": {},
     "output_type": "display_data"
    }
   ],
   "source": [
    "R= cov(data9.20)\n",
    "\n",
    "fac.pal= principal(R, nfactor= 1, rotate= 'varimax')\n",
    "fac.pal"
   ]
  },
  {
   "cell_type": "code",
   "execution_count": 57,
   "metadata": {
    "vscode": {
     "languageId": "r"
    }
   },
   "outputs": [
    {
     "data": {
      "text/plain": [
       "Principal Components Analysis\n",
       "Call: principal(r = R, nfactors = 2, rotate = \"varimax\")\n",
       "Standardized loadings (pattern matrix) based upon correlation matrix\n",
       "     RC1   RC2   h2    u2 com\n",
       "X1 -0.44 -0.04 0.20 0.802 1.0\n",
       "X2  0.09  0.95 0.91 0.091 1.0\n",
       "X3  0.84  0.17 0.74 0.259 1.1\n",
       "X4  0.77 -0.32 0.70 0.298 1.3\n",
       "X5  0.71  0.20 0.55 0.452 1.1\n",
       "\n",
       "                       RC1  RC2\n",
       "SS loadings           2.03 1.07\n",
       "Proportion Var        0.41 0.21\n",
       "Cumulative Var        0.41 0.62\n",
       "Proportion Explained  0.65 0.35\n",
       "Cumulative Proportion 0.65 1.00\n",
       "\n",
       "Mean item complexity =  1.1\n",
       "Test of the hypothesis that 2 components are sufficient.\n",
       "\n",
       "The root mean square of the residuals (RMSR) is  0.14 \n",
       "\n",
       "Fit based upon off diagonal values = 0.78"
      ]
     },
     "metadata": {},
     "output_type": "display_data"
    }
   ],
   "source": [
    "fac.pa2= principal(R, nfactor= 2, rotate= 'varimax')\n",
    "fac.pa2"
   ]
  },
  {
   "cell_type": "code",
   "execution_count": 58,
   "metadata": {
    "vscode": {
     "languageId": "r"
    }
   },
   "outputs": [
    {
     "data": {
      "text/plain": [
       "\n",
       "Loadings:\n",
       "   ML1   \n",
       "X1 -0.212\n",
       "X2  0.182\n",
       "X3  0.959\n",
       "X4  0.523\n",
       "X5  0.580\n",
       "\n",
       "                 ML1\n",
       "SS loadings    1.608\n",
       "Proportion Var 0.322"
      ]
     },
     "metadata": {},
     "output_type": "display_data"
    }
   ],
   "source": [
    "fac.ml1= fa(R, nfactors = 1, fm= 'mle', rotate= 'varimax')\n",
    "L.ml1= fac.ml1$loadings\n",
    "\n",
    "Psi.ml1= fac.ml1$uniqueness\n",
    "L.ml1"
   ]
  },
  {
   "cell_type": "code",
   "execution_count": 59,
   "metadata": {
    "vscode": {
     "languageId": "r"
    }
   },
   "outputs": [
    {
     "data": {
      "text/html": [
       "<style>\n",
       ".dl-inline {width: auto; margin:0; padding: 0}\n",
       ".dl-inline>dt, .dl-inline>dd {float: none; width: auto; display: inline-block}\n",
       ".dl-inline>dt::after {content: \":\\0020\"; padding-right: .5ex}\n",
       ".dl-inline>dt:not(:first-of-type) {padding-left: .5ex}\n",
       "</style><dl class=dl-inline><dt>X1</dt><dd>0.954990972169445</dd><dt>X2</dt><dd>0.966886613029182</dd><dt>X3</dt><dd>0.0805617536084056</dd><dt>X4</dt><dd>0.725970047154217</dd><dt>X5</dt><dd>0.663664601515269</dd></dl>\n"
      ],
      "text/latex": [
       "\\begin{description*}\n",
       "\\item[X1] 0.954990972169445\n",
       "\\item[X2] 0.966886613029182\n",
       "\\item[X3] 0.0805617536084056\n",
       "\\item[X4] 0.725970047154217\n",
       "\\item[X5] 0.663664601515269\n",
       "\\end{description*}\n"
      ],
      "text/markdown": [
       "X1\n",
       ":   0.954990972169445X2\n",
       ":   0.966886613029182X3\n",
       ":   0.0805617536084056X4\n",
       ":   0.725970047154217X5\n",
       ":   0.663664601515269\n",
       "\n"
      ],
      "text/plain": [
       "        X1         X2         X3         X4         X5 \n",
       "0.95499097 0.96688661 0.08056175 0.72597005 0.66366460 "
      ]
     },
     "metadata": {},
     "output_type": "display_data"
    }
   ],
   "source": [
    "Psi.ml1"
   ]
  },
  {
   "cell_type": "code",
   "execution_count": 60,
   "metadata": {
    "vscode": {
     "languageId": "r"
    }
   },
   "outputs": [
    {
     "data": {
      "text/plain": [
       "\n",
       "Loadings:\n",
       "   ML1    ML2   \n",
       "X1 -0.271       \n",
       "X2         0.282\n",
       "X3  0.516  0.777\n",
       "X4  0.997       \n",
       "X5  0.306  0.513\n",
       "\n",
       "                 ML1   ML2\n",
       "SS loadings    1.433 0.952\n",
       "Proportion Var 0.287 0.190\n",
       "Cumulative Var 0.287 0.477"
      ]
     },
     "metadata": {},
     "output_type": "display_data"
    }
   ],
   "source": [
    "fac.ml2= fa(R, nfactors = 2, fm= 'mle', rotate= 'varimax')\n",
    "\n",
    "L.ml2= fac.ml2$loadings\n",
    "Psi.ml2= fac.ml2$uniqueness\n",
    "\n",
    "L.ml2"
   ]
  },
  {
   "cell_type": "code",
   "execution_count": 61,
   "metadata": {
    "vscode": {
     "languageId": "r"
    }
   },
   "outputs": [
    {
     "data": {
      "text/html": [
       "<style>\n",
       ".dl-inline {width: auto; margin:0; padding: 0}\n",
       ".dl-inline>dt, .dl-inline>dd {float: none; width: auto; display: inline-block}\n",
       ".dl-inline>dt::after {content: \":\\0020\"; padding-right: .5ex}\n",
       ".dl-inline>dt:not(:first-of-type) {padding-left: .5ex}\n",
       "</style><dl class=dl-inline><dt>X1</dt><dd>0.920938842628924</dd><dt>X2</dt><dd>0.915900431314259</dd><dt>X3</dt><dd>0.129921634745259</dd><dt>X4</dt><dd>0.00499967141799773</dd><dt>X5</dt><dd>0.64381936386587</dd></dl>\n"
      ],
      "text/latex": [
       "\\begin{description*}\n",
       "\\item[X1] 0.920938842628924\n",
       "\\item[X2] 0.915900431314259\n",
       "\\item[X3] 0.129921634745259\n",
       "\\item[X4] 0.00499967141799773\n",
       "\\item[X5] 0.64381936386587\n",
       "\\end{description*}\n"
      ],
      "text/markdown": [
       "X1\n",
       ":   0.920938842628924X2\n",
       ":   0.915900431314259X3\n",
       ":   0.129921634745259X4\n",
       ":   0.00499967141799773X5\n",
       ":   0.64381936386587\n",
       "\n"
      ],
      "text/plain": [
       "         X1          X2          X3          X4          X5 \n",
       "0.920938843 0.915900431 0.129921635 0.004999671 0.643819364 "
      ]
     },
     "metadata": {},
     "output_type": "display_data"
    }
   ],
   "source": [
    "Psi.ml2"
   ]
  },
  {
   "cell_type": "markdown",
   "metadata": {},
   "source": [
    "## 10.7\n",
    "\n",
    "Let $\\rho_{12}=\\begin{pmatrix}\\rho& \\rho\\\\\\rho& \\rho \\end{pmatrix}$ and $\\rho_{11}=\\rho_{22}=\\begin{pmatrix} 1 & \\rho \\\\\\rho & 1 \\end{pmatrix}$, corresponding to the equal correlation structure where $X^{(1)}$ and $X^{(2)}$ each have two components.  \n",
    "- (a) Determine the canonical variates corresponding to the nonzero canonical correlation.\n",
    "- (b) Generalize the results in Part $a$ to the case where $X^{(1)}$ has $p$ components and $X^{(2)}$ has $q \\geq p$ components.  \n",
    "\n",
    "\n",
    "$\\text{Hint}$: $\\rho^{12}=\\rho11^T$, where 1 is a ($p \\times 1$) column vector of $1$'s and $1^T$ is a ($q \\times 1$) column vector of $1$'s.Note that $\\rho_{11}1=[1+(p-1)\\rho]^{-1/2}1$.  \n",
    "  \n",
    "  $\\boxed{(Proof).}$"
   ]
  },
  {
   "cell_type": "markdown",
   "metadata": {
    "vscode": {
     "languageId": "r"
    }
   },
   "source": [
    "### Part (a)\n",
    "\n",
    "Given:\n",
    "$\n",
    "\\rho_{12} = \\begin{pmatrix} \\rho & \\rho \\\\ \\rho & \\rho \\end{pmatrix}, \\quad \\rho_{11} = \\rho_{22} = \\begin{pmatrix} 1 & \\rho \\\\ \\rho & 1 \\end{pmatrix}\n",
    "$\n",
    "\n",
    "We need to find the canonical variates corresponding to the nonzero canonical correlation. The canonical correlation analysis involves finding vectors $ \\mathbf{a} $ and $ \\mathbf{b} $ such that the correlation between $ \\mathbf{a}^T X^{(1)} $ and $ \\mathbf{b}^T X^{(2)} $ is maximized.\n",
    "\n",
    "The canonical correlation $ \\lambda $ is given by the solution to the generalized eigenvalue problem:\n",
    "$\\rho_{12}^T \\rho_{22}^{-1} \\rho_{12} \\mathbf{a} = \\lambda \\rho_{11} \\mathbf{a}$\n",
    "\n",
    "First, we need to find the inverse of $ \\rho_{22} $:\n",
    "$\\rho_{22} = \\begin{pmatrix} 1 & \\rho \\\\ \\rho & 1 \\end{pmatrix}$  \n",
    "\n",
    "$\\det(\\rho_{22}) = 1 - \\rho^2$\n",
    "\n",
    "$\\rho_{22}^{-1} = \\frac{1}{1 - \\rho^2} \\begin{pmatrix} 1 & -\\rho \\\\ -\\rho & 1 \\end{pmatrix}$\n",
    "\n",
    "Next, we compute $ \\rho_{12}^T \\rho_{22}^{-1} \\rho_{12} $:\n",
    "$\\rho_{12}^T = \\begin{pmatrix} \\rho & \\rho \\\\ \\rho & \\rho \\end{pmatrix}$  \n",
    "\n",
    "$\n",
    "\\rho_{12}^T \\rho_{22}^{-1} = \\begin{pmatrix} \\rho & \\rho \\\\ \\rho & \\rho \\end{pmatrix} \\frac{1}{1 - \\rho^2} \\begin{pmatrix} 1 & -\\rho \\\\ -\\rho & 1 \\end{pmatrix} = \\frac{1}{1 - \\rho^2} \\begin{pmatrix} \\rho - \\rho^2 & -\\rho^2 + \\rho \\\\ \\rho - \\rho^2 & -\\rho^2 + \\rho \\end{pmatrix} = \\frac{\\rho(1 - \\rho)}{1 - \\rho^2} \\begin{pmatrix} 1 & -1 \\\\ 1 & -1 \\end{pmatrix}\n",
    "$  \n",
    "\n",
    "$\n",
    "\\rho_{12}^T \\rho_{22}^{-1} \\rho_{12} = \\frac{\\rho(1 - \\rho)}{1 - \\rho^2} \\begin{pmatrix} 1 & -1 \\\\ 1 & -1 \\end{pmatrix} \\begin{pmatrix} \\rho & \\rho \\\\ \\rho & \\rho \\end{pmatrix} = \\frac{\\rho(1 - \\rho)}{1 - \\rho^2} \\begin{pmatrix} 0 & 0 \\\\ 0 & 0 \\end{pmatrix} = \\begin{pmatrix} 0 & 0 \\\\ 0 & 0 \\end{pmatrix}\n",
    "$\n",
    "\n",
    "This result indicates that there is no nonzero canonical correlation in this specific case.\n",
    "\n",
    "### Part (b)\n",
    "\n",
    "Given the hint:\n",
    "$\n",
    "\\rho^{12} = \\rho \\mathbf{1} \\mathbf{1}^T\n",
    "$  \n",
    "\n",
    "where \\( \\mathbf{1} \\) is a \\( p \\times 1 \\) column vector of 1's and \\( \\mathbf{1}^T \\) is a \\( q \\times 1 \\) column vector of 1's.\n",
    "\n",
    "The correlation matrices are:\n",
    "$\\rho_{11} = \\rho_{22} = \\begin{pmatrix} 1 & \\rho & \\cdots & \\rho \\\\ \\rho & 1 & \\cdots & \\rho \\\\ \\vdots & \\vdots & \\ddots & \\vdots \\\\ \\rho & \\rho & \\cdots & 1 \\end{pmatrix}$\n",
    "\n",
    "The eigenvalue problem becomes:\n",
    "$\\rho \\mathbf{1} \\mathbf{1}^T \\mathbf{b} = \\lambda \\rho_{11} \\mathbf{a}$\n",
    "\n",
    "To find the canonical variates, we need to solve this generalized eigenvalue problem. The key is to recognize that the structure of the matrices allows us to simplify the problem. The vector $ \\mathbf{1} $ is an eigenvector of $ \\rho_{11} $ with eigenvalue $ 1 + (p-1)\\rho $.\n",
    "\n",
    "Thus, the canonical variates corresponding to the nonzero canonical correlation are the vectors $ \\mathbf{a} $ and $ \\mathbf{b} $ that are proportional to $ \\mathbf{1} $.\n",
    "\n",
    "Therefore, the canonical variates are:\n",
    "$\\boxed{\\mathbf{a} = \\mathbf{1}, \\quad \\mathbf{b} = \\mathbf{1}}$"
   ]
  },
  {
   "cell_type": "markdown",
   "metadata": {},
   "source": [
    "## 10.18"
   ]
  },
  {
   "cell_type": "markdown",
   "metadata": {},
   "source": [
    "$\\text{(Solution)}.$"
   ]
  },
  {
   "cell_type": "code",
   "execution_count": 62,
   "metadata": {
    "vscode": {
     "languageId": "r"
    }
   },
   "outputs": [],
   "source": [
    "normalized_b= function(b, mat22){\n",
    "    return(b/c(sqrt(t(b)%*%mat22%*%b)))\n",
    "}"
   ]
  },
  {
   "cell_type": "code",
   "execution_count": 63,
   "metadata": {
    "vscode": {
     "languageId": "r"
    }
   },
   "outputs": [],
   "source": [
    "normalize_b <- function(b, mat22){\n",
    "return(b/c(sqrt((t(b)%*%mat22%*%b))))\n",
    "}\n",
    "get_canon_var <- function(mat, p, q){\n",
    "mat11 <- mat[1:p, 1:p]\n",
    "mat12 <- mat[1:p, (p+1):(p+q)]\n",
    "mat21 <- mat[(p+1):(p+q), 1:p]\n",
    "mat22 <- mat[(p+1):(p+q), (p+1):(p+q)]\n",
    "mat11_inv <- solve(mat11)\n",
    "mat22_inv <- solve(mat22)\n",
    "mat11_sqrt_inv <- eigen(mat11)$vectors%*%diag(eigen(mat11)$values^(-0.5))%*%t(eigen(mat11)$vectors)\n",
    "mat22_sqrt_inv <- eigen(mat22)$vectors%*%diag(eigen(mat22)$values^(-0.5))%*%t(eigen(mat22)$vectors)\n",
    "the_mat <- mat11_sqrt_inv%*%mat12%*%mat22_inv%*%mat21%*%mat11_sqrt_inv\n",
    "rho_star <- sqrt(eigen(the_mat)$values)\n",
    "E_mat <- eigen(the_mat)$vectors\n",
    "A <- c()\n",
    "B <- c()\n",
    "for(k in 1:p){\n",
    "A <- cbind(A, mat11_sqrt_inv%*%E_mat[, k])\n",
    "B <- cbind(B, normalize_b(mat22_inv%*%mat21%*%A[, k], mat22))\n",
    "}\n",
    "F_mat <- eigen(mat22_sqrt_inv%*%mat21%*%mat11_inv%*%mat12%*%mat22_sqrt_inv)$vectors\n",
    "if(q > p){\n",
    "for(k in (p+1):q){\n",
    "B <- cbind(B, mat22_sqrt_inv%*%F_mat[, k])\n",
    "        }\n",
    "    }\n",
    "    return(list(rho_star = rho_star, A = t(A), B = t(B)))\n",
    "}\n",
    "get_var_expla <- function(R, p, q, r){\n",
    "canon_var <- get_canon_var(R, p, q)\n",
    "A_inv <- solve(canon_var$A)\n",
    "B_inv <- solve(canon_var$B)\n",
    "R2Z1 <- 0\n",
    "R2Z2 <- 0\n",
    "for(k in 1:r){\n",
    "R2Z1 <- R2Z1+sum(A_inv[, k]^2)\n",
    "R2Z2 <- R2Z2+sum(B_inv[, k]^2)\n",
    "}\n",
    "return(list(R2Z1 = R2Z1/p, R2Z2 = R2Z2/q))\n",
    "}"
   ]
  },
  {
   "cell_type": "code",
   "execution_count": 64,
   "metadata": {
    "vscode": {
     "languageId": "r"
    }
   },
   "outputs": [],
   "source": [
    "cov_test <- function(mat, p, q, n, alpha){\n",
    "cannon_var <- get_canon_var(mat, p, q)\n",
    "k_list <- c()\n",
    "stat_list <- c()\n",
    "df_list <- c()\n",
    "cri_val_list <- c()\n",
    "k <- 0\n",
    "flag <- TRUE\n",
    "while(flag){\n",
    "k_list <- c(k_list, k)\n",
    "stat <- -(n-1-1/2*(p+q+1))*log(prod((1-cannon_var$rho_star^2)[(k+1):p]))\n",
    "stat_list <- c(stat_list, stat)\n",
    "cri_val <- qchisq(1-alpha, (p-k)*(q-k))\n",
    "df_list <- c(df_list, (p-k)*(q-k))\n",
    "cri_val_list <- c(cri_val_list, cri_val)\n",
    "flag <- (stat > cri_val)\n",
    "k <- k+1\n",
    "}\n",
    "return(list('H_0^(k)' = k_list,\n",
    "'statistic' = stat_list,\n",
    "'df' = df_list,\n",
    "'critical.value' = cri_val_list))\n",
    "}"
   ]
  },
  {
   "cell_type": "code",
   "execution_count": 65,
   "metadata": {
    "vscode": {
     "languageId": "r"
    }
   },
   "outputs": [
    {
     "data": {
      "text/html": [
       "<dl>\n",
       "\t<dt>$rho_star</dt>\n",
       "\t\t<dd><style>\n",
       ".list-inline {list-style: none; margin:0; padding: 0}\n",
       ".list-inline>li {display: inline-block}\n",
       ".list-inline>li:not(:last-child)::after {content: \"\\00b7\"; padding: 0 .5ex}\n",
       "</style>\n",
       "<ol class=list-inline><li>0.917329304224131</li><li>0.816926938987185</li><li>0.265385365078429</li><li>0.0916840166341296</li></ol>\n",
       "</dd>\n",
       "\t<dt>$A</dt>\n",
       "\t\t<dd><table class=\"dataframe\">\n",
       "<caption>A matrix: 4 × 4 of type dbl</caption>\n",
       "<tbody>\n",
       "\t<tr><td> 1.505403</td><td> 0.2119308</td><td>-1.998355</td><td>-0.6764123</td></tr>\n",
       "\t<tr><td>-3.495619</td><td>-1.5430681</td><td> 1.075969</td><td> 3.7679291</td></tr>\n",
       "\t<tr><td> 5.701510</td><td>-3.5251764</td><td> 4.713469</td><td>-7.1532312</td></tr>\n",
       "\t<tr><td> 5.084829</td><td> 0.5867306</td><td>-6.069388</td><td> 0.6860659</td></tr>\n",
       "</tbody>\n",
       "</table>\n",
       "</dd>\n",
       "\t<dt>$B</dt>\n",
       "\t\t<dd><table class=\"dataframe\">\n",
       "<caption>A matrix: 4 × 4 of type dbl</caption>\n",
       "<thead>\n",
       "\t<tr><th scope=col>V5</th><th scope=col>V6</th><th scope=col>V7</th><th scope=col>V8</th></tr>\n",
       "</thead>\n",
       "<tbody>\n",
       "\t<tr><td> 0.1592987</td><td>-0.63248364</td><td>-0.324907726</td><td>-0.81789926</td></tr>\n",
       "\t<tr><td> 0.6885854</td><td> 1.00294609</td><td> 0.005010694</td><td>-1.56186120</td></tr>\n",
       "\t<tr><td> 0.5129665</td><td>-0.07719359</td><td> 1.663128232</td><td> 0.77858566</td></tr>\n",
       "\t<tr><td>-2.3330231</td><td> 2.18025545</td><td>-0.022229493</td><td>-0.08914213</td></tr>\n",
       "</tbody>\n",
       "</table>\n",
       "</dd>\n",
       "</dl>\n"
      ],
      "text/latex": [
       "\\begin{description}\n",
       "\\item[\\$rho\\_star] \\begin{enumerate*}\n",
       "\\item 0.917329304224131\n",
       "\\item 0.816926938987185\n",
       "\\item 0.265385365078429\n",
       "\\item 0.0916840166341296\n",
       "\\end{enumerate*}\n",
       "\n",
       "\\item[\\$A] A matrix: 4 × 4 of type dbl\n",
       "\\begin{tabular}{llll}\n",
       "\t  1.505403 &  0.2119308 & -1.998355 & -0.6764123\\\\\n",
       "\t -3.495619 & -1.5430681 &  1.075969 &  3.7679291\\\\\n",
       "\t  5.701510 & -3.5251764 &  4.713469 & -7.1532312\\\\\n",
       "\t  5.084829 &  0.5867306 & -6.069388 &  0.6860659\\\\\n",
       "\\end{tabular}\n",
       "\n",
       "\\item[\\$B] A matrix: 4 × 4 of type dbl\n",
       "\\begin{tabular}{llll}\n",
       " V5 & V6 & V7 & V8\\\\\n",
       "\\hline\n",
       "\t  0.1592987 & -0.63248364 & -0.324907726 & -0.81789926\\\\\n",
       "\t  0.6885854 &  1.00294609 &  0.005010694 & -1.56186120\\\\\n",
       "\t  0.5129665 & -0.07719359 &  1.663128232 &  0.77858566\\\\\n",
       "\t -2.3330231 &  2.18025545 & -0.022229493 & -0.08914213\\\\\n",
       "\\end{tabular}\n",
       "\n",
       "\\end{description}\n"
      ],
      "text/markdown": [
       "$rho_star\n",
       ":   1. 0.917329304224131\n",
       "2. 0.816926938987185\n",
       "3. 0.265385365078429\n",
       "4. 0.0916840166341296\n",
       "\n",
       "\n",
       "\n",
       "$A\n",
       ":   \n",
       "A matrix: 4 × 4 of type dbl\n",
       "\n",
       "|  1.505403 |  0.2119308 | -1.998355 | -0.6764123 |\n",
       "| -3.495619 | -1.5430681 |  1.075969 |  3.7679291 |\n",
       "|  5.701510 | -3.5251764 |  4.713469 | -7.1532312 |\n",
       "|  5.084829 |  0.5867306 | -6.069388 |  0.6860659 |\n",
       "\n",
       "\n",
       "$B\n",
       ":   \n",
       "A matrix: 4 × 4 of type dbl\n",
       "\n",
       "| V5 | V6 | V7 | V8 |\n",
       "|---|---|---|---|\n",
       "|  0.1592987 | -0.63248364 | -0.324907726 | -0.81789926 |\n",
       "|  0.6885854 |  1.00294609 |  0.005010694 | -1.56186120 |\n",
       "|  0.5129665 | -0.07719359 |  1.663128232 |  0.77858566 |\n",
       "| -2.3330231 |  2.18025545 | -0.022229493 | -0.08914213 |\n",
       "\n",
       "\n",
       "\n",
       "\n"
      ],
      "text/plain": [
       "$rho_star\n",
       "[1] 0.91732930 0.81692694 0.26538537 0.09168402\n",
       "\n",
       "$A\n",
       "          [,1]       [,2]      [,3]       [,4]\n",
       "[1,]  1.505403  0.2119308 -1.998355 -0.6764123\n",
       "[2,] -3.495619 -1.5430681  1.075969  3.7679291\n",
       "[3,]  5.701510 -3.5251764  4.713469 -7.1532312\n",
       "[4,]  5.084829  0.5867306 -6.069388  0.6860659\n",
       "\n",
       "$B\n",
       "             V5          V6           V7          V8\n",
       "[1,]  0.1592987 -0.63248364 -0.324907726 -0.81789926\n",
       "[2,]  0.6885854  1.00294609  0.005010694 -1.56186120\n",
       "[3,]  0.5129665 -0.07719359  1.663128232  0.77858566\n",
       "[4,] -2.3330231  2.18025545 -0.022229493 -0.08914213\n"
      ]
     },
     "metadata": {},
     "output_type": "display_data"
    }
   ],
   "source": [
    "data10.18= read.table('D:/A-多元统计分析/Wichern_data/Wichern_data/T7-7.DAT')\n",
    "R= cor(data10.18)\n",
    "get_canon_var(R,4,4)"
   ]
  },
  {
   "cell_type": "code",
   "execution_count": 66,
   "metadata": {
    "vscode": {
     "languageId": "r"
    }
   },
   "outputs": [
    {
     "data": {
      "text/html": [
       "<dl>\n",
       "\t<dt>$R2Z1</dt>\n",
       "\t\t<dd>0.880209266308953</dd>\n",
       "\t<dt>$R2Z2</dt>\n",
       "\t\t<dd>0.697878774126888</dd>\n",
       "</dl>\n"
      ],
      "text/latex": [
       "\\begin{description}\n",
       "\\item[\\$R2Z1] 0.880209266308953\n",
       "\\item[\\$R2Z2] 0.697878774126888\n",
       "\\end{description}\n"
      ],
      "text/markdown": [
       "$R2Z1\n",
       ":   0.880209266308953\n",
       "$R2Z2\n",
       ":   0.697878774126888\n",
       "\n",
       "\n"
      ],
      "text/plain": [
       "$R2Z1\n",
       "[1] 0.8802093\n",
       "\n",
       "$R2Z2\n",
       "[1] 0.6978788\n"
      ]
     },
     "metadata": {},
     "output_type": "display_data"
    }
   ],
   "source": [
    "get_var_expla(R,4,4,1)"
   ]
  },
  {
   "cell_type": "code",
   "execution_count": 67,
   "metadata": {
    "vscode": {
     "languageId": "r"
    }
   },
   "outputs": [
    {
     "data": {
      "text/html": [
       "<dl>\n",
       "\t<dt>$`H_0^(k)`</dt>\n",
       "\t\t<dd><style>\n",
       ".list-inline {list-style: none; margin:0; padding: 0}\n",
       ".list-inline>li {display: inline-block}\n",
       ".list-inline>li:not(:last-child)::after {content: \"\\00b7\"; padding: 0 .5ex}\n",
       "</style>\n",
       "<ol class=list-inline><li>0</li><li>1</li><li>2</li></ol>\n",
       "</dd>\n",
       "\t<dt>$statistic</dt>\n",
       "\t\t<dd><style>\n",
       ".list-inline {list-style: none; margin:0; padding: 0}\n",
       ".list-inline>li {display: inline-block}\n",
       ".list-inline>li:not(:last-child)::after {content: \"\\00b7\"; padding: 0 .5ex}\n",
       "</style>\n",
       "<ol class=list-inline><li>170.864714504417</li><li>66.7941523035131</li><li>4.60328097210725</li></ol>\n",
       "</dd>\n",
       "\t<dt>$df</dt>\n",
       "\t\t<dd><style>\n",
       ".list-inline {list-style: none; margin:0; padding: 0}\n",
       ".list-inline>li {display: inline-block}\n",
       ".list-inline>li:not(:last-child)::after {content: \"\\00b7\"; padding: 0 .5ex}\n",
       "</style>\n",
       "<ol class=list-inline><li>16</li><li>9</li><li>4</li></ol>\n",
       "</dd>\n",
       "\t<dt>$critical.value</dt>\n",
       "\t\t<dd><style>\n",
       ".list-inline {list-style: none; margin:0; padding: 0}\n",
       ".list-inline>li {display: inline-block}\n",
       ".list-inline>li:not(:last-child)::after {content: \"\\00b7\"; padding: 0 .5ex}\n",
       "</style>\n",
       "<ol class=list-inline><li>26.2962276048642</li><li>16.9189776046204</li><li>9.48772903678115</li></ol>\n",
       "</dd>\n",
       "</dl>\n"
      ],
      "text/latex": [
       "\\begin{description}\n",
       "\\item[\\$`H\\_0\\textasciicircum{}(k)`] \\begin{enumerate*}\n",
       "\\item 0\n",
       "\\item 1\n",
       "\\item 2\n",
       "\\end{enumerate*}\n",
       "\n",
       "\\item[\\$statistic] \\begin{enumerate*}\n",
       "\\item 170.864714504417\n",
       "\\item 66.7941523035131\n",
       "\\item 4.60328097210725\n",
       "\\end{enumerate*}\n",
       "\n",
       "\\item[\\$df] \\begin{enumerate*}\n",
       "\\item 16\n",
       "\\item 9\n",
       "\\item 4\n",
       "\\end{enumerate*}\n",
       "\n",
       "\\item[\\$critical.value] \\begin{enumerate*}\n",
       "\\item 26.2962276048642\n",
       "\\item 16.9189776046204\n",
       "\\item 9.48772903678115\n",
       "\\end{enumerate*}\n",
       "\n",
       "\\end{description}\n"
      ],
      "text/markdown": [
       "$`H_0^(k)`\n",
       ":   1. 0\n",
       "2. 1\n",
       "3. 2\n",
       "\n",
       "\n",
       "\n",
       "$statistic\n",
       ":   1. 170.864714504417\n",
       "2. 66.7941523035131\n",
       "3. 4.60328097210725\n",
       "\n",
       "\n",
       "\n",
       "$df\n",
       ":   1. 16\n",
       "2. 9\n",
       "3. 4\n",
       "\n",
       "\n",
       "\n",
       "$critical.value\n",
       ":   1. 26.2962276048642\n",
       "2. 16.9189776046204\n",
       "3. 9.48772903678115\n",
       "\n",
       "\n",
       "\n",
       "\n",
       "\n"
      ],
      "text/plain": [
       "$`H_0^(k)`\n",
       "[1] 0 1 2\n",
       "\n",
       "$statistic\n",
       "[1] 170.864715  66.794152   4.603281\n",
       "\n",
       "$df\n",
       "[1] 16  9  4\n",
       "\n",
       "$critical.value\n",
       "[1] 26.296228 16.918978  9.487729\n"
      ]
     },
     "metadata": {},
     "output_type": "display_data"
    }
   ],
   "source": [
    "cov_test(R, 4, 4, nrow(data10.18), 0.05)"
   ]
  }
 ],
 "metadata": {
  "kernelspec": {
   "display_name": "R",
   "language": "R",
   "name": "ir"
  },
  "language_info": {
   "codemirror_mode": "r",
   "file_extension": ".r",
   "mimetype": "text/x-r-source",
   "name": "R",
   "pygments_lexer": "r",
   "version": "4.3.2"
  }
 },
 "nbformat": 4,
 "nbformat_minor": 2
}
