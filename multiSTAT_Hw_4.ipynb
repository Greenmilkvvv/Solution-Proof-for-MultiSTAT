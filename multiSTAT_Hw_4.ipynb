{
 "cells": [
  {
   "cell_type": "markdown",
   "metadata": {},
   "source": [
    "# MultiSTAT Homework 4"
   ]
  },
  {
   "cell_type": "markdown",
   "metadata": {},
   "source": [
    "$$Abstract$$\n",
    "\n",
    "\n",
    "This notebook if for part of the exercises  of the book \"Applied Multivariate Statistical Analysis\" by Richard A. Johnson.\n",
    "\n",
    "***\n"
   ]
  },
  {
   "cell_type": "markdown",
   "metadata": {},
   "source": [
    "## 11.1\n",
    "\n",
    "Consider the two data sets  \n",
    "$$ X_1= \\begin{pmatrix} 3 & 7 \\\\2 & 4 \\\\4 & 7 \\end{pmatrix} \\quad \\text{and} \\quad X_2 = \\begin{pmatrix} 6 & 9\\\\ 5 & 7 \\\\ 4 & 8  \\end{pmatrix}$$  \n",
    "for which  \n",
    "$$\\bar{x}_1=\\begin{pmatrix}3 \\\\ 6\\end{pmatrix} ,\\quad \\bar{x}_2=\\begin{pmatrix}5 \\\\ 8 \\end{pmatrix}$$  \n",
    "and  \n",
    "$$S_{pooled}=\\begin{pmatrix} 1 & 1 \\\\ 1 & 2 \\end{pmatrix}$$  \n",
    "  \n",
    "- (a) Calculate the linear discriminant function in (11-19).  \n",
    "    \n",
    "- (b) Classify the observation as population or population using Rule (11-18) with equal priors and equal costs.  \n",
    "    \n",
    "$\\text{(Solution).}$"
   ]
  },
  {
   "cell_type": "markdown",
   "metadata": {},
   "source": [
    "Consider the two data sets:\n",
    "$$ X_1= \\begin{pmatrix} 3 & 7 \\\\2 & 4 \\\\4 & 7 \\end{pmatrix} \\quad \\text{and} \\quad X_2 = \\begin{pmatrix} 6 & 9\\\\ 5 & 7 \\\\ 4 & 8  \\end{pmatrix} $$\n",
    "with their respective mean vectors:\n",
    "$$ \\bar{x}_1=\\begin{pmatrix}3 \\\\ 6\\end{pmatrix} ,\\quad \\bar{x}_2=\\begin{pmatrix}5 \\\\ 8 \\end{pmatrix} $$\n",
    "and the pooled covariance matrix:\n",
    "$$ S_{pooled}=\\begin{pmatrix} 1 & 1 \\\\ 1 & 2 \\end{pmatrix} $$\n",
    "\n",
    "### Firstly, calculate the linear discriminant function\n",
    "\n",
    "The linear discriminant function (LDF) is given by:\n",
    "$$ g(\\mathbf{x}) = \\mathbf{w}^T \\mathbf{x} + w_0 $$\n",
    "where $\\mathbf{w}$ is the discriminant vector and $w_0$ is the bias term. According to equation (11-19), we can calculate the discriminant vector $\\mathbf{w}$ and the bias term $w_0$.\n",
    "\n",
    "First, calculate the discriminant vector $\\mathbf{w}$:\n",
    "$$ \\mathbf{w} = S_{pooled}^{-1} (\\bar{x}_2 - \\bar{x}_1) $$\n",
    "\n",
    "Given the pooled covariance matrix $S_{pooled}$:\n",
    "$$ S_{pooled}=\\begin{pmatrix} 1 & 1 \\\\ 1 & 2 \\end{pmatrix} $$\n",
    "\n",
    "Calculate the inverse of $S_{pooled}$:\n",
    "$$ S_{pooled}^{-1} = \\frac{1}{(1)(2) - (1)(1)} \\begin{pmatrix} 2 & -1 \\\\ -1 & 1 \\end{pmatrix} = \\begin{pmatrix} 2 & -1 \\\\ -1 & 1 \\end{pmatrix} $$\n",
    "\n",
    "Calculate $\\bar{x}_2 - \\bar{x}_1$:\n",
    "$$ \\bar{x}_2 - \\bar{x}_1 = \\begin{pmatrix} 5 \\\\ 8 \\end{pmatrix} - \\begin{pmatrix} 3 \\\\ 6 \\end{pmatrix} = \\begin{pmatrix} 2 \\\\ 2 \\end{pmatrix} $$\n",
    "\n",
    "Thus, the discriminant vector $\\mathbf{w}$ is:\n",
    "$$ \\mathbf{w} = \\begin{pmatrix} 2 & -1 \\\\ -1 & 1 \\end{pmatrix} \\begin{pmatrix} 2 \\\\ 2 \\end{pmatrix} = \\begin{pmatrix} 2 \\cdot 2 + (-1) \\cdot 2 \\\\ -1 \\cdot 2 + 1 \\cdot 2 \\end{pmatrix} = \\begin{pmatrix} 2 \\\\ 0 \\end{pmatrix} $$\n",
    "\n",
    "Next, calculate the bias term $w_0$:\n",
    "$$ w_0 = -\\frac{1}{2} (\\bar{x}_1^T \\mathbf{w} + \\bar{x}_2^T \\mathbf{w}) $$\n",
    "\n",
    "Calculate $\\bar{x}_1^T \\mathbf{w}$ and $\\bar{x}_2^T \\mathbf{w}$:\n",
    "$$ \\bar{x}_1^T \\mathbf{w} = \\begin{pmatrix} 3 & 6 \\end{pmatrix} \\begin{pmatrix} 2 \\\\ 0 \\end{pmatrix} = 3 \\cdot 2 + 6 \\cdot 0 = 6 $$\n",
    "$$ \\bar{x}_2^T \\mathbf{w} = \\begin{pmatrix} 5 & 8 \\end{pmatrix} \\begin{pmatrix} 2 \\\\ 0 \\end{pmatrix} = 5 \\cdot 2 + 8 \\cdot 0 = 10 $$\n",
    "\n",
    "Thus, the bias term $w_0$ is:\n",
    "$$ w_0 = -\\frac{1}{2} (6 + 10) = -\\frac{1}{2} \\cdot 16 = -8 $$\n",
    "\n",
    "Therefore, the linear discriminant function is:\n",
    "$$ g(\\mathbf{x}) = \\begin{pmatrix} 2 & 0 \\end{pmatrix} \\mathbf{x} - 8 $$\n",
    "\n",
    "### Secondly, classify the observation as population or population using Rule (11-18) with equal priors and equal costs\n",
    "\n",
    "According to Rule (11-18), we can classify an observation into either population \\( \\mathbf{X}_1 \\) or population \\( \\mathbf{X}_2 \\). Since we assume equal priors and equal costs, the classification rule simplifies to:\n",
    "$$ g(\\mathbf{x}) > 0 \\Rightarrow \\text{belongs to } \\mathbf{X}_2 $$\n",
    "$$ g(\\mathbf{x}) \\leq 0 \\Rightarrow \\text{belongs to } \\mathbf{X}_1 $$\n",
    "\n",
    "Substitute the observation into the linear discriminant function \\( g(\\mathbf{x}) \\) and classify it according to the above rule."
   ]
  },
  {
   "cell_type": "markdown",
   "metadata": {},
   "source": [
    "***"
   ]
  },
  {
   "cell_type": "markdown",
   "metadata": {},
   "source": [
    "## 11.17\n",
    " Suppose populations and are as follows:  \n",
    " ***\n",
    " $\\text{表太长了...不想敲了...在教材P653}$\n",
    " ***\n",
    " Assume equal prior probabilities and misclassifications costs of $c(2|1)=\\$10$ and $c(1|2)=\\$73.89$.  \n",
    " Find the posterior probabilities of populations $\\pi_1$ and $\\pi_2$.  \n",
    " $P(\\pi_1|2)$ and $P(\\pi_2|2)$, the value of the quadratic discriminator $Q$ in Exercise 11.16,and the\n",
    " classification for each value of xin the following table:  \n",
    " ***\n",
    " $\\text{同上}$\n",
    " ***\n",
    " Show each of the following on a graph of the $x_1$, $x_2$ plane.  \n",
    " $(Solution).$"
   ]
  },
  {
   "cell_type": "markdown",
   "metadata": {
    "vscode": {
     "languageId": "r"
    }
   },
   "source": [
    "For $p_1= p_2$, we believe that $R_1=\\{x:\\frac{f_1(x)}{f_2(x)}\\geq \\frac{c(1|2)}{c(2|1)} \\}$ and $R_2=\\{x:\\frac{f_1(x)}{f_2(x)}< \\frac{c(1|2)}{c(2|1)}  \\}$ are the regions of the $x_1$, $x_2$ plane where the two populations are equally likely to occur.  \n",
    "\n",
    "Accordingly, we define Quadratic Discriminant Function  \n",
    "\n",
    "$Q(x)$  \n",
    "$=ln{\\frac{f_1(x)}{f_2(x)}}$  \n",
    "$=-\\frac{1}{2}x^T(\\Sigma_1^{-1}-\\Sigma_2^{-1})x+(\\mu_1^T\\Sigma_1^{-1}-\\mu_2^T\\Sigma_2^{-1})x -\\frac{1}{2}ln(\\frac{|\\Sigma_1^{-1}|}{|\\Sigma_2^{-1}|})+\\frac{1}{2}(\\mu_1^T\\Sigma_1^{-1}\\mu_1-\\mu_2^T\\Sigma_2^{-1}\\mu_2)$\n",
    "\n",
    "$Allocate \\space x_0 \\space to $\n",
    "- $\\pi_1 , \\space if \\space Q(x_0) \\geq ln\\frac{c(1|2)p_2}{c(2|1)p_1}$\n",
    "- $\\pi_2, \\space otherwise$"
   ]
  },
  {
   "cell_type": "code",
   "execution_count": 11,
   "metadata": {
    "vscode": {
     "languageId": "r"
    }
   },
   "outputs": [],
   "source": [
    "# 均值向量\n",
    "mu1 <- matrix(c(10, 15), nrow = 2, byrow = TRUE)\n",
    "mu2 <- matrix(c(10, 25), nrow = 2, byrow = TRUE)\n",
    "\n",
    "# 协方差矩阵\n",
    "S1 <- matrix(c(18, 12, 12, 32), nrow = 2, byrow = TRUE)\n",
    "S2 <- matrix(c(20, -7, -7, 5), nrow = 2, byrow = TRUE)\n",
    "\n",
    "# 计算逆矩阵\n",
    "S1_inv <- solve(S1)\n",
    "S2_inv <- solve(S2)\n",
    "\n",
    "# 误分类成本\n",
    "c21 <- 10\n",
    "c12 <- 73.89\n",
    "\n",
    "# 计算对数比\n",
    "log_ratio <- log(c12 / c21)"
   ]
  },
  {
   "cell_type": "code",
   "execution_count": 12,
   "metadata": {
    "vscode": {
     "languageId": "r"
    }
   },
   "outputs": [
    {
     "name": "stdout",
     "output_type": "stream",
     "text": [
      "20 15"
     ]
    }
   ],
   "source": [
    "x1= 2 * c(0:10) + 10\n",
    "x2 = 2 * c(0:10) + 5\n",
    "\n",
    "X = cbind(x1, x2)\n",
    "\n",
    "cat(mean(x1), mean(x2) )"
   ]
  },
  {
   "cell_type": "code",
   "execution_count": 13,
   "metadata": {
    "vscode": {
     "languageId": "r"
    }
   },
   "outputs": [],
   "source": [
    "x1.bar= mu1\n",
    "x2.bar= mu2"
   ]
  },
  {
   "cell_type": "code",
   "execution_count": 14,
   "metadata": {
    "vscode": {
     "languageId": "r"
    }
   },
   "outputs": [],
   "source": [
    "# QDF\n",
    "Q <- function(x0) {\n",
    "\n",
    "  return(-1/2*t(x0)%*%(solve(S1)-solve(S2))%*%x0+\n",
    "(t(x1.bar)%*%solve(S1)-t(x2.bar)%*%solve(S2))%*%x0-\n",
    "(1/2*log(det(S1)/det(S2))+1/2*(t(x1.bar)%*%solve(S1)%*%x1.bar-t(x2.bar)%*%solve(S2)%*%x2.bar)) )\n",
    "}"
   ]
  },
  {
   "cell_type": "code",
   "execution_count": 15,
   "metadata": {
    "vscode": {
     "languageId": "r"
    }
   },
   "outputs": [
    {
     "name": "stdout",
     "output_type": "stream",
     "text": [
      "[1] 10 15\n",
      "Q = 18.53954 \n",
      "TRUE \n",
      "[1] 12 17\n",
      "Q = 9.360349 \n",
      "TRUE \n",
      "[1] 14 19\n",
      "Q = 2.999238 \n",
      "TRUE \n",
      "[1] 16 21\n",
      "Q = -0.5437902 \n",
      "FALSE \n",
      "[1] 18 23\n",
      "Q = -1.268736 \n",
      "FALSE \n",
      "[1] 20 25\n",
      "Q = 0.8244015 \n",
      "FALSE \n",
      "[1] 22 27\n",
      "Q = 5.735622 \n",
      "TRUE \n",
      "[1] 24 29\n",
      "Q = 13.46492 \n",
      "TRUE \n",
      "[1] 26 31\n",
      "Q = 24.01231 \n",
      "TRUE \n",
      "[1] 28 33\n",
      "Q = 37.37778 \n",
      "TRUE \n",
      "[1] 30 35\n",
      "Q = 53.56133 \n",
      "TRUE \n"
     ]
    }
   ],
   "source": [
    "\n",
    "# 计算数据点\n",
    "for (i in 0:10 ) {\n",
    "  x0= c( 2*i+10, 15+2*i )\n",
    "  print(x0)\n",
    "  cat('Q =', Q(x0), '\\n')\n",
    "  cat( Q(x0)> log_ratio, '\\n')\n",
    "  \n",
    "}"
   ]
  },
  {
   "cell_type": "markdown",
   "metadata": {
    "vscode": {
     "languageId": "r"
    }
   },
   "source": [
    "显示为TRUE则分类为$\\pi_1$，否则为$\\pi_2$"
   ]
  },
  {
   "cell_type": "markdown",
   "metadata": {},
   "source": [
    "### (a)\n",
    "The mean of each population  \n",
    "$\\text{(Solution)}.$\n"
   ]
  },
  {
   "cell_type": "code",
   "execution_count": 16,
   "metadata": {
    "vscode": {
     "languageId": "r"
    }
   },
   "outputs": [
    {
     "name": "stdout",
     "output_type": "stream",
     "text": [
      "10 15 10 25"
     ]
    }
   ],
   "source": [
    "cat(x1.bar, x2.bar)"
   ]
  },
  {
   "cell_type": "markdown",
   "metadata": {},
   "source": [
    "### (b)\n",
    "The ellipse of minimal area with probability .95 of containing x for each population  \n",
    "$(Solution).$"
   ]
  },
  {
   "cell_type": "code",
   "execution_count": 17,
   "metadata": {
    "vscode": {
     "languageId": "r"
    }
   },
   "outputs": [],
   "source": [
    "plot4ellipse <- function(mu, Sigma, c2, e.lty = 1, e.col = 1, e.lwd = 1, e.fill = NA){\n",
    "library(plotrix)\n",
    "Sigma1 <- Sigma*as.numeric(c2)\n",
    "draw.ellipse(x = mu[1], y = mu[2],\n",
    "a = sqrt(eigen(Sigma1)$values[1]), b = sqrt(eigen(Sigma1)$values[2]),\n",
    "angle = atan(eigen(Sigma1)$vectors[2, 1]/eigen(Sigma1)$vectors[1, 1]),\n",
    "deg = FALSE, nv = 200, lty = e.lty, border = e.col, lwd = e.lwd, col = e.fill)\n",
    "}\n"
   ]
  },
  {
   "cell_type": "code",
   "execution_count": null,
   "metadata": {
    "vscode": {
     "languageId": "r"
    }
   },
   "outputs": [],
   "source": [
    "plot(0, 0, type = \"n\", xlim = c(-0.7, 0.3), ylim = c(-0.4, 0.4),\n",
    "xlab = expression(X[1]), ylab = expression(X[2]))\n",
    "points(x1, pch = 19, col = rgb(0, 0, 1, alpha = 0.8))\n",
    "points(x2, pch = 19, col = rgb(0.7, 0.3, 0, alpha = 0.8))\n",
    "points(x1.bar, x2.bar, pch = 4, col = rgb(0, 0, 1, alpha = 1))\n",
    "\n",
    "plot4ellipse(mu1, S1, qchisq(0.5, 2), e.lty = 3,\n",
    "    e.col = rgb(0, 0, 1, alpha = 1), e.lwd = 1, e.fill = NA)\n",
    "\n",
    "plot4ellipse(x1.bar, S1, qchisq(0.95, 2), e.lty = 3,\n",
    "e.col = rgb(0, 0, 1, alpha = 1), e.lwd = 1, e.fill = NA)\n",
    "points(x2.bar[1], x2.bar[2], pch = 4, col = rgb(0.7, 0.3, 0, alpha = 1))\n",
    "plot4ellipse(mu2, S2, qchisq(0.5, 2), e.lty = 3,\n",
    "e.col = rgb(0.7, 0.3, 0, alpha = 1), e.lwd = 1, e.fill = NA)\n",
    "plot4ellipse(x2.bar, S2, qchisq(0.95, 2), e.lty = 3,\n",
    "e.col = rgb(0.7, 0.3, 0, alpha = 1), e.lwd = 1, e.fill = NA)\n"
   ]
  },
  {
   "cell_type": "code",
   "execution_count": null,
   "metadata": {
    "vscode": {
     "languageId": "r"
    }
   },
   "outputs": [],
   "source": [
    "points(x0[1], x0[2], pch=15)\n",
    "p.ratio <- 0.5/0.5\n",
    "abline(a = (m.hat+log(p.ratio))/a.hat[2],\n",
    "b = -a.hat[1]/a.hat[2],\n",
    "col = rgb(0,0.5,0.5))\n",
    "text(x = 0.2, -0.1, labels = expression(pi[1]), col = rgb(0, 0, 1, alpha = 1), cex = 1.2)\n",
    "text(x = -0.6, 0.1, labels = expression(pi[2]), col = rgb(0.7, 0.3, 0, alpha = 1), cex=1.2)\n",
    "p.ratio <- 0.25/0.75\n",
    "abline(a = (m.hat+log(p.ratio))/a.hat[2],\n",
    "b = -a.hat[1]/a.hat[2],\n",
    "col = rgb(0.5, 0.5, 0))\n",
    "p.ratio <- 0.75/0.25\n",
    "abline(a = (m.hat+log(p.ratio))/a.hat[2],\n",
    "b = -a.hat[1]/a.hat[2],\n",
    "col = rgb(0.5, 0, 0.5))\n",
    "legend(\"bottomright\", lty = c(1, 1, 1),\n",
    "col = c(rgb(0, 0.5, 0.5), rgb(0.5, 0.5, 0), rgb(0.5, 0, 0.5)),\n",
    "title = \"p2/p1\",\n",
    "legend = c(\"1\", \"1/3\", \"3\"), bty = \"n\")"
   ]
  },
  {
   "cell_type": "markdown",
   "metadata": {},
   "source": [
    "Into $\\pi_1:$\n",
    "$Q \\geq lm[(\\frac{c(1|2)}{(c(2|1))})(\\frac{p_2}{p_1})]=ln(\\frac{73.89}{10})=2.0$  \n",
    "Into $\\pi_2:$ otherwise."
   ]
  },
  {
   "cell_type": "markdown",
   "metadata": {},
   "source": [
    "### (c)\n",
    "The region $R_1$ (for population $\\pi_1$ ) and the region $R_2$ (for population $\\pi_2$ )  \n",
    "$(Solution).$"
   ]
  },
  {
   "cell_type": "markdown",
   "metadata": {
    "vscode": {
     "languageId": "r"
    }
   },
   "source": [
    "$R_1$ is the region of the plane that is closer to $\\mu_1$ than to $\\mu_2$. $R_2$ is the region of the plane that is closer to $\\mu_2$ than to $\\mu_1$."
   ]
  },
  {
   "cell_type": "markdown",
   "metadata": {},
   "source": [
    "***"
   ]
  },
  {
   "cell_type": "markdown",
   "metadata": {},
   "source": [
    "## 11.24\n",
    "Annual financial data are collected for bankrupt firms approximately 2 years prior to their bankruptcy and for financially sound firms at about the same time. The data on four variables,   \n",
    "$X_1$= $CF/TD$ =(cash flow)/(total debt),   \n",
    "$X_2$ = $NI/TA$ = (net income)/(total assets),   \n",
    "$X_3$= $CA/CL$ =(current assets)/(current liabilities)  \n",
    "$X_4$ = $CA/NS$ = (current assets)/(net sales)  \n",
    ", are given in Table 11.4.  \n",
    "   \n",
    "$\\text{(Solution).}$"
   ]
  },
  {
   "cell_type": "code",
   "execution_count": 13,
   "metadata": {
    "vscode": {
     "languageId": "r"
    }
   },
   "outputs": [],
   "source": [
    "data11.24 = read.table('D:/A-多元统计分析/Wichern_data/Wichern_data/T11-4.DAT', header = FALSE)"
   ]
  },
  {
   "cell_type": "code",
   "execution_count": 14,
   "metadata": {
    "vscode": {
     "languageId": "r"
    }
   },
   "outputs": [],
   "source": [
    "colnames(data11.24) = c('x1', 'x2', 'x3', 'x4', 'population')"
   ]
  },
  {
   "cell_type": "code",
   "execution_count": 10,
   "metadata": {
    "vscode": {
     "languageId": "r"
    }
   },
   "outputs": [
    {
     "ename": "ERROR",
     "evalue": "Error in eval(expr, envir, enclos): object 'data11.24' not found\n",
     "output_type": "error",
     "traceback": [
      "Error in eval(expr, envir, enclos): object 'data11.24' not found\nTraceback:\n",
      "1. head(data11.24)"
     ]
    }
   ],
   "source": [
    "head(data11.24)"
   ]
  },
  {
   "cell_type": "markdown",
   "metadata": {},
   "source": [
    " ### (a) \n",
    " Using a different symbol for each group,plot the data for the pairs of observations $(x_1,x_2)$ , $(x_1, x_3)$ and $(x_1 , x_4)$. and Does it appear as if the data are approximately\n",
    " bivariate normal for any of these pairs of variables?\n",
    " "
   ]
  },
  {
   "cell_type": "code",
   "execution_count": 16,
   "metadata": {
    "vscode": {
     "languageId": "r"
    }
   },
   "outputs": [
    {
     "data": {
      "image/png": "[encoded data removed]",
      "text/plain": [
       "Plot with title \"Plot of X1 vs X2\""
      ]
     },
     "metadata": {
      "image/png": {
       "height": 420,
       "width": 420
      }
     },
     "output_type": "display_data"
    }
   ],
   "source": [
    "# plot the data for the pairs of observations $(x_1,x_2)$ , $(x_1, x_3)$ and $(x_1 , x_4)$.\n",
    "\n",
    "# 绘制$x_1$和$x_2$\n",
    "plot(data11.24$x1[data11.24$population == 0], data11.24$x2[data11.24$population == 0], col = 'red', pch = 19,\n",
    "     xlab = \"CF/TD (X1)\", ylab = \"NI/TA (X2)\", main = \"Plot of X1 vs X2\")\n",
    "points(data11.24$x1[data11.24$population == 1], data11.24$x2[data11.24$population == 1], col = 'blue', pch = 17)"
   ]
  },
  {
   "cell_type": "code",
   "execution_count": 17,
   "metadata": {
    "vscode": {
     "languageId": "r"
    }
   },
   "outputs": [
    {
     "data": {
      "image/png": "[encoded data removed]",
      "text/plain": [
       "Plot with title \"Plot of X1 vs X3\""
      ]
     },
     "metadata": {
      "image/png": {
       "height": 420,
       "width": 420
      }
     },
     "output_type": "display_data"
    }
   ],
   "source": [
    "\n",
    "# 绘制$x_1$和$x_3$\n",
    "plot(data11.24$x1[data11.24$population == 0], data11.24$x3[data11.24$population == 0], col = 'red', pch = 19,\n",
    "     xlab = \"CF/TD (X1)\", ylab = \"CA/CL (X3)\", main = \"Plot of X1 vs X3\")\n",
    "points(data11.24$x1[data11.24$population == 1], data11.24$x3[data11.24$population == 1], col = 'blue', pch = 17)"
   ]
  },
  {
   "cell_type": "code",
   "execution_count": 18,
   "metadata": {
    "vscode": {
     "languageId": "r"
    }
   },
   "outputs": [
    {
     "data": {
      "image/png": "[encoded data removed]",
      "text/plain": [
       "Plot with title \"Plot of X1 vs X4\""
      ]
     },
     "metadata": {
      "image/png": {
       "height": 420,
       "width": 420
      }
     },
     "output_type": "display_data"
    }
   ],
   "source": [
    "# 绘制$x_1$和$x_4$\n",
    "plot(data11.24$x1[data11.24$population == 0], data11.24$x4[data11.24$population == 0], col = 'red', pch = 19,\n",
    "     xlab = \"CF/TD (X1)\", ylab = \"CA/NS (X4)\", main = \"Plot of X1 vs X4\")\n",
    "points(data11.24$x1[data11.24$population == 1], data11.24$x4[data11.24$population == 1], col = 'blue', pch = 17)"
   ]
  },
  {
   "cell_type": "markdown",
   "metadata": {},
   "source": [
    "It seems that bivariate normality is not apparent for any of these pairs of variables."
   ]
  },
  {
   "cell_type": "markdown",
   "metadata": {
    "vscode": {
     "languageId": "r"
    }
   },
   "source": [
    "### (b)\n",
    "Using the $n_1=21$ pairs of observations $(x_1,x_2)$ for bankrupt firms and the $n_2=25$ pairs of observations $(x_1,x_2)$ for nonbankrupt firms,calculate the sample mean vectors $\\bar{x}_1$ and $\\bar{x}_2$ and the sample covariance matrices $S_1$ and $S_2$.   \n",
    "\n",
    "$\\text{(Solution).}$"
   ]
  },
  {
   "cell_type": "code",
   "execution_count": 19,
   "metadata": {
    "vscode": {
     "languageId": "r"
    }
   },
   "outputs": [],
   "source": [
    "# 分离破产公司和财务健康公司的数据\n",
    "bankrupt_data <- data11.24[data11.24$population == 0, c(\"x1\", \"x2\")]\n",
    "nonbankrupt_data <- data11.24[data11.24$population == 1, c(\"x1\", \"x2\")]\n",
    "\n",
    "# 计算破产公司的样本均值向量和样本协方差矩阵\n",
    "x1.bar <- colMeans(bankrupt_data)\n",
    "S1 <- cov(bankrupt_data)\n",
    "\n",
    "# 计算财务健康公司的样本均值向量和样本协方差矩阵\n",
    "x2.bar <- colMeans(nonbankrupt_data)\n",
    "S2 <- cov(nonbankrupt_data)"
   ]
  },
  {
   "cell_type": "code",
   "execution_count": 20,
   "metadata": {
    "vscode": {
     "languageId": "r"
    }
   },
   "outputs": [
    {
     "data": {
      "text/html": [
       "<style>\n",
       ".dl-inline {width: auto; margin:0; padding: 0}\n",
       ".dl-inline>dt, .dl-inline>dd {float: none; width: auto; display: inline-block}\n",
       ".dl-inline>dt::after {content: \":\\0020\"; padding-right: .5ex}\n",
       ".dl-inline>dt:not(:first-of-type) {padding-left: .5ex}\n",
       "</style><dl class=dl-inline><dt>x1</dt><dd>-0.0690476190476191</dd><dt>x2</dt><dd>-0.0814285714285714</dd></dl>\n"
      ],
      "text/latex": [
       "\\begin{description*}\n",
       "\\item[x1] -0.0690476190476191\n",
       "\\item[x2] -0.0814285714285714\n",
       "\\end{description*}\n"
      ],
      "text/markdown": [
       "x1\n",
       ":   -0.0690476190476191x2\n",
       ":   -0.0814285714285714\n",
       "\n"
      ],
      "text/plain": [
       "         x1          x2 \n",
       "-0.06904762 -0.08142857 "
      ]
     },
     "metadata": {},
     "output_type": "display_data"
    }
   ],
   "source": [
    "# 输出结果\n",
    "x1.bar"
   ]
  },
  {
   "cell_type": "code",
   "execution_count": 21,
   "metadata": {
    "vscode": {
     "languageId": "r"
    }
   },
   "outputs": [
    {
     "data": {
      "text/html": [
       "<table class=\"dataframe\">\n",
       "<caption>A matrix: 2 × 2 of type dbl</caption>\n",
       "<thead>\n",
       "\t<tr><th></th><th scope=col>x1</th><th scope=col>x2</th></tr>\n",
       "</thead>\n",
       "<tbody>\n",
       "\t<tr><th scope=row>x1</th><td>0.04412905</td><td>0.02847643</td></tr>\n",
       "\t<tr><th scope=row>x2</th><td>0.02847643</td><td>0.02100286</td></tr>\n",
       "</tbody>\n",
       "</table>\n"
      ],
      "text/latex": [
       "A matrix: 2 × 2 of type dbl\n",
       "\\begin{tabular}{r|ll}\n",
       "  & x1 & x2\\\\\n",
       "\\hline\n",
       "\tx1 & 0.04412905 & 0.02847643\\\\\n",
       "\tx2 & 0.02847643 & 0.02100286\\\\\n",
       "\\end{tabular}\n"
      ],
      "text/markdown": [
       "\n",
       "A matrix: 2 × 2 of type dbl\n",
       "\n",
       "| <!--/--> | x1 | x2 |\n",
       "|---|---|---|\n",
       "| x1 | 0.04412905 | 0.02847643 |\n",
       "| x2 | 0.02847643 | 0.02100286 |\n",
       "\n"
      ],
      "text/plain": [
       "   x1         x2        \n",
       "x1 0.04412905 0.02847643\n",
       "x2 0.02847643 0.02100286"
      ]
     },
     "metadata": {},
     "output_type": "display_data"
    }
   ],
   "source": [
    "S1"
   ]
  },
  {
   "cell_type": "code",
   "execution_count": 22,
   "metadata": {
    "vscode": {
     "languageId": "r"
    }
   },
   "outputs": [
    {
     "data": {
      "text/html": [
       "<style>\n",
       ".dl-inline {width: auto; margin:0; padding: 0}\n",
       ".dl-inline>dt, .dl-inline>dd {float: none; width: auto; display: inline-block}\n",
       ".dl-inline>dt::after {content: \":\\0020\"; padding-right: .5ex}\n",
       ".dl-inline>dt:not(:first-of-type) {padding-left: .5ex}\n",
       "</style><dl class=dl-inline><dt>x1</dt><dd>0.2352</dd><dt>x2</dt><dd>0.0556</dd></dl>\n"
      ],
      "text/latex": [
       "\\begin{description*}\n",
       "\\item[x1] 0.2352\n",
       "\\item[x2] 0.0556\n",
       "\\end{description*}\n"
      ],
      "text/markdown": [
       "x1\n",
       ":   0.2352x2\n",
       ":   0.0556\n",
       "\n"
      ],
      "text/plain": [
       "    x1     x2 \n",
       "0.2352 0.0556 "
      ]
     },
     "metadata": {},
     "output_type": "display_data"
    }
   ],
   "source": [
    "x2.bar"
   ]
  },
  {
   "cell_type": "code",
   "execution_count": 23,
   "metadata": {
    "vscode": {
     "languageId": "r"
    }
   },
   "outputs": [
    {
     "data": {
      "text/html": [
       "<table class=\"dataframe\">\n",
       "<caption>A matrix: 2 × 2 of type dbl</caption>\n",
       "<thead>\n",
       "\t<tr><th></th><th scope=col>x1</th><th scope=col>x2</th></tr>\n",
       "</thead>\n",
       "<tbody>\n",
       "\t<tr><th scope=row>x1</th><td>0.047051000</td><td>0.008507167</td></tr>\n",
       "\t<tr><th scope=row>x2</th><td>0.008507167</td><td>0.002375667</td></tr>\n",
       "</tbody>\n",
       "</table>\n"
      ],
      "text/latex": [
       "A matrix: 2 × 2 of type dbl\n",
       "\\begin{tabular}{r|ll}\n",
       "  & x1 & x2\\\\\n",
       "\\hline\n",
       "\tx1 & 0.047051000 & 0.008507167\\\\\n",
       "\tx2 & 0.008507167 & 0.002375667\\\\\n",
       "\\end{tabular}\n"
      ],
      "text/markdown": [
       "\n",
       "A matrix: 2 × 2 of type dbl\n",
       "\n",
       "| <!--/--> | x1 | x2 |\n",
       "|---|---|---|\n",
       "| x1 | 0.047051000 | 0.008507167 |\n",
       "| x2 | 0.008507167 | 0.002375667 |\n",
       "\n"
      ],
      "text/plain": [
       "   x1          x2         \n",
       "x1 0.047051000 0.008507167\n",
       "x2 0.008507167 0.002375667"
      ]
     },
     "metadata": {},
     "output_type": "display_data"
    }
   ],
   "source": [
    "S2"
   ]
  },
  {
   "cell_type": "markdown",
   "metadata": {
    "vscode": {
     "languageId": "r"
    }
   },
   "source": [
    "### (c) \n",
    "Using the results in (b) and assuming that both random samples are from bivariate normal populations, construct the classification rule (11-29) with $p_1=p_2$ and $c(1|2) = c(2|1)$  \n",
    "\n",
    "$\\text{(Solution).}$"
   ]
  },
  {
   "cell_type": "markdown",
   "metadata": {},
   "source": [
    "***\n",
    "$rule(11.29)$\n",
    "***\n",
    "给定两个总体，我们假设（$ p_1 = p_2 $），并且（$ c(1|2) = c(2|1) $）。在这些假设下，二次分类规则可以简化为：\n",
    "\n",
    "如果\n",
    "$\n",
    "-\\frac{1}{2} \\mathbf{x}_0' (\\mathbf{S}_1^{-1} - \\mathbf{S}_2^{-1}) \\mathbf{x}_0 + (\\bar{\\mathbf{x}}_1' \\mathbf{S}_1^{-1} - \\bar{\\mathbf{x}}_2' \\mathbf{S}_2^{-1}) \\mathbf{x}_0 \\geq k\n",
    "$\n",
    "则将 $x_0$ 分类为 $\\pi_1$。\n",
    "\n",
    "否则，将 $x_0$ 分类为 $\\pi_2$。\n",
    "\n",
    "其中：\n",
    "- $\\mathbf{x}_0$ 是待分类的观测值。\n",
    "- $\\bar{\\mathbf{x}}_1$ 和 $\\bar{\\mathbf{x}}_2$ 分别是两个总体的样本均值向量。\n",
    "- $\\mathbf{S}_1$ 和 $\\mathbf{S}_2$ 分别是两个总体的样本协方差矩阵。\n",
    "- $k$ 是一个常数"
   ]
  },
  {
   "cell_type": "code",
   "execution_count": 33,
   "metadata": {
    "vscode": {
     "languageId": "r"
    }
   },
   "outputs": [],
   "source": [
    "# 定义分类函数\n",
    "classify <- function(x0, bar_x1, bar_x2, S1, S2) {\n",
    "  # 计算判别函数\n",
    "  discriminant <- -0.5 * t(x0) %*% (solve(S1) - solve(S2)) %*% x0 + \n",
    "                  (t(bar_x1) %*% solve(S1) - t(bar_x2) %*% solve(S2)) %*% x0\n",
    "  \n",
    " \n",
    "  \n",
    "  # 根据判别函数进行分类\n",
    "  if (discriminant >= k) {\n",
    "    return(\"Class 1\")\n",
    "  } else {\n",
    "    return(\"Class 2\")\n",
    "  }\n",
    "}"
   ]
  },
  {
   "cell_type": "markdown",
   "metadata": {
    "vscode": {
     "languageId": "r"
    }
   },
   "source": [
    "### (d)\n",
    "Evaluate the performance of the classification rule developed in (c) by computing\n",
    " the apparent error rate (APER) from **(11-34)** and the estimated expected actual\n",
    " error rate (AER) from **(11-36)**.  \n",
    "   \n",
    "   $\\text{(Solution).}$\n",
    " "
   ]
  },
  {
   "cell_type": "code",
   "execution_count": 25,
   "metadata": {
    "vscode": {
     "languageId": "r"
    }
   },
   "outputs": [
    {
     "data": {
      "text/html": [
       "<table class=\"dataframe\">\n",
       "<caption>A data.frame: 6 × 5</caption>\n",
       "<thead>\n",
       "\t<tr><th></th><th scope=col>x1</th><th scope=col>x2</th><th scope=col>x3</th><th scope=col>x4</th><th scope=col>population</th></tr>\n",
       "\t<tr><th></th><th scope=col>&lt;dbl&gt;</th><th scope=col>&lt;dbl&gt;</th><th scope=col>&lt;dbl&gt;</th><th scope=col>&lt;dbl&gt;</th><th scope=col>&lt;int&gt;</th></tr>\n",
       "</thead>\n",
       "<tbody>\n",
       "\t<tr><th scope=row>1</th><td>-0.45</td><td>-0.41</td><td>1.09</td><td>0.45</td><td>0</td></tr>\n",
       "\t<tr><th scope=row>2</th><td>-0.56</td><td>-0.31</td><td>1.51</td><td>0.16</td><td>0</td></tr>\n",
       "\t<tr><th scope=row>3</th><td> 0.06</td><td> 0.02</td><td>1.01</td><td>0.40</td><td>0</td></tr>\n",
       "\t<tr><th scope=row>4</th><td>-0.07</td><td>-0.09</td><td>1.45</td><td>0.26</td><td>0</td></tr>\n",
       "\t<tr><th scope=row>5</th><td>-0.10</td><td>-0.09</td><td>1.56</td><td>0.67</td><td>0</td></tr>\n",
       "\t<tr><th scope=row>6</th><td>-0.14</td><td>-0.07</td><td>0.71</td><td>0.28</td><td>0</td></tr>\n",
       "</tbody>\n",
       "</table>\n"
      ],
      "text/latex": [
       "A data.frame: 6 × 5\n",
       "\\begin{tabular}{r|lllll}\n",
       "  & x1 & x2 & x3 & x4 & population\\\\\n",
       "  & <dbl> & <dbl> & <dbl> & <dbl> & <int>\\\\\n",
       "\\hline\n",
       "\t1 & -0.45 & -0.41 & 1.09 & 0.45 & 0\\\\\n",
       "\t2 & -0.56 & -0.31 & 1.51 & 0.16 & 0\\\\\n",
       "\t3 &  0.06 &  0.02 & 1.01 & 0.40 & 0\\\\\n",
       "\t4 & -0.07 & -0.09 & 1.45 & 0.26 & 0\\\\\n",
       "\t5 & -0.10 & -0.09 & 1.56 & 0.67 & 0\\\\\n",
       "\t6 & -0.14 & -0.07 & 0.71 & 0.28 & 0\\\\\n",
       "\\end{tabular}\n"
      ],
      "text/markdown": [
       "\n",
       "A data.frame: 6 × 5\n",
       "\n",
       "| <!--/--> | x1 &lt;dbl&gt; | x2 &lt;dbl&gt; | x3 &lt;dbl&gt; | x4 &lt;dbl&gt; | population &lt;int&gt; |\n",
       "|---|---|---|---|---|---|\n",
       "| 1 | -0.45 | -0.41 | 1.09 | 0.45 | 0 |\n",
       "| 2 | -0.56 | -0.31 | 1.51 | 0.16 | 0 |\n",
       "| 3 |  0.06 |  0.02 | 1.01 | 0.40 | 0 |\n",
       "| 4 | -0.07 | -0.09 | 1.45 | 0.26 | 0 |\n",
       "| 5 | -0.10 | -0.09 | 1.56 | 0.67 | 0 |\n",
       "| 6 | -0.14 | -0.07 | 0.71 | 0.28 | 0 |\n",
       "\n"
      ],
      "text/plain": [
       "  x1    x2    x3   x4   population\n",
       "1 -0.45 -0.41 1.09 0.45 0         \n",
       "2 -0.56 -0.31 1.51 0.16 0         \n",
       "3  0.06  0.02 1.01 0.40 0         \n",
       "4 -0.07 -0.09 1.45 0.26 0         \n",
       "5 -0.10 -0.09 1.56 0.67 0         \n",
       "6 -0.14 -0.07 0.71 0.28 0         "
      ]
     },
     "metadata": {},
     "output_type": "display_data"
    }
   ],
   "source": [
    "head(data11.24)"
   ]
  },
  {
   "cell_type": "markdown",
   "metadata": {},
   "source": [
    "MASS包中的lda函数可以用于线性判别分析。这个函数可以计算样本均值向量、样本协方差矩阵以及分类规则。我们可以使用这个函数来计算分类规则，并评估分类器的性能。  \n",
    "这里，通过控制这一函数的参数CV（交叉验证与否），我们来得到$APER$和$\\widehat{E(AER)}$"
   ]
  },
  {
   "cell_type": "code",
   "execution_count": null,
   "metadata": {
    "vscode": {
     "languageId": "r"
    }
   },
   "outputs": [],
   "source": [
    "lapply(data11.24[,1:4], function(x) classify(x, S1))"
   ]
  },
  {
   "cell_type": "markdown",
   "metadata": {},
   "source": [
    "#### $\\widehat{E(AER)}$"
   ]
  },
  {
   "cell_type": "code",
   "execution_count": 144,
   "metadata": {
    "vscode": {
     "languageId": "r"
    }
   },
   "outputs": [
    {
     "data": {
      "text/plain": [
       "   \n",
       "     0  1\n",
       "  0 18  3\n",
       "  1  2 23"
      ]
     },
     "metadata": {},
     "output_type": "display_data"
    }
   ],
   "source": [
    "library(MASS)\n",
    "\n",
    "model <- lda(population~x1+x2+x3+x4, data = data11.24,\n",
    "                prior = c(0.5, 0.5), CV = TRUE)\n",
    "model.pred <- as.numeric(model$class)\n",
    "model.tab <- table(data11.24$population, model.pred-1)\n",
    "model.tab"
   ]
  },
  {
   "cell_type": "code",
   "execution_count": 74,
   "metadata": {
    "vscode": {
     "languageId": "r"
    }
   },
   "outputs": [
    {
     "data": {
      "text/html": [
       "0.108695652173913"
      ],
      "text/latex": [
       "0.108695652173913"
      ],
      "text/markdown": [
       "0.108695652173913"
      ],
      "text/plain": [
       "[1] 0.1086957"
      ]
     },
     "metadata": {},
     "output_type": "display_data"
    }
   ],
   "source": [
    "(2+3)/(18+2+3+23)"
   ]
  },
  {
   "cell_type": "markdown",
   "metadata": {},
   "source": [
    "### (e)\n",
    "Repeat Parts c and d,assuming that $p_1 = 0.05$, $p_2 = 0.95$ and $c(1|2)=c(2|1)$  \n",
    "Is this choice of prior probabilities reasonable? Explain.  \n",
    "  \n",
    "$\\text{(Solution).}$\n",
    " "
   ]
  },
  {
   "cell_type": "markdown",
   "metadata": {
    "vscode": {
     "languageId": "r"
    }
   },
   "source": [
    "#### rep (c)"
   ]
  },
  {
   "cell_type": "markdown",
   "metadata": {},
   "source": [
    "在这些假设下，二次分类规则可以简化为：\n",
    "\n",
    "如果  \n",
    "$\n",
    "-\\frac{1}{2} \\mathbf{x}_0' (\\mathbf{S}_1^{-1} - \\mathbf{S}_2^{-1}) \\mathbf{x}_0 + (\\bar{\\mathbf{x}}_1' \\mathbf{S}_1^{-1} - \\bar{\\mathbf{x}}_2' \\mathbf{S}_2^{-1}) \\mathbf{x}_0 \\geq k + ln((\\frac{c(1|2)}{c(2|1)})(\\frac{p_2}{p_1}))\n",
    "$  \n",
    "  \n",
    "则将 $x_0$ 分类为 $\\pi_1$。\n",
    "\n",
    "否则，将 $x_0$ 分类为 $\\pi_2$。"
   ]
  },
  {
   "cell_type": "code",
   "execution_count": 1,
   "metadata": {
    "vscode": {
     "languageId": "r"
    }
   },
   "outputs": [],
   "source": [
    "# 定义分类函数\n",
    "classify <- function(x0, bar_x1, bar_x2, S1, S2) {\n",
    "  # 计算判别函数\n",
    "  discriminant <- -0.5 * t(x0) %*% (solve(S1) - solve(S2)) %*% x0 + \n",
    "                  (t(bar_x1) %*% solve(S1) - t(bar_x2) %*% solve(S2)) %*% x0\n",
    "  \n",
    "  \n",
    "  # 根据判别函数进行分类\n",
    "  if (discriminant >= k + log((1)*(0.95/0.05))) {\n",
    "    return(\"Class 1\")\n",
    "  } else {\n",
    "    return(\"Class 2\")\n",
    "  }\n",
    "}"
   ]
  },
  {
   "cell_type": "markdown",
   "metadata": {},
   "source": [
    "##### E(AER)"
   ]
  },
  {
   "cell_type": "code",
   "execution_count": 31,
   "metadata": {
    "vscode": {
     "languageId": "r"
    }
   },
   "outputs": [
    {
     "data": {
      "text/plain": [
       "   \n",
       "     0  1\n",
       "  0 21  0\n",
       "  1 19  6"
      ]
     },
     "metadata": {},
     "output_type": "display_data"
    }
   ],
   "source": [
    "library(MASS)\n",
    "\n",
    "model <- lda(population~x1+x2+x3+x4, data = data11.24,\n",
    "                prior = c(0.95, 0.05), CV = TRUE)\n",
    "model.pred <- as.numeric(model$class)\n",
    "model.tab <- table(data11.24$population, model.pred-1)\n",
    "model.tab"
   ]
  },
  {
   "cell_type": "code",
   "execution_count": 32,
   "metadata": {
    "vscode": {
     "languageId": "r"
    }
   },
   "outputs": [
    {
     "data": {
      "text/html": [
       "0.58695652173913"
      ],
      "text/latex": [
       "0.58695652173913"
      ],
      "text/markdown": [
       "0.58695652173913"
      ],
      "text/plain": [
       "[1] 0.5869565"
      ]
     },
     "metadata": {},
     "output_type": "display_data"
    }
   ],
   "source": [
    "(6+21)/(21+0+19+6)"
   ]
  },
  {
   "cell_type": "markdown",
   "metadata": {},
   "source": [
    "### (f)\n",
    " Using the results in (b), form the pooled covariance matrix and construct\n",
    " Fisher’s sample linear discriminant function in (11-19).Use this function to classify\n",
    " the sample observations and evaluate the APER. Is Fisher’s linear discriminant\n",
    " function a sensible choice for a classifier in this case? Explain."
   ]
  },
  {
   "cell_type": "markdown",
   "metadata": {
    "vscode": {
     "languageId": "r"
    }
   },
   "source": [
    "$S_{pooled}=\\begin{pmatrix}0.04594 & 0.01751\\\\0.01751 &0.01077 \\end{pmatrix}$"
   ]
  },
  {
   "cell_type": "markdown",
   "metadata": {},
   "source": [
    "Fisher 判别式为：  \n",
    "$\\hat{y}=\\hat{a}'x=-4.67x_1-5.12x_2$ , $\\hat{m} = -0.32$  \n",
    "分类为$\\pi_1$：$\\hat{a}x_0-\\hat{m}=-4.67x_1-5.12x_2+0.32 \\geq 0$, 否则为$\\pi_2$  \n",
    "\n",
    "$APER= \\frac{9}{46} = 0.196$"
   ]
  },
  {
   "cell_type": "markdown",
   "metadata": {},
   "source": [
    "因为$S_1,S_2$显著不等，所以Fisher的线性判别函数在这个情况下不是一个好的选择。"
   ]
  },
  {
   "cell_type": "markdown",
   "metadata": {},
   "source": [
    " ### (g)\n",
    " Repeat Parts b–e using the observation pairs $(x_1,x_3)$ and $(x_1,x_4)$ Do some vari\n",
    "ables appear to be better classifiers than others? Explain.\n"
   ]
  },
  {
   "cell_type": "markdown",
   "metadata": {
    "vscode": {
     "languageId": "r"
    }
   },
   "source": [
    "#### $(x_1,x_3)$\n",
    "\n",
    "$\\bar{x}_1=\\begin{pmatrix} -0.0688\\\\1.3675 \\end{pmatrix}$  \n",
    "$S_1=\\begin{pmatrix}0.04424 & 0.03428 \\\\0.03428 & 0.16455   \\end{pmatrix}$  \n",
    "\n",
    "$\\bar{x}_2=\\begin{pmatrix} 0.2354\\\\2.5939 \\end{pmatrix}$  \n",
    "$S_2=\\begin{pmatrix}0.04735 & 0.07543 \\\\0.07543 & 1.04596   \\end{pmatrix}$"
   ]
  },
  {
   "cell_type": "markdown",
   "metadata": {},
   "source": [
    "#### $(x_1,x_4)$\n",
    "$\\bar{x}_1=\\begin{pmatrix} -0.0688\\\\0.8975 \\end{pmatrix}$  \n",
    "$S_1=\\begin{pmatrix}0.04424 & 0.03012 \\\\0.03012 & 0.06364   \\end{pmatrix}$  \n",
    "$\\bar{x}_2=\\begin{pmatrix} 0.2354\\\\1.6339 \\end{pmatrix}$  \n",
    "$S_2=\\begin{pmatrix}0.04735 & 0.04698 \\\\0.04698 & 0.09009   \\end{pmatrix}$"
   ]
  },
  {
   "cell_type": "markdown",
   "metadata": {},
   "source": [
    "### (h)\n",
    "Repeat Parts b–e using observations on all four variables $(X_1,X_2,X_3,X_4)$."
   ]
  },
  {
   "cell_type": "markdown",
   "metadata": {
    "vscode": {
     "languageId": "r"
    }
   },
   "source": [
    "$\n",
    "\\bar{x}_1 = \n",
    "\\begin{bmatrix}\n",
    "-0.0688 \\\\\n",
    "-0.0819 \\\\\n",
    "1.3675 \\\\\n",
    "0.4368\n",
    "\\end{bmatrix},\n",
    "\\quad\n",
    "S_1 = \n",
    "\\begin{bmatrix}\n",
    "0.04424 & 0.02847 & 0.03428 & 0.00431 \\\\\n",
    "0.02847 & 0.02092 & 0.02580 & 0.00362 \\\\\n",
    "0.03428 & 0.02580 & 0.16455 & 0.03300 \\\\\n",
    "0.00431 & 0.00362 & 0.03300 & 0.04441\n",
    "\\end{bmatrix}\n",
    "$\n",
    "\n",
    "$\n",
    "\\bar{x}_2 = \n",
    "\\begin{bmatrix}\n",
    "0.2354 \\\\\n",
    "0.0551 \\\\\n",
    "2.5939 \\\\\n",
    "0.4264\n",
    "\\end{bmatrix},\n",
    "\\quad\n",
    "S_2 = \n",
    "\\begin{bmatrix}\n",
    "0.04735 & 0.00837 & 0.07543 & -0.00662 \\\\\n",
    "0.00837 & 0.00231 & 0.00873 & 0.00031 \\\\\n",
    "0.07543 & 0.00873 & 1.04596 & 0.03177 \\\\\n",
    "-0.00662 & 0.00031 & 0.03177 & 0.02618\n",
    "\\end{bmatrix}\n",
    "$\n"
   ]
  },
  {
   "cell_type": "markdown",
   "metadata": {},
   "source": [
    "***"
   ]
  },
  {
   "cell_type": "markdown",
   "metadata": {},
   "source": [
    "## 12.9\n",
    "\n",
    "The vocabulary “richness” of a text can be quantitatively described by counting the wordsusedonce, the words used twice, and so forth.  \n",
    "Based on these counts, a linguist proposed the following distances between chapters of the Old Testament book Lamentations ( data courtesy of Y. T. Radday and M. A. Pollatschek): \n",
    "***\n",
    "$$\n",
    "\\begin{pmatrix}\n",
    "0 & 0.76 & 2.97 & 4.88 & 3.86\\\\\n",
    "0.76 & 0 & 0.80 & 4.17 & 1.92 \\\\\n",
    "2.97 & 0.80 & 0 & 0.21 & 1.51 \\\\\n",
    "4.88 & 4.17 & 0.21 & 0 & 0.51 \\\\\n",
    "3.86 & 1.92 & 1.51 & 0.51 & 0\n",
    "\\end{pmatrix}\n",
    "$$\n",
    "***\n",
    " Cluster the chapters of Lamentations using the three linkage hierarchical methods we\n",
    " have discussed.  \n",
    " Draw the dendrograms and compare the results.  \n",
    "   \n",
    "   $\\text{(Solution).}$"
   ]
  },
  {
   "cell_type": "code",
   "execution_count": 78,
   "metadata": {
    "vscode": {
     "languageId": "r"
    }
   },
   "outputs": [],
   "source": [
    "X = cbind(c(0, 0.76, 2.97, 4.88, 3.86),\n",
    "          c(0.76, 0, 0.80, 4.17, 1.92),\n",
    "          c(2.97, 0.80, 0, 0.21, 1.51),\n",
    "          c(4.88, 4.17, 0.21, 0, 0.51),\n",
    "          c(3.86, 1.92, 1.51, 0.51, 0))"
   ]
  },
  {
   "cell_type": "code",
   "execution_count": 88,
   "metadata": {
    "vscode": {
     "languageId": "r"
    }
   },
   "outputs": [
    {
     "data": {
      "text/plain": [
       "     1    2    3    4\n",
       "2 0.76               \n",
       "3 2.97 2.21          \n",
       "4 4.88 4.17 3.37     \n",
       "5 3.86 3.10 1.51 2.25"
      ]
     },
     "metadata": {},
     "output_type": "display_data"
    }
   ],
   "source": [
    "Dist.mat = dist(X, method='maximum')\n",
    "Dist.mat"
   ]
  },
  {
   "cell_type": "markdown",
   "metadata": {},
   "source": [
    "### single"
   ]
  },
  {
   "cell_type": "code",
   "execution_count": 89,
   "metadata": {
    "vscode": {
     "languageId": "r"
    }
   },
   "outputs": [
    {
     "data": {
      "image/png": "[encoded data removed]",
      "text/plain": [
       "Plot with title \"Cluster Dendrogram\""
      ]
     },
     "metadata": {
      "image/png": {
       "height": 420,
       "width": 420
      }
     },
     "output_type": "display_data"
    }
   ],
   "source": [
    "h.single <- hclust(Dist.mat, method = \"single\")\n",
    "plot(h.single, hang = -1)"
   ]
  },
  {
   "cell_type": "markdown",
   "metadata": {
    "vscode": {
     "languageId": "r"
    }
   },
   "source": [
    "### complete"
   ]
  },
  {
   "cell_type": "code",
   "execution_count": 90,
   "metadata": {
    "vscode": {
     "languageId": "r"
    }
   },
   "outputs": [
    {
     "data": {
      "image/png": "[encoded data removed]",
      "text/plain": [
       "Plot with title \"Cluster Dendrogram\""
      ]
     },
     "metadata": {
      "image/png": {
       "height": 420,
       "width": 420
      }
     },
     "output_type": "display_data"
    }
   ],
   "source": [
    "h.complete <- hclust(Dist.mat, method = \"complete\")\n",
    "plot(h.complete, hang = -1)"
   ]
  },
  {
   "cell_type": "markdown",
   "metadata": {},
   "source": [
    "***"
   ]
  },
  {
   "cell_type": "markdown",
   "metadata": {},
   "source": [
    "## 12.16\n",
    "\n",
    " The national track records data for women are given in **Table 1.9**."
   ]
  },
  {
   "cell_type": "code",
   "execution_count": 50,
   "metadata": {
    "vscode": {
     "languageId": "r"
    }
   },
   "outputs": [],
   "source": [
    "data12.16 = read.table('D:/A-多元统计分析/Wichern_data/Wichern_data/T1-9.dat')"
   ]
  },
  {
   "cell_type": "code",
   "execution_count": 51,
   "metadata": {
    "vscode": {
     "languageId": "r"
    }
   },
   "outputs": [
    {
     "data": {
      "text/html": [
       "<table class=\"dataframe\">\n",
       "<caption>A data.frame: 6 × 8</caption>\n",
       "<thead>\n",
       "\t<tr><th></th><th scope=col>V1</th><th scope=col>V2</th><th scope=col>V3</th><th scope=col>V4</th><th scope=col>V5</th><th scope=col>V6</th><th scope=col>V7</th><th scope=col>V8</th></tr>\n",
       "\t<tr><th></th><th scope=col>&lt;chr&gt;</th><th scope=col>&lt;dbl&gt;</th><th scope=col>&lt;dbl&gt;</th><th scope=col>&lt;dbl&gt;</th><th scope=col>&lt;dbl&gt;</th><th scope=col>&lt;dbl&gt;</th><th scope=col>&lt;dbl&gt;</th><th scope=col>&lt;dbl&gt;</th></tr>\n",
       "</thead>\n",
       "<tbody>\n",
       "\t<tr><th scope=row>1</th><td>ARG</td><td>11.57</td><td>22.94</td><td>52.50</td><td>2.05</td><td>4.25</td><td>9.19</td><td>150.32</td></tr>\n",
       "\t<tr><th scope=row>2</th><td>AUS</td><td>11.12</td><td>22.23</td><td>48.63</td><td>1.98</td><td>4.02</td><td>8.63</td><td>143.51</td></tr>\n",
       "\t<tr><th scope=row>3</th><td>AUT</td><td>11.15</td><td>22.70</td><td>50.62</td><td>1.94</td><td>4.05</td><td>8.78</td><td>154.35</td></tr>\n",
       "\t<tr><th scope=row>4</th><td>BEL</td><td>11.14</td><td>22.48</td><td>51.45</td><td>1.97</td><td>4.08</td><td>8.82</td><td>143.05</td></tr>\n",
       "\t<tr><th scope=row>5</th><td>BER</td><td>11.46</td><td>23.05</td><td>53.30</td><td>2.07</td><td>4.29</td><td>9.81</td><td>174.18</td></tr>\n",
       "\t<tr><th scope=row>6</th><td>BRA</td><td>11.17</td><td>22.60</td><td>50.62</td><td>1.97</td><td>4.17</td><td>9.04</td><td>147.41</td></tr>\n",
       "</tbody>\n",
       "</table>\n"
      ],
      "text/latex": [
       "A data.frame: 6 × 8\n",
       "\\begin{tabular}{r|llllllll}\n",
       "  & V1 & V2 & V3 & V4 & V5 & V6 & V7 & V8\\\\\n",
       "  & <chr> & <dbl> & <dbl> & <dbl> & <dbl> & <dbl> & <dbl> & <dbl>\\\\\n",
       "\\hline\n",
       "\t1 & ARG & 11.57 & 22.94 & 52.50 & 2.05 & 4.25 & 9.19 & 150.32\\\\\n",
       "\t2 & AUS & 11.12 & 22.23 & 48.63 & 1.98 & 4.02 & 8.63 & 143.51\\\\\n",
       "\t3 & AUT & 11.15 & 22.70 & 50.62 & 1.94 & 4.05 & 8.78 & 154.35\\\\\n",
       "\t4 & BEL & 11.14 & 22.48 & 51.45 & 1.97 & 4.08 & 8.82 & 143.05\\\\\n",
       "\t5 & BER & 11.46 & 23.05 & 53.30 & 2.07 & 4.29 & 9.81 & 174.18\\\\\n",
       "\t6 & BRA & 11.17 & 22.60 & 50.62 & 1.97 & 4.17 & 9.04 & 147.41\\\\\n",
       "\\end{tabular}\n"
      ],
      "text/markdown": [
       "\n",
       "A data.frame: 6 × 8\n",
       "\n",
       "| <!--/--> | V1 &lt;chr&gt; | V2 &lt;dbl&gt; | V3 &lt;dbl&gt; | V4 &lt;dbl&gt; | V5 &lt;dbl&gt; | V6 &lt;dbl&gt; | V7 &lt;dbl&gt; | V8 &lt;dbl&gt; |\n",
       "|---|---|---|---|---|---|---|---|---|\n",
       "| 1 | ARG | 11.57 | 22.94 | 52.50 | 2.05 | 4.25 | 9.19 | 150.32 |\n",
       "| 2 | AUS | 11.12 | 22.23 | 48.63 | 1.98 | 4.02 | 8.63 | 143.51 |\n",
       "| 3 | AUT | 11.15 | 22.70 | 50.62 | 1.94 | 4.05 | 8.78 | 154.35 |\n",
       "| 4 | BEL | 11.14 | 22.48 | 51.45 | 1.97 | 4.08 | 8.82 | 143.05 |\n",
       "| 5 | BER | 11.46 | 23.05 | 53.30 | 2.07 | 4.29 | 9.81 | 174.18 |\n",
       "| 6 | BRA | 11.17 | 22.60 | 50.62 | 1.97 | 4.17 | 9.04 | 147.41 |\n",
       "\n"
      ],
      "text/plain": [
       "  V1  V2    V3    V4    V5   V6   V7   V8    \n",
       "1 ARG 11.57 22.94 52.50 2.05 4.25 9.19 150.32\n",
       "2 AUS 11.12 22.23 48.63 1.98 4.02 8.63 143.51\n",
       "3 AUT 11.15 22.70 50.62 1.94 4.05 8.78 154.35\n",
       "4 BEL 11.14 22.48 51.45 1.97 4.08 8.82 143.05\n",
       "5 BER 11.46 23.05 53.30 2.07 4.29 9.81 174.18\n",
       "6 BRA 11.17 22.60 50.62 1.97 4.17 9.04 147.41"
      ]
     },
     "metadata": {},
     "output_type": "display_data"
    }
   ],
   "source": [
    "head(data12.16)"
   ]
  },
  {
   "cell_type": "code",
   "execution_count": 108,
   "metadata": {
    "vscode": {
     "languageId": "r"
    }
   },
   "outputs": [
    {
     "name": "stdout",
     "output_type": "stream",
     "text": [
      "'data.frame':\t54 obs. of  8 variables:\n",
      " $ V1: chr  \"ARG\" \"AUS\" \"AUT\" \"BEL\" ...\n",
      " $ V2: num  11.6 11.1 11.2 11.1 11.5 ...\n",
      " $ V3: num  22.9 22.2 22.7 22.5 23.1 ...\n",
      " $ V4: num  52.5 48.6 50.6 51.5 53.3 ...\n",
      " $ V5: num  2.05 1.98 1.94 1.97 2.07 1.97 1.97 2 1.93 2.04 ...\n",
      " $ V6: num  4.25 4.02 4.05 4.08 4.29 4.17 4 4.22 3.84 4.34 ...\n",
      " $ V7: num  9.19 8.63 8.78 8.82 9.81 9.04 8.54 9.26 8.1 9.37 ...\n",
      " $ V8: num  150 144 154 143 174 ...\n"
     ]
    }
   ],
   "source": [
    "str(data12.16)"
   ]
  },
  {
   "cell_type": "markdown",
   "metadata": {
    "vscode": {
     "languageId": "r"
    }
   },
   "source": [
    "### (a) \n",
    "Using the data in Table 1.9, calculate the Euclidean distances between pairs of countries.  \n",
    "  \n",
    "  $\\text{(Solution).}$"
   ]
  },
  {
   "cell_type": "code",
   "execution_count": 125,
   "metadata": {
    "vscode": {
     "languageId": "r"
    }
   },
   "outputs": [],
   "source": [
    "Dist.mat = dist(t(data12.16[, -1]), method = 'euclidean')"
   ]
  },
  {
   "cell_type": "code",
   "execution_count": 126,
   "metadata": {
    "vscode": {
     "languageId": "r"
    }
   },
   "outputs": [
    {
     "data": {
      "text/plain": [
       "           V2         V3         V4         V5         V6         V7\n",
       "V3   86.52435                                                       \n",
       "V4  299.03174  212.55657                                            \n",
       "V5   68.64218  155.15028  367.63936                                 \n",
       "V6   52.70732  139.20098  351.69151   15.98901                      \n",
       "V7   17.28169  103.26380  315.69329   52.14796   36.16890           \n",
       "V8 1052.01849  965.87432  754.56447 1120.35804 1104.41549 1068.34424"
      ]
     },
     "metadata": {},
     "output_type": "display_data"
    }
   ],
   "source": [
    "Dist.mat"
   ]
  },
  {
   "cell_type": "markdown",
   "metadata": {
    "vscode": {
     "languageId": "r"
    }
   },
   "source": [
    "### (b) \n",
    "Treating the distances in (a) as measures of (dis)similarity,cluster the countries using the single linkage and complete linkage hierarchical procedures. Construct dendrograms and compare the results.    \n",
    "  $\\text{(Solution).}$"
   ]
  },
  {
   "cell_type": "markdown",
   "metadata": {},
   "source": [
    "#### single"
   ]
  },
  {
   "cell_type": "code",
   "execution_count": 127,
   "metadata": {
    "vscode": {
     "languageId": "r"
    }
   },
   "outputs": [
    {
     "data": {
      "image/png": "[encoded data removed]",
      "text/plain": [
       "Plot with title \"Cluster Dendrogram\""
      ]
     },
     "metadata": {
      "image/png": {
       "height": 420,
       "width": 420
      }
     },
     "output_type": "display_data"
    }
   ],
   "source": [
    "h.single <- hclust(Dist.mat, method = \"single\")\n",
    "plot(h.single, hang = -1)"
   ]
  },
  {
   "cell_type": "markdown",
   "metadata": {
    "vscode": {
     "languageId": "r"
    }
   },
   "source": [
    "#### complete"
   ]
  },
  {
   "cell_type": "code",
   "execution_count": 128,
   "metadata": {
    "vscode": {
     "languageId": "r"
    }
   },
   "outputs": [
    {
     "data": {
      "image/png": "[encoded data removed]",
      "text/plain": [
       "Plot with title \"Cluster Dendrogram\""
      ]
     },
     "metadata": {
      "image/png": {
       "height": 420,
       "width": 420
      }
     },
     "output_type": "display_data"
    }
   ],
   "source": [
    "h.complete <- hclust(Dist.mat, method = \"complete\")\n",
    "plot(h.complete, hang = -1)"
   ]
  },
  {
   "cell_type": "markdown",
   "metadata": {},
   "source": [
    "#### compare"
   ]
  },
  {
   "cell_type": "markdown",
   "metadata": {
    "vscode": {
     "languageId": "r"
    }
   },
   "source": [
    "虽然分类结果相同，但是很明显，complete方法给出的类别间距离整体更大。"
   ]
  },
  {
   "cell_type": "markdown",
   "metadata": {},
   "source": [
    "### (c) \n",
    "Input the data in **Table 1.9** into a K-means clustering program.  \n",
    "Cluster the countries into groups using several values of K.  \n",
    "Compare the results with those in Part b.  \n",
    "  \n",
    "  $\\text{(Solution).}$"
   ]
  },
  {
   "cell_type": "code",
   "execution_count": null,
   "metadata": {
    "vscode": {
     "languageId": "r"
    }
   },
   "outputs": [
    {
     "data": {
      "text/html": [
       "<style>\n",
       ".dl-inline {width: auto; margin:0; padding: 0}\n",
       ".dl-inline>dt, .dl-inline>dd {float: none; width: auto; display: inline-block}\n",
       ".dl-inline>dt::after {content: \":\\0020\"; padding-right: .5ex}\n",
       ".dl-inline>dt:not(:first-of-type) {padding-left: .5ex}\n",
       "</style><dl class=dl-inline><dt>V2</dt><dd>1</dd><dt>V3</dt><dd>1</dd><dt>V4</dt><dd>1</dd><dt>V5</dt><dd>1</dd><dt>V6</dt><dd>1</dd><dt>V7</dt><dd>1</dd><dt>V8</dt><dd>2</dd></dl>\n"
      ],
      "text/latex": [
       "\\begin{description*}\n",
       "\\item[V2] 1\n",
       "\\item[V3] 1\n",
       "\\item[V4] 1\n",
       "\\item[V5] 1\n",
       "\\item[V6] 1\n",
       "\\item[V7] 1\n",
       "\\item[V8] 2\n",
       "\\end{description*}\n"
      ],
      "text/markdown": [
       "V2\n",
       ":   1V3\n",
       ":   1V4\n",
       ":   1V5\n",
       ":   1V6\n",
       ":   1V7\n",
       ":   1V8\n",
       ":   2\n",
       "\n"
      ],
      "text/plain": [
       "V2 V3 V4 V5 V6 V7 V8 \n",
       " 1  1  1  1  1  1  2 "
      ]
     },
     "metadata": {},
     "output_type": "display_data"
    }
   ],
   "source": [
    "set.seed(111)\n",
    "# 生 成nstart组 初 始 点 ， 展 示 最 好 的 结 果\n",
    "km <- kmeans(t(data12.16[, -1]), centers = 2, iter.max = 100, algorithm = \"MacQueen\", nstart = 5)\n",
    "km$cluster"
   ]
  },
  {
   "cell_type": "code",
   "execution_count": null,
   "metadata": {
    "vscode": {
     "languageId": "r"
    }
   },
   "outputs": [
    {
     "data": {
      "text/plain": [
       "\n",
       "1 2 \n",
       "6 1 "
      ]
     },
     "metadata": {},
     "output_type": "display_data"
    }
   ],
   "source": [
    "table(km$cluster)"
   ]
  },
  {
   "cell_type": "code",
   "execution_count": 137,
   "metadata": {
    "vscode": {
     "languageId": "r"
    }
   },
   "outputs": [
    {
     "data": {
      "text/html": [
       "<style>\n",
       ".dl-inline {width: auto; margin:0; padding: 0}\n",
       ".dl-inline>dt, .dl-inline>dd {float: none; width: auto; display: inline-block}\n",
       ".dl-inline>dt::after {content: \":\\0020\"; padding-right: .5ex}\n",
       ".dl-inline>dt:not(:first-of-type) {padding-left: .5ex}\n",
       "</style><dl class=dl-inline><dt>V2</dt><dd>2</dd><dt>V3</dt><dd>3</dd><dt>V4</dt><dd>3</dd><dt>V5</dt><dd>2</dd><dt>V6</dt><dd>2</dd><dt>V7</dt><dd>2</dd><dt>V8</dt><dd>1</dd></dl>\n"
      ],
      "text/latex": [
       "\\begin{description*}\n",
       "\\item[V2] 2\n",
       "\\item[V3] 3\n",
       "\\item[V4] 3\n",
       "\\item[V5] 2\n",
       "\\item[V6] 2\n",
       "\\item[V7] 2\n",
       "\\item[V8] 1\n",
       "\\end{description*}\n"
      ],
      "text/markdown": [
       "V2\n",
       ":   2V3\n",
       ":   3V4\n",
       ":   3V5\n",
       ":   2V6\n",
       ":   2V7\n",
       ":   2V8\n",
       ":   1\n",
       "\n"
      ],
      "text/plain": [
       "V2 V3 V4 V5 V6 V7 V8 \n",
       " 2  3  3  2  2  2  1 "
      ]
     },
     "metadata": {},
     "output_type": "display_data"
    }
   ],
   "source": [
    "set.seed(112)\n",
    "# 生 成nstart组 初 始 点 ， 展 示 最 好 的 结 果\n",
    "km <- kmeans(t(data12.16[, -1]), centers = 3, iter.max = 100, algorithm = \"MacQueen\", nstart = 5)\n",
    "km$cluster"
   ]
  },
  {
   "cell_type": "code",
   "execution_count": 138,
   "metadata": {
    "vscode": {
     "languageId": "r"
    }
   },
   "outputs": [
    {
     "data": {
      "text/plain": [
       "\n",
       "1 2 3 \n",
       "1 4 2 "
      ]
     },
     "metadata": {},
     "output_type": "display_data"
    }
   ],
   "source": [
    "table(km$cluster)"
   ]
  },
  {
   "cell_type": "code",
   "execution_count": 141,
   "metadata": {
    "vscode": {
     "languageId": "r"
    }
   },
   "outputs": [
    {
     "data": {
      "text/html": [
       "<style>\n",
       ".dl-inline {width: auto; margin:0; padding: 0}\n",
       ".dl-inline>dt, .dl-inline>dd {float: none; width: auto; display: inline-block}\n",
       ".dl-inline>dt::after {content: \":\\0020\"; padding-right: .5ex}\n",
       ".dl-inline>dt:not(:first-of-type) {padding-left: .5ex}\n",
       "</style><dl class=dl-inline><dt>V2</dt><dd>3</dd><dt>V3</dt><dd>1</dd><dt>V4</dt><dd>4</dd><dt>V5</dt><dd>3</dd><dt>V6</dt><dd>3</dd><dt>V7</dt><dd>3</dd><dt>V8</dt><dd>2</dd></dl>\n"
      ],
      "text/latex": [
       "\\begin{description*}\n",
       "\\item[V2] 3\n",
       "\\item[V3] 1\n",
       "\\item[V4] 4\n",
       "\\item[V5] 3\n",
       "\\item[V6] 3\n",
       "\\item[V7] 3\n",
       "\\item[V8] 2\n",
       "\\end{description*}\n"
      ],
      "text/markdown": [
       "V2\n",
       ":   3V3\n",
       ":   1V4\n",
       ":   4V5\n",
       ":   3V6\n",
       ":   3V7\n",
       ":   3V8\n",
       ":   2\n",
       "\n"
      ],
      "text/plain": [
       "V2 V3 V4 V5 V6 V7 V8 \n",
       " 3  1  4  3  3  3  2 "
      ]
     },
     "metadata": {},
     "output_type": "display_data"
    }
   ],
   "source": [
    "set.seed(113)\n",
    "# 生 成nstart组 初 始 点 ， 展 示 最 好 的 结 果\n",
    "km <- kmeans(t(data12.16[, -1]), centers = 4, iter.max = 100, algorithm = \"MacQueen\", nstart = 5)\n",
    "km$cluster"
   ]
  },
  {
   "cell_type": "code",
   "execution_count": 142,
   "metadata": {
    "vscode": {
     "languageId": "r"
    }
   },
   "outputs": [
    {
     "data": {
      "text/plain": [
       "\n",
       "1 2 3 4 \n",
       "1 1 4 1 "
      ]
     },
     "metadata": {},
     "output_type": "display_data"
    }
   ],
   "source": [
    "table(km$cluster)"
   ]
  },
  {
   "cell_type": "code",
   "execution_count": 143,
   "metadata": {
    "vscode": {
     "languageId": "r"
    }
   },
   "outputs": [
    {
     "data": {
      "text/html": [
       "<style>\n",
       ".dl-inline {width: auto; margin:0; padding: 0}\n",
       ".dl-inline>dt, .dl-inline>dd {float: none; width: auto; display: inline-block}\n",
       ".dl-inline>dt::after {content: \":\\0020\"; padding-right: .5ex}\n",
       ".dl-inline>dt:not(:first-of-type) {padding-left: .5ex}\n",
       "</style><dl class=dl-inline><dt>V2</dt><dd>4</dd><dt>V3</dt><dd>2</dd><dt>V4</dt><dd>5</dd><dt>V5</dt><dd>1</dd><dt>V6</dt><dd>1</dd><dt>V7</dt><dd>4</dd><dt>V8</dt><dd>3</dd></dl>\n"
      ],
      "text/latex": [
       "\\begin{description*}\n",
       "\\item[V2] 4\n",
       "\\item[V3] 2\n",
       "\\item[V4] 5\n",
       "\\item[V5] 1\n",
       "\\item[V6] 1\n",
       "\\item[V7] 4\n",
       "\\item[V8] 3\n",
       "\\end{description*}\n"
      ],
      "text/markdown": [
       "V2\n",
       ":   4V3\n",
       ":   2V4\n",
       ":   5V5\n",
       ":   1V6\n",
       ":   1V7\n",
       ":   4V8\n",
       ":   3\n",
       "\n"
      ],
      "text/plain": [
       "V2 V3 V4 V5 V6 V7 V8 \n",
       " 4  2  5  1  1  4  3 "
      ]
     },
     "metadata": {},
     "output_type": "display_data"
    }
   ],
   "source": [
    "set.seed(113)\n",
    "# 生 成nstart组 初 始 点 ， 展 示 最 好 的 结 果\n",
    "km <- kmeans(t(data12.16[, -1]), centers = 5, iter.max = 100, algorithm = \"MacQueen\", nstart = 5)\n",
    "km$cluster"
   ]
  },
  {
   "cell_type": "code",
   "execution_count": 144,
   "metadata": {
    "vscode": {
     "languageId": "r"
    }
   },
   "outputs": [
    {
     "data": {
      "text/plain": [
       "\n",
       "1 2 3 4 5 \n",
       "2 1 1 2 1 "
      ]
     },
     "metadata": {},
     "output_type": "display_data"
    }
   ],
   "source": [
    "table(km$cluster)"
   ]
  },
  {
   "cell_type": "markdown",
   "metadata": {},
   "source": [
    "(Part b)中进行了五分类，我们发现，与K-means分类结果**十分接近**。"
   ]
  }
 ],
 "metadata": {
  "kernelspec": {
   "display_name": "R",
   "language": "R",
   "name": "ir"
  },
  "language_info": {
   "codemirror_mode": "r",
   "file_extension": ".r",
   "mimetype": "text/x-r-source",
   "name": "R",
   "pygments_lexer": "r",
   "version": "4.3.2"
  }
 },
 "nbformat": 4,
 "nbformat_minor": 2
}
